{
 "cells": [
  {
   "cell_type": "markdown",
   "metadata": {},
   "source": [
    "# EECS16A Optional Homework"
   ]
  },
  {
   "cell_type": "markdown",
   "metadata": {},
   "source": [
    "##  Audio File Matching\n",
    "\n",
    "This notebook continues the audio file matching problem. Be sure to have song.wav and clip.wav in the same directory as the notebook.\n",
    "\n",
    "In this notebook, we will look at the problem of searching for a small audio clip inside a song.\n",
    "\n",
    "The song \"Mandelbrot Set\" by Jonathan Coulton is licensed under <a href=\"http://creativecommons.org/licenses/by-nc/3.0/\">CC BY-NC 3.0</a>\n",
    "\n",
    "If you have trouble playing the audio file in IPython, try opening it in a different browser. I encountered problem with Safari but Chrome works for me."
   ]
  },
  {
   "cell_type": "markdown",
   "metadata": {},
   "source": [
    "### Setup"
   ]
  },
  {
   "cell_type": "code",
   "execution_count": null,
   "metadata": {},
   "outputs": [],
   "source": [
    "import numpy as np\n",
    "import wave\n",
    "import matplotlib.pyplot as plt\n",
    "import scipy.io.wavfile\n",
    "import operator\n",
    "from IPython.display import Audio\n",
    "%matplotlib inline\n",
    "\n",
    "given_file = 'song.wav'\n",
    "target_file = 'clip.wav'\n",
    "rate_given,  given_signal  = scipy.io.wavfile.read(given_file)\n",
    "rate_target, target_signal = scipy.io.wavfile.read(target_file)\n",
    "given_signal  = given_signal[:2000000].astype(float)\n",
    "target_signal = target_signal.astype(float)\n",
    "def play_clip(start, end, signal=given_signal):\n",
    "    scipy.io.wavfile.write('temp.wav', rate_given, signal[start:end].astype(np.int16))\n",
    "    return Audio(url='temp.wav', autoplay=True)\n",
    "\n",
    "def run_comparison(target_signal, given_signal, idxs=None):\n",
    "    # Run everything if not called with idxs set to something\n",
    "    if idxs is None:\n",
    "        idxs = [i for i in range(len(given_signal)-len(target_signal))]\n",
    "    return idxs, [vector_compare(target_signal, given_signal[i:i+len(target_signal)])\n",
    "                for i in idxs]\n",
    "\n",
    "play_clip(0, len(given_signal))\n",
    "\n",
    "#scipy.io.wavfile.write(target_file, rate_given, (-0.125*given_signal[1380000:1380000+70000]).astype(np.int16))"
   ]
  },
  {
   "cell_type": "markdown",
   "metadata": {},
   "source": [
    "We will load the song into the variable `given_signal` and load the short clip into the variable `target_signal`. Your job is to finish code that will identify the short clip's location in the song. The clip we are trying to find will play after executing the following block."
   ]
  },
  {
   "cell_type": "code",
   "execution_count": null,
   "metadata": {},
   "outputs": [],
   "source": [
    "Audio(url=target_file, autoplay=True)"
   ]
  },
  {
   "cell_type": "markdown",
   "metadata": {},
   "source": [
    "### Part (e)\n",
    "Your task is to define the function 'vector_compare' and run the following code. Because the song has a lot of data, you should use the provided examples from the previous parts of the problem before running the later code. Do you results here make sense given your answers to previous parts of the problem?"
   ]
  },
  {
   "cell_type": "code",
   "execution_count": null,
   "metadata": {},
   "outputs": [],
   "source": [
    "def vector_compare(desired_vec, test_vec):\n",
    "    \"\"\"This function compares two vectors, returning a number.\n",
    "    The test vector with the highest return value is regarded as being closest to the desired vector.\"\"\"\n",
    "   #YOUR CODE HERE\n",
    "\n",
    "print(\"Vector compare test examples:\")\n",
    "print(vector_compare(np.array([1,1,1]), np.array([1,1,1])))\n",
    "print(vector_compare(np.array([1,1,1]), np.array([-1,-1,-1])))\n",
    "print(vector_compare(np.array([1,1,1]), np.array([-1,1,-1])))"
   ]
  },
  {
   "cell_type": "markdown",
   "metadata": {},
   "source": [
    "Run the following code that runs `vector_compare` on every subsequence in the song- it will probably take at least 5 minutes. How do you interpret this plot to find where the clip is in the song?"
   ]
  },
  {
   "cell_type": "code",
   "execution_count": null,
   "metadata": {},
   "outputs": [],
   "source": [
    "import time\n",
    "\n",
    "t0 = time.time()\n",
    "idxs, song_compare = run_comparison(target_signal, given_signal)\n",
    "t1 = time.time()\n",
    "plt.plot(idxs, song_compare)\n",
    "print (\"That took %(time).2f minutes to run\" % {'time':(t1-t0)/60.0} )"
   ]
  },
  {
   "cell_type": "markdown",
   "metadata": {},
   "source": [
    "In the space below, write code that uses `song_compare` to print the index of `given_signal` where `target_signal` begins. Then, verify that your answer is correct by playing the song at that index using the `play_clip` function."
   ]
  },
  {
   "cell_type": "code",
   "execution_count": null,
   "metadata": {},
   "outputs": [],
   "source": [
    "#YOUR CODE HERE"
   ]
  },
  {
   "cell_type": "markdown",
   "metadata": {
    "collapsed": true
   },
   "source": [
    "##  Noisy Trilateration"
   ]
  },
  {
   "cell_type": "markdown",
   "metadata": {},
   "source": [
    "In lecture, we learned how the GPS receiver determines its location once it knows the distance of the various signaling beacons from itself.\n",
    "This method is called *trilateration*.\n",
    "\n",
    "In this demonstration, we're going to further explore the connection between trilateration and least squares through a toy problem with four beacons and one GPS receiver.\n",
    "\n",
    "We are given *three* possible sets of measurements for the distances of each of the beacons from the receiver:\n",
    "\n",
    "1. First, the ideal set of measurements. $d_1 = d_2 = d_3 = d_4 = 5$.\n",
    "2. Next, a set of imperfect measurements. $d_1 = 5, d_2 = 4.5, d_3 = 5, d_4 = 5.5$.\n",
    "3. Finally, a set of mostly perfect measurements, but $d_1$ is a very bad measurement. We have $d_1 = 6.5$ and $d_2 = d_3 = d_4 = 5$."
   ]
  },
  {
   "cell_type": "markdown",
   "metadata": {},
   "source": [
    "First, we set up some notation for the positions of the beacons, as well as their respective distances from the receivers."
   ]
  },
  {
   "cell_type": "code",
   "execution_count": null,
   "metadata": {
    "scrolled": true
   },
   "outputs": [],
   "source": [
    "from utils import *\n",
    "\n",
    "ideal_distances = [5, 5, 5, 5]\n",
    "imperfect_distances = [5.5, 4.5, 5, 5]\n",
    "one_bad_distances = [6.5, 5, 5, 5]\n",
    "\n",
    "#these are the coordinates of the beacons\n",
    "positions = np.array([\n",
    "    [0, -5],\n",
    "    [-5 / 2, 5 * np.sqrt(3) / 2],\n",
    "    [0, 5],\n",
    "    [5 / 2, 5 * np.sqrt(3) / 2],\n",
    "])\n",
    "\n",
    "xpositions = positions[:, 0]\n",
    "ypositions = positions[:, 1]\n",
    "\n",
    "# setup to make the helper functions work\n",
    "register(positions=positions)\n",
    "register(xpositions=xpositions)\n",
    "register(ypositions=ypositions)"
   ]
  },
  {
   "cell_type": "markdown",
   "metadata": {},
   "source": [
    "### Part (d)\n",
    "\n",
    "Now, for each of the three above cases, let's plot a circle for each beacon whose radius corresponds to the reported distance of the receiver. The intersection of the circles will tell us, intuitively, where the receiver is located! (Note that the circles do not necessarily intersect at one point for all three of the cases. Think about what this means)."
   ]
  },
  {
   "cell_type": "code",
   "execution_count": null,
   "metadata": {
    "scrolled": false
   },
   "outputs": [],
   "source": [
    "plot(ideal_distances)"
   ]
  },
  {
   "cell_type": "code",
   "execution_count": null,
   "metadata": {},
   "outputs": [],
   "source": [
    "plot(imperfect_distances)"
   ]
  },
  {
   "cell_type": "code",
   "execution_count": null,
   "metadata": {
    "scrolled": true
   },
   "outputs": [],
   "source": [
    "plot(one_bad_distances)"
   ]
  },
  {
   "cell_type": "markdown",
   "metadata": {},
   "source": [
    "### Part (e)\n",
    "\n",
    "Now, let's solve for the location of the receiver, $\\begin{bmatrix}x \\\\ y\\end{bmatrix}$, using least squares.\n",
    "\n",
    "Recall that we made the system of equations linear by subtracting the equation for the first beacon from each of the equations for the other beacons.\n",
    "\n",
    "This will result in the system of equations:\n",
    "\\begin{equation}\n",
    "A\\begin{bmatrix}x \\\\ y \\end{bmatrix} = \\vec{b}\n",
    "\\end{equation}\n",
    "\n",
    "You will define $A$ and $\\vec{b}$ in the code blocks below."
   ]
  },
  {
   "cell_type": "code",
   "execution_count": null,
   "metadata": {
    "scrolled": true
   },
   "outputs": [],
   "source": [
    "A = np.zeros((3,2))\n",
    "\n",
    "A[0][0] = #YOUR CODE HERE\n",
    "A[0][1] = #YOUR CODE HERE\n",
    "A[1][0] = #YOUR CODE HERE\n",
    "A[1][1] = #YOUR CODE HERE\n",
    "A[2][0] = #YOUR CODE HERE\n",
    "A[2][1] = #YOUR CODE HERE\n",
    "print(A)"
   ]
  },
  {
   "cell_type": "markdown",
   "metadata": {},
   "source": [
    "### Part (f)\n",
    "Fill in the entries of `b` in the below function to correspond to the entries of $\\vec{b}$ from the problem."
   ]
  },
  {
   "cell_type": "code",
   "execution_count": null,
   "metadata": {
    "scrolled": true
   },
   "outputs": [],
   "source": [
    "def make_b(distances):\n",
    "    \"\"\"\n",
    "    Since `b` depends on `distances`, we implement it using a function, so we can generate\n",
    "    different `b` vectors depending of which set of distances we are interested in,\n",
    "    (i.e. ideal_distances, imperfect_distances, or one_bad_distances)\n",
    "    \n",
    "    Examples of how to call the function:\n",
    "    make_values(ideal_distances) OR\n",
    "    make_values(imperfect_distances) OR\n",
    "    make_values(one_bad_distances)\n",
    "    \"\"\"\n",
    "\n",
    "    b = np.zeros(3)\n",
    "    \n",
    "    b[0] = #YOUR CODE HERE\n",
    "    b[1] = #YOUR CODE HERE\n",
    "    b[2] = #YOUR CODE HERE\n",
    "    \n",
    "    return b\n",
    "\n",
    "make_b(ideal_distances)"
   ]
  },
  {
   "cell_type": "markdown",
   "metadata": {},
   "source": [
    "### Part (g)\n",
    "\n",
    "Now, calculate the linear least squares estimate for the `ideal_distances` data and plot the results. We have given you code for the implementation for this part."
   ]
  },
  {
   "cell_type": "code",
   "execution_count": null,
   "metadata": {
    "scrolled": true
   },
   "outputs": [],
   "source": [
    "def estimate_position(distances):\n",
    "    U1 = np.dot(A.T, A)\n",
    "    U2 = np.dot(A.T, make_b(distances))\n",
    "    least_squares_sol = np.dot(np.linalg.inv(U1),U2)\n",
    "    return least_squares_sol\n",
    "\n",
    "estimate_position(ideal_distances)"
   ]
  },
  {
   "cell_type": "code",
   "execution_count": null,
   "metadata": {},
   "outputs": [],
   "source": [
    "plot(ideal_distances)\n",
    "plot_point(estimate_position(ideal_distances))"
   ]
  },
  {
   "cell_type": "markdown",
   "metadata": {},
   "source": [
    "What about for the `imperfect_distances` and `one_bad_distances`? Copy and modify the above code to compute and plot the least-squares trilateration solutions for those two cases, and comment on the quality of the solution in each case.\n",
    "\n",
    "In particular, for `one_bad_distances`, is the solution the best possible? In other words, if you were trying to identify your position from the graph by hand, would you have chosen the same point that our trilateration solution did?"
   ]
  },
  {
   "cell_type": "code",
   "execution_count": null,
   "metadata": {},
   "outputs": [],
   "source": [
    "### imperfect_distances case\n",
    "\n",
    "#YOUR CODE HERE"
   ]
  },
  {
   "cell_type": "code",
   "execution_count": null,
   "metadata": {},
   "outputs": [],
   "source": [
    "### one_bad_distances case\n",
    "\n",
    "#YOUR CODE HERE"
   ]
  },
  {
   "cell_type": "markdown",
   "metadata": {},
   "source": [
    "##  Sparse Imaging\n",
    "\n",
    "This example generates a sparse signal and tries to recover it using the Orthogonal Matching Pursuit algorithm."
   ]
  },
  {
   "cell_type": "code",
   "execution_count": null,
   "metadata": {},
   "outputs": [],
   "source": [
    "# imports\n",
    "#First, run the following command in your terminal to install for \"import cv2\" to work, otherwise you will get ModuleNotFoundError:\n",
    "#  pip install opencv-python\n",
    "import matplotlib.pyplot as plt\n",
    "import numpy as np\n",
    "from scipy import misc\n",
    "from IPython import display\n",
    "import sys\n",
    "import cv2\n",
    "%matplotlib inline\n",
    "\n",
    "def randMasks(numMasks, numPixels):\n",
    "    randNormalMat = np.random.normal(0,1,(numMasks,numPixels))\n",
    "    # make the columns zero mean and normalize\n",
    "    for k in range(numPixels):\n",
    "        # make zero mean\n",
    "        randNormalMat[:,k] = randNormalMat[:,k] - np.mean(randNormalMat[:,k])\n",
    "        # normalize to unit norm\n",
    "        randNormalMat[:,k] = randNormalMat[:,k] / np.linalg.norm(randNormalMat[:,k])\n",
    "    A = randNormalMat.copy()\n",
    "    Mask = randNormalMat - np.min(randNormalMat)    \n",
    "    return Mask,A\n",
    "\n",
    "def simulate():\n",
    "    # read the image in grayscale\n",
    "    I = np.load('helper.npy')\n",
    "    sp = np.sum(I)\n",
    "    numMeasurements = 6500\n",
    "    numPixels = I.size\n",
    "    Mask, A = randMasks(numMeasurements,numPixels)\n",
    "    full_signal = I.reshape((numPixels,1))\n",
    "    measurements = np.dot(Mask,full_signal)\n",
    "    measurements = measurements - np.mean(measurements)\n",
    "    return measurements, A    "
   ]
  },
  {
   "cell_type": "markdown",
   "metadata": {},
   "source": [
    "### Part (a)"
   ]
  },
  {
   "cell_type": "code",
   "execution_count": null,
   "metadata": {},
   "outputs": [],
   "source": [
    "measurements, A = simulate()\n",
    "\n",
    "# THE SETTINGS FOR THE IMAGE - PLEASE DO NOT CHANGE\n",
    "height = 91\n",
    "width = 120\n",
    "sparsity = 476\n",
    "numPixels = len(A[0])"
   ]
  },
  {
   "cell_type": "code",
   "execution_count": null,
   "metadata": {},
   "outputs": [],
   "source": [
    "# CHOOSE DIFFERENT MASKS TO PLOT\n",
    "chosenMaskToDisplay = 0\n",
    "\n",
    "M0 = A[chosenMaskToDisplay].reshape((height,width))\n",
    "plt.title('mask %d'%chosenMaskToDisplay)\n",
    "plt.imshow(M0, cmap=plt.cm.gray, interpolation='nearest');"
   ]
  },
  {
   "cell_type": "code",
   "execution_count": null,
   "metadata": {},
   "outputs": [],
   "source": [
    "# measurements\n",
    "plt.title('measurements')\n",
    "plt.plot(measurements)\n",
    "plt.xlabel('measurement index')\n",
    "plt.show()"
   ]
  },
  {
   "cell_type": "code",
   "execution_count": null,
   "metadata": {},
   "outputs": [],
   "source": [
    "# OMP algorithm\n",
    "# THERE ARE MISSING LINES THAT YOU NEED TO FILL\n",
    "def OMP(imDims, sparsity, measurements, A):\n",
    "    r = measurements.copy()\n",
    "    indices = []\n",
    "    \n",
    "    # Threshold to check error. If error is below this value, stop.\n",
    "    THRESHOLD = 0.1\n",
    "    \n",
    "    # For iterating to recover all signal\n",
    "    i = 0\n",
    "    \n",
    "    while i < sparsity and np.linalg.norm(r) > THRESHOLD: \n",
    "       # Calculate the inner products of r with columns of A\n",
    "        print('%d - '%i,end=\"\",flush=True)\n",
    "        simvec = A.T.dot(r)\n",
    "\n",
    "        # Choose pixel location with highest inner product and add to collection\n",
    "        # COMPLETE THE LINE BELOW\n",
    "        best_index = np.argmax(np.abs(COMPLETE_HERE))\n",
    "        indices.append(best_index)\n",
    "\n",
    "        # Build the matrix made up of selected indices so far\n",
    "        # COMPLETE THE LINE BELOW\n",
    "        Atrunc = A[:,COMPLETE_HERE]\n",
    "\n",
    "        # Find orthogonal projection of measurements to subspace\n",
    "        # spanned by recovered codewords\n",
    "        b = measurements\n",
    "        # COMPLETE THE LINE BELOW\n",
    "        xhat = np.linalg.lstsq(COMPLETE_HERE, COMPLETE_HERE)[0]  \n",
    "\n",
    "        # Find component orthogonal to subspace to use for next measurement\n",
    "        # COMPLETE THE LINE BELOW\n",
    "        r = b - Atrunc.dot(COMPLETE_HERE)\n",
    "\n",
    "        # This is for viewing the recovery process\n",
    "        if i % 10 == 0 or i == sparsity-1 or np.linalg.norm(r) <= THRESHOLD:\n",
    "            recovered_signal = np.zeros(numPixels)\n",
    "            for j, x in zip(indices, xhat):\n",
    "                recovered_signal[j] = x\n",
    "            Ihat = recovered_signal.reshape(imDims)\n",
    "            plt.title('estimated image')\n",
    "            plt.imshow(Ihat, cmap=plt.cm.gray, interpolation='nearest') \n",
    "            display.clear_output(wait=True)\n",
    "            display.display(plt.gcf())\n",
    "        \n",
    "        i = i + 1\n",
    "        \n",
    "    display.clear_output(wait=True)\n",
    "\n",
    "    # Fill in the recovered signal\n",
    "    recovered_signal = np.zeros(numPixels)\n",
    "    for i, x in zip(indices, xhat):\n",
    "        recovered_signal[i] = x\n",
    "    \n",
    "    return recovered_signal"
   ]
  },
  {
   "cell_type": "markdown",
   "metadata": {},
   "source": [
    "### Part (b)"
   ]
  },
  {
   "cell_type": "code",
   "execution_count": null,
   "metadata": {},
   "outputs": [],
   "source": [
    "rec = OMP((height,width), sparsity, measurements, A)"
   ]
  },
  {
   "cell_type": "markdown",
   "metadata": {},
   "source": [
    "### Part (c)\n"
   ]
  },
  {
   "cell_type": "code",
   "execution_count": null,
   "metadata": {},
   "outputs": [],
   "source": [
    "# the setting\n",
    "\n",
    "# file name for the sparse image\n",
    "fname = 'smiley.png'\n",
    "# number of measurements to be taken from the sparse image\n",
    "numMeasurements = 6500\n",
    "# the sparsity of the image\n",
    "sparsity = 400\n",
    "\n",
    "# read the image in black and white\n",
    "image_gray = cv2.imread(fname, cv2.IMREAD_GRAYSCALE)\n",
    "image_bw = cv2.threshold(image_gray, 128, 255, cv2.THRESH_BINARY)[1]\n",
    "\n",
    "# normalize the image to be between 0 and 1\n",
    "I=image_bw/255.0\n",
    "\n",
    "# shape of the image\n",
    "imageShape = I.shape\n",
    "# number of pixels in the image\n",
    "numPixels = I.size\n",
    "\n",
    "plt.title('input image')\n",
    "plt.imshow(I, cmap=plt.cm.gray, interpolation='nearest');"
   ]
  },
  {
   "cell_type": "code",
   "execution_count": null,
   "metadata": {},
   "outputs": [],
   "source": [
    "# generate your image masks and the underlying measurement matrix\n",
    "Mask, A = randMasks(numMeasurements,numPixels)\n",
    "# vectorize your image\n",
    "full_signal = I.reshape((numPixels,1))\n",
    "# get the measurements\n",
    "measurements = np.dot(Mask,full_signal)\n",
    "# remove the mean from your measurements\n",
    "measurements = measurements - np.mean(measurements)"
   ]
  },
  {
   "cell_type": "code",
   "execution_count": null,
   "metadata": {},
   "outputs": [],
   "source": [
    "# measurements\n",
    "plt.title('measurements')\n",
    "plt.plot(measurements)\n",
    "plt.xlabel('measurement index')\n",
    "plt.show()"
   ]
  },
  {
   "cell_type": "code",
   "execution_count": null,
   "metadata": {},
   "outputs": [],
   "source": [
    "rec = OMP(imageShape, sparsity, measurements, A)"
   ]
  }
 ],
 "metadata": {
  "kernelspec": {
   "display_name": "Python 3",
   "language": "python",
   "name": "python3"
  },
  "language_info": {
   "codemirror_mode": {
    "name": "ipython",
    "version": 3
   },
   "file_extension": ".py",
   "mimetype": "text/x-python",
   "name": "python",
   "nbconvert_exporter": "python",
   "pygments_lexer": "ipython3",
   "version": "3.8.5"
  }
 },
 "nbformat": 4,
 "nbformat_minor": 1
}
