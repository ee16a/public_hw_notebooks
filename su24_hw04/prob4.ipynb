{
  "nbformat": 4,
  "nbformat_minor": 0,
  "metadata": {
    "colab": {
      "provenance": []
    },
    "kernelspec": {
      "name": "python3",
      "display_name": "Python 3"
    },
    "language_info": {
      "name": "python"
    }
  },
  "cells": [
    {
      "cell_type": "markdown",
      "source": [
        "# Problem: Maximum Power Transfer"
      ],
      "metadata": {
        "id": "34IcecoOK8Fc"
      }
    },
    {
      "cell_type": "code",
      "source": [
        "import matplotlib.pyplot as plt\n",
        "from matplotlib.widgets import Slider\n",
        "import numpy as np"
      ],
      "metadata": {
        "id": "dVkHp9pfK7LQ"
      },
      "execution_count": null,
      "outputs": []
    },
    {
      "cell_type": "markdown",
      "source": [
        "## Initialization"
      ],
      "metadata": {
        "id": "3gGoDBVVV89c"
      }
    },
    {
      "cell_type": "code",
      "source": [
        "vs = 100e-6\n",
        "rs = 50"
      ],
      "metadata": {
        "id": "4iKW6lPlczRp"
      },
      "execution_count": null,
      "outputs": []
    },
    {
      "cell_type": "markdown",
      "source": [
        "# Part (c)\n",
        "\n",
        "## Function for power"
      ],
      "metadata": {
        "id": "_CBvaj6AWAcg"
      }
    },
    {
      "cell_type": "code",
      "source": [
        "def power(vs, rs, rl):\n",
        "  ## Fill this part."
      ],
      "metadata": {
        "id": "0q2Wc8FuWDOO"
      },
      "execution_count": null,
      "outputs": []
    },
    {
      "cell_type": "markdown",
      "source": [
        "## Run the cell below to generate the plot for P_L vs R_L."
      ],
      "metadata": {
        "id": "Tjhjdf_PwcRn"
      }
    },
    {
      "cell_type": "code",
      "source": [
        "rl = np.arange(1000)  ## Try changing this value.\n",
        "pl = []\n",
        "for i in range((len(rl))):\n",
        "  pl.append(power(vs, rs, rl[i]))\n",
        "pl = np.array(pl)\n",
        "\n",
        "plt.figure()\n",
        "plt.plot(rl, pl)\n",
        "plt.xlabel(\"$R_L$\")\n",
        "plt.ylabel(\"$P_L$\")\n",
        "plt.title(\"$P_L$ vs $R_L$\")"
      ],
      "metadata": {
        "id": "ngr8ZY3mdBYF"
      },
      "execution_count": null,
      "outputs": []
    },
    {
      "cell_type": "markdown",
      "source": [
        "## Obtain the R_L that maximizes P_L and the maximum value of P_L."
      ],
      "metadata": {
        "id": "dnbMpSKkwdP5"
      }
    },
    {
      "cell_type": "code",
      "source": [
        "rl_at_max_power =  ## Fill this part. Hint: use function like np.argmax.\n",
        "max_power =  ## Fill this part. Hint: use function like np.max.\n",
        "\n",
        "print(\"Load Resistance at maximum power (in Ohms): \", end=\"\")\n",
        "print(rl_at_max_power)\n",
        "print(\"Maximum power (in W): \", end=\"\")\n",
        "print(np.round(max_power, 11))"
      ],
      "metadata": {
        "id": "y1xgoEPqeQ7N"
      },
      "execution_count": null,
      "outputs": []
    }
  ]
}