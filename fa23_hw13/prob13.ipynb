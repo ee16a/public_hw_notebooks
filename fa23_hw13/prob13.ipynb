{
 "cells": [
  {
   "cell_type": "markdown",
   "metadata": {},
   "source": [
    "# EECS16A HW 13"
   ]
  },
  {
   "cell_type": "markdown",
   "metadata": {},
   "source": [
    "##  Audio File Matching\n",
    "\n",
    "This notebook continues the audio file matching problem. Be sure to have song.wav and clip.wav in the same directory as the notebook.\n",
    "\n",
    "In this notebook, we will look at the problem of searching for a small audio clip inside a song.\n",
    "\n",
    "The song \"Mandelbrot Set\" by Jonathan Coulton is licensed under <a href=\"http://creativecommons.org/licenses/by-nc/3.0/\">CC BY-NC 3.0</a>\n",
    "\n",
    "If you have trouble playing the audio file in IPython, try opening it in a different browser. I encountered problem with Safari but Chrome works for me."
   ]
  },
  {
   "cell_type": "markdown",
   "metadata": {},
   "source": [
    "### Setup"
   ]
  },
  {
   "cell_type": "code",
   "execution_count": null,
   "metadata": {},
   "outputs": [],
   "source": [
    "import numpy as np\n",
    "import wave\n",
    "import matplotlib.pyplot as plt\n",
    "import scipy.io.wavfile\n",
    "import operator\n",
    "from IPython.display import Audio\n",
    "%matplotlib inline\n",
    "\n",
    "given_file = 'song.wav'\n",
    "target_file = 'clip.wav'\n",
    "rate_given,  given_signal  = scipy.io.wavfile.read(given_file)\n",
    "rate_target, target_signal = scipy.io.wavfile.read(target_file)\n",
    "given_signal  = given_signal[:2000000].astype(float)\n",
    "target_signal = target_signal.astype(float)\n",
    "def play_clip(start, end, signal=given_signal):\n",
    "    scipy.io.wavfile.write('temp.wav', rate_given, signal[start:end].astype(np.int16))\n",
    "    return Audio(url='temp.wav', autoplay=True)\n",
    "\n",
    "def run_comparison(target_signal, given_signal, idxs=None):\n",
    "    # Run everything if not called with idxs set to something\n",
    "    if idxs is None:\n",
    "        idxs = [i for i in range(len(given_signal)-len(target_signal))]\n",
    "    return idxs, [vector_compare(target_signal, given_signal[i:i+len(target_signal)])\n",
    "                for i in idxs]\n",
    "\n",
    "play_clip(0, len(given_signal))"
   ]
  },
  {
   "cell_type": "markdown",
   "metadata": {},
   "source": [
    "We will load the song into the variable `given_signal` and load the short clip into the variable `target_signal`. Your job is to finish code that will identify the short clip's location in the song. The clip we are trying to find will play after executing the following block."
   ]
  },
  {
   "cell_type": "code",
   "execution_count": null,
   "metadata": {},
   "outputs": [],
   "source": [
    "Audio(url=target_file, autoplay=True)"
   ]
  },
  {
   "cell_type": "markdown",
   "metadata": {},
   "source": [
    "### Part (e)\n",
    "Your task is to define the function 'vector_compare' and run the following code. Because the song has a lot of data, you should use the provided examples from the previous parts of the problem before running the later code. Do you results here make sense given your answers to previous parts of the problem?"
   ]
  },
  {
   "cell_type": "code",
   "execution_count": null,
   "metadata": {},
   "outputs": [],
   "source": [
    "def vector_compare(desired_vec, test_vec):\n",
    "    \"\"\"This function compares two vectors, returning a number.\n",
    "    The test vector with the highest return value is regarded as being closest to the desired vector.\"\"\"\n",
    "   #YOUR CODE HERE\n",
    "\n",
    "print(\"Vector compare test examples:\")\n",
    "print(vector_compare(np.array([1,1,1]), np.array([1,1,1])))\n",
    "print(vector_compare(np.array([1,1,1]), np.array([-1,-1,-1])))\n",
    "print(vector_compare(np.array([1,1,1]), np.array([-1,1,-1])))"
   ]
  },
  {
   "cell_type": "markdown",
   "metadata": {},
   "source": [
    "Run the following code that runs `vector_compare` on every subsequence in the song- it will probably take at least 5 minutes. How do you interpret this plot to find where the clip is in the song?"
   ]
  },
  {
   "cell_type": "code",
   "execution_count": null,
   "metadata": {},
   "outputs": [],
   "source": [
    "import time\n",
    "\n",
    "t0 = time.time()\n",
    "idxs, song_compare = run_comparison(target_signal, given_signal)\n",
    "t1 = time.time()\n",
    "plt.plot(idxs, song_compare)\n",
    "print (\"That took %(time).2f minutes to run\" % {'time':(t1-t0)/60.0} )"
   ]
  },
  {
   "cell_type": "markdown",
   "metadata": {},
   "source": [
    "In the space below, write code that uses `song_compare` to print the index of `given_signal` where `target_signal` begins. Then, verify that your answer is correct by playing the song at that index using the `play_clip` function."
   ]
  },
  {
   "cell_type": "code",
   "execution_count": null,
   "metadata": {},
   "outputs": [],
   "source": [
    "#YOUR CODE HERE"
   ]
  },
  {
   "cell_type": "markdown",
   "metadata": {},
   "source": [
    "# Noise Cancelling Headphones"
   ]
  },
  {
   "cell_type": "code",
   "execution_count": null,
   "metadata": {},
   "outputs": [],
   "source": [
    "%matplotlib inline\n",
    "\n",
    "import numpy as np\n",
    "from matplotlib.pyplot import plot\n",
    "from scipy.io import wavfile\n",
    "\n",
    "from audio_support import wavPlayer\n",
    "from audio_support import loadSounds\n",
    "from audio_support import recordAmbientNoise"
   ]
  },
  {
   "cell_type": "markdown",
   "metadata": {},
   "source": [
    "### Part b)\n",
    "In the following cell, implement the least squares solution to \n",
    "$$min_{\\vec x} \\left| A \\vec x - \\vec b \\right|$$"
   ]
  },
  {
   "cell_type": "code",
   "execution_count": null,
   "metadata": {},
   "outputs": [],
   "source": [
    "def doLeastSquares(A,b):\n",
    "    # BEGIN\n",
    "    \n",
    "    # END\n",
    "    return x;  "
   ]
  },
  {
   "cell_type": "markdown",
   "metadata": {},
   "source": [
    "### Part c)\n",
    "Use your least squares solution to find the gamma that minimizes the effect of noise given:\n",
    "\n",
    "$$\\vec n = \\begin{bmatrix} 0.10\\\\ 0.37\\\\-0.45\\\\0.068\\\\0.036 \\end{bmatrix};\n",
    "\t\\vec r_A = \\begin{bmatrix} 0\\\\ 0.11\\\\-0.31\\\\-0.012\\\\-0.018 \\end{bmatrix};\n",
    "\t\\vec r_B = \\begin{bmatrix} 0\\\\ 0.22\\\\-0.20\\\\0.080\\\\0.056 \\end{bmatrix};\n",
    "\t\\vec r_C = \\begin{bmatrix} 0\\\\ 0.37\\\\-0.44\\\\0.065\\\\0.038 \\end{bmatrix}$$\n"
   ]
  },
  {
   "cell_type": "code",
   "execution_count": null,
   "metadata": {},
   "outputs": [],
   "source": [
    "n1 = 0.10;\n",
    "n2 = 0.37;\n",
    "n3 = -0.45;\n",
    "n4 = 0.068;\n",
    "n5 = 0.036;\n",
    "\n",
    "a1 = 0;\n",
    "a2 = 0.11;\n",
    "a3 = -0.31;\n",
    "a4 = -0.012;\n",
    "a5 = -0.018;\n",
    "\n",
    "b1 = 0;\n",
    "b2 = 0.22;\n",
    "b3 = -0.20;\n",
    "b4 = 0.080;\n",
    "b5 = 0.056;\n",
    "\n",
    "c1 = 0;\n",
    "c2 = 0.37;\n",
    "c3 = -0.44;\n",
    "c4 = 0.065;\n",
    "c5 = 0.038;\n",
    "\n",
    "# BEGIN\n",
    "\n",
    "'...'\n",
    "gamma = \n",
    "\n",
    "# END\n",
    "print(gamma)"
   ]
  },
  {
   "cell_type": "markdown",
   "metadata": {},
   "source": [
    "<font color=\"red\">Report the results for your gamma-vector."
   ]
  },
  {
   "cell_type": "markdown",
   "metadata": {},
   "source": [
    "### Part d)\n",
    "First, we'll load the sounds from the included .wav files."
   ]
  },
  {
   "cell_type": "code",
   "execution_count": null,
   "metadata": {},
   "outputs": [],
   "source": [
    "[music_Fs, music_y, noise1_y, noise1_Fs, noise2_y, noise2_Fs] = loadSounds();"
   ]
  },
  {
   "cell_type": "code",
   "execution_count": null,
   "metadata": {},
   "outputs": [],
   "source": [
    "noise1_y"
   ]
  },
  {
   "cell_type": "markdown",
   "metadata": {},
   "source": [
    "We can use the following function to listen to our signals throughout this notebook. \n",
    "\n",
    "<font color=\"red\">Listen to each of the loaded sounds (`music_y`, `noise1_y`, and `noise2_y`). What do you hear?"
   ]
  },
  {
   "cell_type": "code",
   "execution_count": null,
   "metadata": {},
   "outputs": [],
   "source": [
    "wavPlayer(music_y, music_Fs)"
   ]
  },
  {
   "cell_type": "markdown",
   "metadata": {},
   "source": [
    "Add the first noise to the signal and listen to the result."
   ]
  },
  {
   "cell_type": "code",
   "execution_count": null,
   "metadata": {},
   "outputs": [],
   "source": [
    "noisyMusic = music_y + noise1_y;\n",
    "wavPlayer(noisyMusic, music_Fs)"
   ]
  },
  {
   "cell_type": "markdown",
   "metadata": {},
   "source": [
    "<font color=\"red\">Add the second noise to the signal and listen to the result."
   ]
  },
  {
   "cell_type": "code",
   "execution_count": null,
   "metadata": {},
   "outputs": [],
   "source": [
    "# BEGIN\n",
    "\n",
    "# END"
   ]
  },
  {
   "cell_type": "markdown",
   "metadata": {},
   "source": [
    "### Part e)\n",
    "Next, we will simulate the recording of `noise1` using a simulated microphone array."
   ]
  },
  {
   "cell_type": "code",
   "execution_count": null,
   "metadata": {},
   "outputs": [],
   "source": [
    "numberOfMicrophones = 3;\n",
    "R = recordAmbientNoise(noise1_y,noise1_Fs,numberOfMicrophones);\n"
   ]
  },
  {
   "cell_type": "markdown",
   "metadata": {},
   "source": [
    "<font color=\"red\">In the cell below, calculate the gamma-vector using the least squares approach (you should calculate `gamma` from `R` and `noise1_y`). "
   ]
  },
  {
   "cell_type": "code",
   "execution_count": null,
   "metadata": {},
   "outputs": [],
   "source": [
    "# BEGIN\n",
    "gamma = \n",
    "# END"
   ]
  },
  {
   "cell_type": "markdown",
   "metadata": {},
   "source": [
    "<font color=\"red\">In the cell below, create the noise cancellation signal by multiplying `R` and `gamma`. Add the result to `music_y` (with the right sign) to get `signalFromSpeaker`."
   ]
  },
  {
   "cell_type": "code",
   "execution_count": null,
   "metadata": {},
   "outputs": [],
   "source": [
    "# BEGIN\n",
    "'...'\n",
    "signalFromSpeaker = \n",
    "# END"
   ]
  },
  {
   "cell_type": "markdown",
   "metadata": {},
   "source": [
    "### Part f)\n",
    "Generate the signal at the listener's ear by adding the speaker signal (`signalFromSpeaker`) to the original noise signal (`noise1_y`)."
   ]
  },
  {
   "cell_type": "code",
   "execution_count": null,
   "metadata": {},
   "outputs": [],
   "source": [
    "# BEGIN\n",
    "signalAtEar =\n",
    "# END"
   ]
  },
  {
   "cell_type": "markdown",
   "metadata": {},
   "source": [
    "Listen to the noisy and noise-cancelled signal."
   ]
  },
  {
   "cell_type": "code",
   "execution_count": null,
   "metadata": {},
   "outputs": [],
   "source": [
    "wavPlayer(noisyMusic, music_Fs)\n",
    "wavPlayer(signalAtEar, music_Fs)"
   ]
  },
  {
   "cell_type": "markdown",
   "metadata": {},
   "source": [
    "<font color=\"red\">What difference can you hear between these signals?"
   ]
  },
  {
   "cell_type": "markdown",
   "metadata": {},
   "source": [
    "### Part g)\n",
    "Now, we'll see how well this gamma works for other noise. \n",
    "\n",
    "We will run through the simulation again, but this time, we will just use the gamma from before instead of going through a training step."
   ]
  },
  {
   "cell_type": "code",
   "execution_count": null,
   "metadata": {},
   "outputs": [],
   "source": [
    "noisyMusic_2 = music_y + noise2_y;\n",
    "R_2 = recordAmbientNoise(noise2_y,noise2_Fs,numberOfMicrophones);\n",
    "# BEGIN\n",
    "'...'\n",
    "signalFromSpeaker_2 = '...' \n",
    "signalAtEar_2 = '...'\n",
    "# END \n",
    "\n",
    "wavPlayer(noisyMusic_2, music_Fs)\n",
    "wavPlayer(signalAtEar_2, music_Fs)"
   ]
  },
  {
   "cell_type": "markdown",
   "metadata": {},
   "source": [
    "<font color=\"red\"> What do you hear in the noise-cancelled signal?"
   ]
  }
 ],
 "metadata": {
  "kernelspec": {
   "display_name": "Python 3 (ipykernel)",
   "language": "python",
   "name": "python3"
  },
  "language_info": {
   "codemirror_mode": {
    "name": "ipython",
    "version": 3
   },
   "file_extension": ".py",
   "mimetype": "text/x-python",
   "name": "python",
   "nbconvert_exporter": "python",
   "pygments_lexer": "ipython3",
   "version": "3.11.4"
  }
 },
 "nbformat": 4,
 "nbformat_minor": 1
}
