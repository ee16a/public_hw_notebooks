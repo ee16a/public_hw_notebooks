{
 "cells": [
  {
   "cell_type": "markdown",
   "metadata": {},
   "source": [
    "# Visualization of Eigen Quantities"
   ]
  },
  {
   "cell_type": "markdown",
   "metadata": {},
   "source": [
    "## Setup (Run this part before running an example)"
   ]
  },
  {
   "cell_type": "code",
   "execution_count": null,
   "metadata": {},
   "outputs": [],
   "source": [
    "import numpy as np\n",
    "import matplotlib.patches as mpatches\n",
    "import matplotlib.pyplot as plt\n",
    "#import pylab as plt\n",
    "import time\n",
    "from IPython import display\n",
    "%matplotlib inline\n"
   ]
  },
  {
   "cell_type": "markdown",
   "metadata": {},
   "source": [
    "# Q2 Eigenvalues and Special Matrices"
   ]
  },
  {
   "cell_type": "markdown",
   "metadata": {},
   "source": [
    "An eigenvector $\\vec{v}$ belonging to a square matrix $\\mathbf{A}$ is a nonzero vector that satisfies\n",
    "\n",
    "$$\\mathbf{A}\\vec{v} = \\lambda\\vec{v}$$\n",
    "\n",
    "where $\\lambda$ is a scalar known as the eigenvalue corresponding to eigenvector $\\vec{v}$. In this question, we are looking at a few special matrix examples and looking at the eigenvalues of them (and for some, the eigenvectors). The goal is to build intuition for what an eigenvalue and vector pair mean for the transform $A$. Specifically, we want to see that for what (eigen)vectors is the transform $A$ equivalent to scaling the (eigen)vector by just a scalar $\\lambda$."
   ]
  },
  {
   "cell_type": "markdown",
   "metadata": {},
   "source": [
    "### (a-b) Identity / Scaling matrix "
   ]
  },
  {
   "cell_type": "code",
   "execution_count": null,
   "metadata": {},
   "outputs": [],
   "source": [
    "#### Change the value of x in the following line so that x is an eigen vector of Q ##\n",
    "x = np.array([1, 0])\n",
    "d1 = 1 # For (a), set d1 = d2 = 1\n",
    "d2 = 1 # For (b), try different d1 and d2 values to see the different eigenvalues.\n",
    "### Q is a scaling matrix (no rotation, but stretches in the x, y directions)\n",
    "Q = np.array([\n",
    "        [d1, 0],\n",
    "        [0, d2]\n",
    "])\n",
    "### y=Qx\n",
    "y=Q.dot(x)\n",
    "\n",
    "##### Plotting #######\n",
    "fig = plt.figure()\n",
    "ax1=plt.subplot(1, 1, 1)\n",
    "arrow_in = mpatches.FancyArrowPatch((0, 0), (x[0], x[1]),mutation_scale=30, ec ='blue', fc='blue')\n",
    "arrow_out = mpatches.FancyArrowPatch((0, 0), (y[0], y[1]), mutation_scale=15, ec ='red', fc='red')\n",
    "ax1.add_patch(arrow_in)\n",
    "ax1.add_patch(arrow_out)\n",
    "ax1.set_xlim(-2,2)\n",
    "ax1.set_ylim(-2,2)\n",
    "ax1.set_xlabel('x1')\n",
    "ax1.set_ylabel('x2')\n",
    "ax1.grid(linestyle='-', linewidth='0.5', color='black')\n",
    "ax1.set_title('Blue: x,  Red: Ax')\n",
    "fig.tight_layout()\n",
    "\n",
    "### Check your results\n",
    "[eigenval, eigenvec] = np.linalg.eig(Q)\n",
    "print(eigenval)\n",
    "print(eigenvec[:, 0])\n",
    "print(eigenvec[:, 1])"
   ]
  },
  {
   "cell_type": "markdown",
   "metadata": {},
   "source": [
    "### (c-d) Rotation Matrix"
   ]
  },
  {
   "cell_type": "code",
   "execution_count": null,
   "metadata": {},
   "outputs": [],
   "source": [
    "# Change the value of x in the following line so that x is an eigen vector of Q ##\n",
    "x = np.array([1, 1])\n",
    "theta = 0 # Make sure that the theta you choose has real eigenvalues.\n",
    "### Q is a rotation matrix\n",
    "Q = np.array([\n",
    "        [np.cos(np.radians(theta)), -np.sin(np.radians(theta))],\n",
    "        [np.sin(np.radians(theta)), np.cos(np.radians(theta))]\n",
    "])\n",
    "### y=Qx\n",
    "y=Q.dot(x)\n",
    "\n",
    "##### Plotting #######\n",
    "fig = plt.figure()\n",
    "ax1=plt.subplot(1, 1, 1)\n",
    "arrow_in = mpatches.FancyArrowPatch((0, 0), (x[0], x[1]),mutation_scale=30, ec ='blue', fc='blue')\n",
    "arrow_out = mpatches.FancyArrowPatch((0, 0), (y[0], y[1]), mutation_scale=15, ec ='red', fc='red')\n",
    "ax1.add_patch(arrow_in)\n",
    "ax1.add_patch(arrow_out)\n",
    "ax1.set_xlim(-2,2)\n",
    "ax1.set_ylim(-2,2)\n",
    "ax1.set_xlabel('x1')\n",
    "ax1.set_ylabel('x2')\n",
    "ax1.grid(linestyle='-', linewidth='0.5', color='black')\n",
    "ax1.set_title('Blue: x,  Red: Ax')\n",
    "fig.tight_layout()\n",
    "\n",
    "### Check your results\n",
    "[eigenval, eigenvec] = np.linalg.eig(Q)\n",
    "print(eigenval)\n",
    "# print(eigenvec[:, 0])  # The eigenvectors may contain complex values, \n",
    "# print(eigenvec[:, 1])  # so we will ignore them for now\n"
   ]
  },
  {
   "cell_type": "markdown",
   "metadata": {},
   "source": [
    "### (e) Reflection across x-axis"
   ]
  },
  {
   "cell_type": "code",
   "execution_count": null,
   "metadata": {
    "scrolled": true
   },
   "outputs": [],
   "source": [
    "#### Change the value of x in the following line so that x is an eigen vector of Q ##\n",
    "x = np.array([0, 1])\n",
    "\n",
    "# Q is the reflection matrix across the x-axis\n",
    "Q=np.array([\n",
    "    [1, 0],\n",
    "    [0, -1]])\n",
    "y=Q.dot(x)\n",
    "\n",
    "##### Plotting #######\n",
    "fig = plt.figure()\n",
    "ax1=plt.subplot(1, 1, 1)\n",
    "arrow_in = mpatches.FancyArrowPatch((0, 0), (x[0], x[1]),mutation_scale=30, ec ='blue', fc='blue')\n",
    "arrow_out = mpatches.FancyArrowPatch((0, 0), (y[0], y[1]), mutation_scale=15, ec ='red', fc='red')\n",
    "ax1.add_patch(arrow_in)\n",
    "ax1.add_patch(arrow_out)\n",
    "ax1.set_xlim(-2,2)\n",
    "ax1.set_ylim(-2,2)\n",
    "ax1.grid(linestyle='-', linewidth='0.5', color='black')\n",
    "ax1.set_xlabel('x1')\n",
    "ax1.set_ylabel('x2')\n",
    "ax1.set_title('Blue: x,  Red: Ax')\n",
    "fig.tight_layout()\n",
    "\n",
    "### Check your results\n",
    "[eigenval, eigenvec] = np.linalg.eig(Q)\n",
    "print(eigenval)\n",
    "print(eigenvec[:, 0])\n",
    "print(eigenvec[:, 1])"
   ]
  },
  {
   "cell_type": "markdown",
   "metadata": {},
   "source": [
    "# 3: Steady and Unsteady States"
   ]
  },
  {
   "cell_type": "markdown",
   "metadata": {},
   "source": [
    "## Example 1: 2x2 matrix"
   ]
  },
  {
   "cell_type": "markdown",
   "metadata": {},
   "source": [
    "Note, a 2x2 matrix example is not included on the worksheet. This is to let you play around to see the same effects apply for a 2x2 case."
   ]
  },
  {
   "cell_type": "markdown",
   "metadata": {},
   "source": [
    "### Printing eigen values =0.5, 2 and corresponding eigen vectors"
   ]
  },
  {
   "cell_type": "code",
   "execution_count": null,
   "metadata": {},
   "outputs": [],
   "source": [
    "def rationalize(v):\n",
    "    return v /  np.min(np.abs(v[np.nonzero(v)]))\n",
    "\n",
    "Q = np.array([[1, 1],\n",
    "             [0.5, 1.5]])\n",
    "[eigval, eigvec]=np.linalg.eig(Q)\n",
    "\n",
    "print(eigval)\n",
    "print(rationalize(eigvec[:,0]))\n",
    "print(rationalize(eigvec[:,1]))\n"
   ]
  },
  {
   "cell_type": "markdown",
   "metadata": {},
   "source": [
    "### Response for different inputs"
   ]
  },
  {
   "cell_type": "markdown",
   "metadata": {},
   "source": [
    "Now we have the different eigenvalues and associated eigenvectors. If we can write a general vector as a linear combination of the eigenvectors, then we can rewrite how the states evolve over time. Specifically, if $\\vec{x} = \\alpha\\vec{v}_1 + \\beta\\vec{v}_2 + \\gamma\\vec{v}_3$, then by linearity:\n",
    "\n",
    "$$lim_{n->\\infty}\\mathbf{M}^n\\vec{x} = \\alpha\\lambda_1^n\\vec{v}_1 + \\beta\\lambda_2^n\\vec{v}_2 + \\gamma\\lambda_3^n\\vec{v}_3$$\n",
    "\n",
    "Below, explore what happens as the state evolves. You can either work with option 1, where you select $\\alpha$, $\\beta$, and $\\gamma$. Or you can work with option 2, where you provide $\\vec{x}$ and the code will find $\\alpha$, $\\beta$, and $\\gamma$."
   ]
  },
  {
   "cell_type": "code",
   "execution_count": null,
   "metadata": {},
   "outputs": [],
   "source": [
    "# Grab the eigenvectors. Rationalize to make them easy to read.\n",
    "v1= rationalize(eigvec[:,0])\n",
    "v2= rationalize(eigvec[:,1])\n",
    "\n",
    "\n",
    "# Option 1: Manually enter different alpha, beta, gamma values and see what happens\n",
    "alpha = 100\n",
    "beta = 10\n",
    "\n",
    "\n",
    "# Option 2: Pick an x vector, see how it evolves\n",
    "# x = np.array([1, 0])\n",
    "\n",
    "# Functions to get alpha, beta, gamma from our chosen x vector\n",
    "# tmp = np.linalg.inv(np.transpose(np.stack([v1, v2])))\n",
    "# [alpha, beta] = np.dot(tmp, x)\n",
    "\n",
    "\n",
    "# Leave the code below uncommented ======================================\n",
    "\n",
    "x1 = alpha*v1\n",
    "x2 = beta*v2\n",
    "\n",
    "t = 0\n",
    "\n",
    "plt.figure(figsize=(12, 5))\n",
    "ax1=plt.subplot(1, 3, 1)\n",
    "ax2=plt.subplot(1, 3, 2)\n",
    "ax3=plt.subplot(1, 3, 3)\n",
    "\n",
    "for i in range(10):\n",
    "    x1 = np.matmul(Q, x1) \n",
    "\n",
    "    ax1.cla()\n",
    "    ax1.bar((1,2), x1, tick_label=('xA', 'xB'))\n",
    "    ax1.set_ylim([-100, 100])   #################  Set suitable y-axis limits \n",
    "    ax1.set_title(f'alpha*v1={alpha}*{v1} \\n (E-val={eigval[0]}), \\n n = %d' % t)\n",
    "    ax1.set_ylabel('x[n]')\n",
    "    display.display(plt.gcf())\n",
    "    display.clear_output(wait=True)      \n",
    "    \n",
    "    x2 = np.matmul(Q, x2)\n",
    "    \n",
    "    ax2.cla()\n",
    "    ax2.bar((1,2), x2, tick_label=('xA', 'xB'))\n",
    "    ax2.set_ylim([-1000, 1000])   #################  Set suitable y-axis limits \n",
    "    ax2.set_title(f'beta*v2={beta}*{v2} \\n (E-val={eigval[1]}), \\n n = %d' % t)\n",
    "    display.display(plt.gcf())\n",
    "    display.clear_output(wait=True)\n",
    "    \n",
    "    x3 = x1 + x2\n",
    "    ax3.cla()\n",
    "    ax3.bar((1,2), x3, tick_label=('xA', 'xB'))\n",
    "    ax3.set_ylim([-1000, 1000])   #################  Set suitable y-axis limits \n",
    "    ax3.set_title(f'x3 = x1 + x2 + x3 \\n \\n n = %d' % t)\n",
    "    display.display(plt.gcf())\n",
    "    display.clear_output(wait=True)\n",
    "    \n",
    "    time.sleep(1)\n",
    "    \n",
    "    t=t+1"
   ]
  },
  {
   "cell_type": "markdown",
   "metadata": {},
   "source": [
    "## Example 2: 3x3 matrix"
   ]
  },
  {
   "cell_type": "markdown",
   "metadata": {},
   "source": [
    "### Printing eigen values =0.5, 1, 2 and corresponding eigen vectors"
   ]
  },
  {
   "cell_type": "code",
   "execution_count": null,
   "metadata": {},
   "outputs": [],
   "source": [
    "Q = np.array([[1/2, 1/2, -1/2],\n",
    "             [0, 1, -2],\n",
    "             [0, 0, 2]])\n",
    "[eigval, eigvec]=np.linalg.eig(Q)\n",
    "\n",
    "print(eigval)\n",
    "\n",
    "print(rationalize(eigvec[:,2]))\n"
   ]
  },
  {
   "cell_type": "markdown",
   "metadata": {},
   "source": [
    "### Response for different inputs"
   ]
  },
  {
   "cell_type": "markdown",
   "metadata": {},
   "source": [
    "Now we have the different eigenvalues and associated eigenvectors. If we can write a general vector as a linear combination of the eigenvectors, then we can rewrite how the states evolve over time. Specifically, if $\\vec{x} = \\alpha\\vec{v}_1 + \\beta\\vec{v}_2 + \\gamma\\vec{v}_3$, then by linearity:\n",
    "\n",
    "$$lim_{n->\\infty}\\mathbf{M}^n\\vec{x} = \\alpha\\lambda_1^n\\vec{v}_1 + \\beta\\lambda_2^n\\vec{v}_2 + \\gamma\\lambda_3^n\\vec{v}_3$$\n",
    "\n",
    "Below, explore what happens as the state evolves. You can either work with option 1, where you select $\\alpha$, $\\beta$, and $\\gamma$. Or you can work with option 2, where you provide $\\vec{x}$ and the code will find $\\alpha$, $\\beta$, and $\\gamma$."
   ]
  },
  {
   "cell_type": "code",
   "execution_count": null,
   "metadata": {},
   "outputs": [],
   "source": [
    "# Grab the eigenvectors. Rationalize to make them easy to read.\n",
    "v1= rationalize(eigvec[:,0])\n",
    "v2= rationalize(eigvec[:,1])\n",
    "v3= rationalize(eigvec[:,2])\n",
    "\n",
    "\n",
    "# Option 1: Manually enter different alpha, beta, gamma values and see what happens\n",
    "# alpha = 100\n",
    "# beta = 10\n",
    "# gamma = 10\n",
    "\n",
    "\n",
    "# Option 2: Pick an x vector, see how it evolves\n",
    "x = np.array([1, 1, 1])\n",
    "\n",
    "# Functions to get alpha, beta, gamma from our chosen x vectof\n",
    "tmp = np.linalg.inv(np.transpose(np.stack([v1, v2, v3])))\n",
    "[alpha, beta, gamma] = np.dot(tmp, x)\n",
    "\n",
    "\n",
    "# Leave the code below uncommented ======================================\n",
    "\n",
    "x1 = alpha*v1\n",
    "x2 = beta*v2\n",
    "x3 = gamma*v3\n",
    "\n",
    "t = 0\n",
    "\n",
    "plt.figure(figsize=(12, 5))\n",
    "ax1=plt.subplot(1, 4, 1)\n",
    "ax2=plt.subplot(1, 4, 2)\n",
    "ax3=plt.subplot(1, 4, 3)\n",
    "ax4=plt.subplot(1, 4, 4)\n",
    "\n",
    "for i in range(10):\n",
    "    x1 = np.matmul(Q, x1) \n",
    "\n",
    "    ax1.cla()\n",
    "    ax1.bar((1,2,3), x1, tick_label=('xA', 'xB', 'xC'))\n",
    "    ax1.set_ylim([0, 100])   #################  Set suitable y-axis limits \n",
    "    ax1.set_title(f'alpha*v1={alpha}*{v1} \\n (E-val={eigval[0]}), \\n n = %d' % t)\n",
    "    ax1.set_ylabel('x[n]')\n",
    "    display.display(plt.gcf())\n",
    "    display.clear_output(wait=True)      \n",
    "    \n",
    "    x2 = np.matmul(Q, x2)\n",
    "    \n",
    "    ax2.cla()\n",
    "    ax2.bar((1,2,3), x2, tick_label=('xA', 'xB', 'xC'))\n",
    "    ax2.set_ylim([0, 100])   #################  Set suitable y-axis limits \n",
    "    ax2.set_title(f'beta*v2={beta}*{v2} \\n (E-val={eigval[1]}), \\n n = %d' % t)\n",
    "    display.display(plt.gcf())\n",
    "    display.clear_output(wait=True)\n",
    "    \n",
    "    x3 = np.matmul(Q, x3)\n",
    "    \n",
    "    ax3.cla()\n",
    "    ax3.bar((1,2,3), x3, tick_label=('xA', 'xB', 'xC'))\n",
    "    ax3.set_ylim([0, 2000])   #################  Set suitable y-axis limits \n",
    "    ax3.set_title(f'gamma*v3={gamma}*{v3} \\n (E-val={eigval[2]}), \\n n = %d' % t)\n",
    "    display.display(plt.gcf())\n",
    "    display.clear_output(wait=True)\n",
    "    \n",
    "    x4 = x1 + x2 + x3\n",
    "    ax4.cla()\n",
    "    ax4.bar((1,2,3), x4, tick_label=('xA', 'xB', 'xC'))\n",
    "    ax4.set_ylim([0, 2000])   #################  Set suitable y-axis limits \n",
    "    ax4.set_title(f'x4 = x1 + x2 + x3 \\n \\n n = %d' % t)\n",
    "    display.display(plt.gcf())\n",
    "    display.clear_output(wait=True)\n",
    "    \n",
    "    time.sleep(1)\n",
    "    \n",
    "    t=t+1"
   ]
  },
  {
   "cell_type": "code",
   "execution_count": null,
   "metadata": {},
   "outputs": [],
   "source": []
  }
 ],
 "metadata": {
  "kernelspec": {
   "display_name": "Python 3",
   "language": "python",
   "name": "python3"
  },
  "language_info": {
   "codemirror_mode": {
    "name": "ipython",
    "version": 3
   },
   "file_extension": ".py",
   "mimetype": "text/x-python",
   "name": "python",
   "nbconvert_exporter": "python",
   "pygments_lexer": "ipython3",
   "version": "3.8.5"
  }
 },
 "nbformat": 4,
 "nbformat_minor": 4
}
