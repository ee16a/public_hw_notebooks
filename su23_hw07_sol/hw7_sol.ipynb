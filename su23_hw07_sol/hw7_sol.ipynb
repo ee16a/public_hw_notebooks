{
 "cells": [
  {
   "cell_type": "markdown",
   "metadata": {},
   "source": [
    "# 8. Audio File Matching\n",
    "\n",
    "Be sure to have song.wav and clip.wav in the same directory as the notebook.\n",
    "\n",
    "In this notebook, we will look at the problem of searching for a small audio clip inside a song.\n",
    "\n",
    "The song \"Mandelbrot Set\" by Jonathan Coulton is licensed under <a href=\"http://creativecommons.org/licenses/by-nc/3.0/\">CC BY-NC 3.0</a>\n",
    "\n",
    "If you have trouble playing the audio file in IPython, try opening it in a different browser. I encountered problem with Safari but Chrome works for me."
   ]
  },
  {
   "cell_type": "code",
   "execution_count": null,
   "metadata": {},
   "outputs": [],
   "source": [
    "import numpy as np\n",
    "import wave\n",
    "import matplotlib.pyplot as plt\n",
    "import scipy.io.wavfile\n",
    "import operator\n",
    "from IPython.display import Audio\n",
    "%matplotlib inline\n",
    "\n",
    "given_file = 'song.wav'\n",
    "target_file = 'clip.wav'\n",
    "rate_given,  given_signal  = scipy.io.wavfile.read(given_file)\n",
    "rate_target, target_signal = scipy.io.wavfile.read(target_file)\n",
    "given_signal  = given_signal[:2000000].astype(float)\n",
    "target_signal = target_signal.astype(float)\n",
    "def play_clip(start, end, signal=given_signal):\n",
    "    scipy.io.wavfile.write('temp.wav', rate_given, signal[start:end].astype(np.int16))\n",
    "    return Audio(url='temp.wav', autoplay=True)\n",
    "\n",
    "def run_comparison(target_signal, given_signal, idxs=None):\n",
    "    # Run everything if not called with idxs set to something\n",
    "    if idxs is None:\n",
    "        idxs = [i for i in range(len(given_signal)-len(target_signal))]\n",
    "    return idxs, [vector_compare(target_signal, given_signal[i:i+len(target_signal)])\n",
    "                for i in idxs]\n",
    "\n",
    "play_clip(0, len(given_signal))\n",
    "\n",
    "#scipy.io.wavfile.write(target_file, rate_given, (-0.125*given_signal[1380000:1380000+70000]).astype(np.int16))"
   ]
  },
  {
   "cell_type": "markdown",
   "metadata": {},
   "source": [
    "We will load the song into the variable `given_signal` and load the short clip into the variable `target_signal`. Your job is to finish code that will identify the short clip's location in the song. The clip we are trying to find will play after executing the following block."
   ]
  },
  {
   "cell_type": "code",
   "execution_count": null,
   "metadata": {},
   "outputs": [],
   "source": [
    "Audio(url=target_file, autoplay=True)"
   ]
  },
  {
   "cell_type": "markdown",
   "metadata": {},
   "source": [
    "Your task is to define the function 'vector_compare' and run the following code. Because the song has a lot of data, you should use the provided examples from the previous parts of the problem before running the later code. Do you results here make sense given your answers to previous parts of the problem?"
   ]
  },
  {
   "cell_type": "code",
   "execution_count": null,
   "metadata": {},
   "outputs": [],
   "source": [
    "def vector_compare(desired_vec, test_vec):\n",
    "    \"\"\"This function compares two vectors, returning a number.\n",
    "    The test vector with the highest return value is regarded as being closest to the desired vector.\"\"\"\n",
    "    return np.dot(desired_vec.T, test_vec)/(np.linalg.norm(desired_vec)*np.linalg.norm(test_vec)+1.e-10)\n",
    "\n",
    "print(\"PART A:\")\n",
    "print(vector_compare(np.array([1,1,1]), np.array([1,1,1])))\n",
    "print(vector_compare(np.array([1,1,1]), np.array([-1,-1,-1])))\n",
    "print(\"PART C:\")\n",
    "print(vector_compare(np.array([1,2,3]), np.array([1,2,3])))\n",
    "print(vector_compare(np.array([1,2,3]), np.array([2,3,4])))\n",
    "print(vector_compare(np.array([1,2,3]), np.array([3,4,5])))\n",
    "print(vector_compare(np.array([1,2,3]), np.array([4,5,6])))\n",
    "print(vector_compare(np.array([1,2,3]), np.array([5,6,7])))\n",
    "print(vector_compare(np.array([1,2,3]), np.array([6,7,8])))"
   ]
  },
  {
   "cell_type": "markdown",
   "metadata": {},
   "source": [
    "Run the following code that runs `vector_compare` on every subsequence in the song- it will probably take at least 5 minutes. How do you interpret this plot to find where the clip is in the song?"
   ]
  },
  {
   "cell_type": "code",
   "execution_count": null,
   "metadata": {},
   "outputs": [],
   "source": [
    "import time\n",
    "\n",
    "t0 = time.time()\n",
    "idxs, song_compare = run_comparison(target_signal, given_signal)\n",
    "t1 = time.time()\n",
    "plt.plot(idxs, song_compare)\n",
    "print (\"That took %(time).2f minutes to run\" % {'time':(t1-t0)/60.0} )"
   ]
  },
  {
   "cell_type": "markdown",
   "metadata": {
    "tags": []
   },
   "source": [
    "# 10. Trilateration With Noise!"
   ]
  },
  {
   "cell_type": "markdown",
   "metadata": {},
   "source": [
    "In lecture, we learned how the GPS receiver determines its location once it knows the distance of the various signaling beacons from itself.\n",
    "This method is called *trilateration*.\n",
    "\n",
    "In this demonstration, we're going to further explore the connection between trilateration and least squares through a toy problem with four beacons and one GPS receiver.\n",
    "\n",
    "We are given *three* possible sets of measurements for the distances of each of the beacons from the receiver:\n",
    "\n",
    "1. First, the ideal set of measurements. $d_1 = d_2 = d_3 = d_4 = 5$.\n",
    "2. Next, a set of imperfect measurements. $d_1 = 5, d_2 = 4.5, d_3 = 5, d_4 = 5.5$.\n",
    "3. Finally, a set of mostly perfect measurements, but $d_1$ is a very bad measurement. We have $d_1 = 7.5$ and $d_2 = d_3 = d_4 = 5$."
   ]
  },
  {
   "cell_type": "markdown",
   "metadata": {},
   "source": [
    "First, we set up some notation for the positions of the beacons, as well as their respective distances from the receivers."
   ]
  },
  {
   "cell_type": "code",
   "execution_count": null,
   "metadata": {
    "scrolled": true
   },
   "outputs": [],
   "source": [
    "from utils import *\n",
    "\n",
    "ideal_distances = [5, 5, 5, 5]\n",
    "imperfect_distances = [5.5, 4.5, 5, 5]\n",
    "one_bad_distances = [7.5, 5, 5, 5]\n",
    "\n",
    "#these are the coordinates of the beacons\n",
    "positions = np.array([\n",
    "    [0, -5],\n",
    "    [-5 / 2, 5 * np.sqrt(3) / 2],\n",
    "    [0, 5],\n",
    "    [5 / 2, 5 * np.sqrt(3) / 2],\n",
    "])\n",
    "\n",
    "xpositions = positions[:, 0]\n",
    "ypositions = positions[:, 1]\n",
    "\n",
    "# setup to make the helper functions work\n",
    "register(positions=positions)\n",
    "register(xpositions=xpositions)\n",
    "register(ypositions=ypositions)"
   ]
  },
  {
   "cell_type": "markdown",
   "metadata": {},
   "source": [
    "### Part (c)\n",
    "\n",
    "Now, for each of the three above cases, let's plot a circle for each beacon whose radius corresponds to the reported distance of the receiver. The intersection of the circles will tell us, intuitively, where the receiver is located! (Note that the circles do not necessarily intersect at one point for all three of the cases. Think about what this means)."
   ]
  },
  {
   "cell_type": "code",
   "execution_count": null,
   "metadata": {},
   "outputs": [],
   "source": [
    "plot(ideal_distances)"
   ]
  },
  {
   "cell_type": "code",
   "execution_count": null,
   "metadata": {},
   "outputs": [],
   "source": [
    "plot(imperfect_distances)"
   ]
  },
  {
   "cell_type": "code",
   "execution_count": null,
   "metadata": {},
   "outputs": [],
   "source": [
    "plot(one_bad_distances)"
   ]
  },
  {
   "cell_type": "markdown",
   "metadata": {},
   "source": [
    "### Part (d)\n",
    "\n",
    "Now, let's solve for the location of the receiver, $\\begin{bmatrix}x \\\\ y\\end{bmatrix}$, using least squares.\n",
    "\n",
    "Recall that we made the system of equations linear by subtracting the equation for the first beacon from each of the equations for the other beacons.\n",
    "\n",
    "This will result in the system of equations:\n",
    "\\begin{equation}\n",
    "A\\begin{bmatrix}x \\\\ y \\end{bmatrix} = \\vec{b}\n",
    "\\end{equation}\n",
    "\n",
    "You will define $A$ and $\\vec{b}$ in the code blocks below."
   ]
  },
  {
   "cell_type": "code",
   "execution_count": null,
   "metadata": {
    "scrolled": true
   },
   "outputs": [],
   "source": [
    "A = np.zeros((3,2))\n",
    "\n",
    "A[0][0] = 2*(xpositions[0] - xpositions[1])\n",
    "A[0][1] = 2*(ypositions[0] - ypositions[1])\n",
    "A[1][0] = 2*(xpositions[0] - xpositions[2])\n",
    "A[1][1] = 2*(ypositions[0] - ypositions[2])\n",
    "A[2][0] = 2*(xpositions[0] - xpositions[3])\n",
    "A[2][1] = 2*(ypositions[0] - ypositions[3])\n",
    "print(A)"
   ]
  },
  {
   "cell_type": "markdown",
   "metadata": {},
   "source": [
    "### Part (e)\n",
    "Fill in the entries of `b` in the below function to correspond to the entries of $\\vec{b}$ from the problem."
   ]
  },
  {
   "cell_type": "code",
   "execution_count": null,
   "metadata": {
    "scrolled": true
   },
   "outputs": [],
   "source": [
    "def make_b(distances):\n",
    "    \"\"\"\n",
    "    Since `b` depends on `distances`, we implement it using a function, so we can generate\n",
    "    different `b` vectors depending of which set of distances we are interested in,\n",
    "    (i.e. ideal_distances, imperfect_distances, or one_bad_distances)\n",
    "    \n",
    "    Examples of how to call the function:\n",
    "    make_values(ideal_distances) OR\n",
    "    make_values(imperfect_distances) OR\n",
    "    make_values(one_bad_distances)\n",
    "    \"\"\"\n",
    "\n",
    "    b = np.zeros(3)\n",
    "    \n",
    "    b[0] = xpositions[0]**2 - xpositions[1]**2 + ypositions[0]**2 - ypositions[1]**2 - distances[0]**2 +distances[1]**2\n",
    "    b[1] = xpositions[0]**2 - xpositions[2]**2 + ypositions[0]**2 - ypositions[2]**2 - distances[0]**2 +distances[2]**2\n",
    "    b[2] = xpositions[0]**2 - xpositions[3]**2 + ypositions[0]**2 - ypositions[3]**2 - distances[0]**2 + distances[3]**2\n",
    "\n",
    "    return b\n",
    "\n",
    "make_b(ideal_distances)"
   ]
  },
  {
   "cell_type": "markdown",
   "metadata": {},
   "source": [
    "### Part (f)\n",
    "\n",
    "Now, calculate the linear least squares estimate for the `ideal_distances` data and plot the results. We have given you code for the implementation for this part."
   ]
  },
  {
   "cell_type": "code",
   "execution_count": null,
   "metadata": {
    "scrolled": true
   },
   "outputs": [],
   "source": [
    "def estimate_position(distances):\n",
    "    U1 = np.dot(A.T, A)\n",
    "    U2 = np.dot(A.T, make_b(distances))\n",
    "    least_squares_sol = np.dot(np.linalg.inv(U1),U2)\n",
    "    return least_squares_sol\n",
    "\n",
    "estimate_position(ideal_distances)"
   ]
  },
  {
   "cell_type": "code",
   "execution_count": null,
   "metadata": {},
   "outputs": [],
   "source": [
    "plot(ideal_distances)\n",
    "plot_point(estimate_position(ideal_distances))"
   ]
  },
  {
   "cell_type": "markdown",
   "metadata": {},
   "source": [
    "What about for the `imperfect_distances` and `one_bad_distances`? Copy and modify the above code to compute and plot the least-squares trilateration solutions for those two cases, and comment on the quality of the solution in each case.\n",
    "\n",
    "In particular, for `one_bad_distances`, is the solution the best possible? In other words, if you were trying to identify your position from the graph by hand, would you have chosen the same point that our trilateration solution did?"
   ]
  },
  {
   "cell_type": "code",
   "execution_count": null,
   "metadata": {},
   "outputs": [],
   "source": [
    "### imperfect_distances case\n",
    "\n",
    "plot(imperfect_distances)\n",
    "plot_point(estimate_position(imperfect_distances))\n",
    "estimate_position(imperfect_distances)"
   ]
  },
  {
   "cell_type": "code",
   "execution_count": null,
   "metadata": {},
   "outputs": [],
   "source": [
    "### one_bad_distances case\n",
    "plot(one_bad_distances)\n",
    "plot_point(estimate_position(one_bad_distances))\n",
    "estimate_position(one_bad_distances)"
   ]
  },
  {
   "cell_type": "markdown",
   "metadata": {},
   "source": [
    "### Part (g)\n",
    "\n",
    "You should see that linearizing and solving least squares did not always do well in the above cases. Now, let's try something else.\n",
    "For any candidate location of the receiver, we can define the distance from $i_{th}$ beacon as $\\hat{d}_i$ and define $\\vec{\\hat{d}}$ as:\n",
    "\n",
    "$$\\vec{\\hat{d}} = \\begin{bmatrix}\\hat{d}_1\\\\\\hat{d}_2\\\\\\hat{d}_3\\\\\\hat{d}_4\\end{bmatrix}$$\n",
    "\n",
    "So we might want to minimize the following:\n",
    "\n",
    "$$\\sum_{i=1}^4(d_i-\\hat{d}_i)^2$$\n",
    "\n",
    "Let's make a plot that will help us visualize this. $(x,y)$ in the plot correspond to candidate positions of the receivers and the color corresponds to the cost.\n",
    "\n",
    "Let's first plot the costs when the `one_bad_distances` data is used. You should see that this cost is minimized at $(0,0)$."
   ]
  },
  {
   "cell_type": "code",
   "execution_count": null,
   "metadata": {},
   "outputs": [],
   "source": [
    "def cost_function(point, actual_distances):\n",
    "    cost = 0\n",
    "    for pos, actual_distance in zip(positions, actual_distances):\n",
    "        cost += (distance_between_points(point, pos) - actual_distance) ** 2\n",
    "    return cost\n",
    "\n",
    "\n",
    "plot_cost(one_bad_distances, cost_function)"
   ]
  },
  {
   "cell_type": "markdown",
   "metadata": {},
   "source": [
    "Let's verify numerically that the above approach does indeed do better than the least-squares trilateration approach in the `one_bad_distances` case. Use `cost_function` to compare the cost of `(0, 0)` with the cost of your estimated position obtained from the least-squares solution in all three cases. When does least squares do worst, compared to the new approach?"
   ]
  },
  {
   "cell_type": "code",
   "execution_count": null,
   "metadata": {
    "scrolled": true
   },
   "outputs": [],
   "source": [
    "for distances in [ideal_distances, imperfect_distances, one_bad_distances]:\n",
    "    print(\"cost at (0, 0):\", cost_function([0, 0], distances))\n",
    "    print(\"cost at coordinates determined by least squares estimate\", cost_function(estimate_position(distances), distances))\n",
    "    print(\"\\n\")"
   ]
  }
 ],
 "metadata": {
  "kernelspec": {
   "display_name": "Python 3",
   "language": "python",
   "name": "python3"
  },
  "language_info": {
   "codemirror_mode": {
    "name": "ipython",
    "version": 3
   },
   "file_extension": ".py",
   "mimetype": "text/x-python",
   "name": "python",
   "nbconvert_exporter": "python",
   "pygments_lexer": "ipython3",
   "version": "3.8.9"
  }
 },
 "nbformat": 4,
 "nbformat_minor": 4
}
