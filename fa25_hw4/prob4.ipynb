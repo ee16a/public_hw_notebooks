{
 "cells": [
  {
   "cell_type": "markdown",
   "metadata": {},
   "source": [
    "# Signal Analysis with Orthogonal Projections\n",
    "Homework Notebook\n",
    "============================================================\n",
    "This notebook contains coding exercises for signal analysis using orthogonal projections. Please fill in the code cells where indicated.\n"
   ]
  },
  {
   "cell_type": "markdown",
   "metadata": {},
   "source": [
    "## 7. Signal Analysis with Orthogonal Projections\n",
    "\n",
    "In many applications, signals are mixtures of a few frequencies.\n",
    "In this problem, you will project a length-𝑝 signal onto a complex-exponential basis and analyze the resultant coefficients.\n"
   ]
  },
  {
   "cell_type": "markdown",
   "metadata": {},
   "source": [
    "### (a) Complex Inner Products and Basis Vectors\n",
    "\n",
    "1. Write two Python functions:\n",
    "\n",
    "- **`complex_inner_product(u, v)`**: takes two complex vectors $u, v \\in \\mathbb{C}^p$ and returns $\\langle u, v \\rangle$.\n",
    "- **`generate_basis_vector(k, p)`**: returns the DTFS basis vector $\\psi_k$ of length $p$, with entries:\n",
    "$$\n",
    "(\\psi_k)[n] = e^{j 2\\pi n k / p}.\n",
    "$$\n"
   ]
  },
  {
   "cell_type": "code",
   "execution_count": null,
   "metadata": {},
   "outputs": [],
   "source": [
    "import numpy as np\n",
    "\n",
    "def complex_inner_product(u, v):\n",
    "    \"\"\"\n",
    "    Compute the complex inner product <u, v>.\n",
    "    Inputs:\n",
    "        u, v: complex vectors of length p\n",
    "    Output:\n",
    "        scalar complex inner product\n",
    "    \"\"\"\n",
    "    # TODO: implement\n",
    "    pass\n",
    "\n",
    "def generate_basis_vector(k, p):\n",
    "    \"\"\"\n",
    "    Generate the DTFS basis vector ψ_k of length p.\n",
    "    Inputs:\n",
    "        k: index\n",
    "        p: length\n",
    "    Output:\n",
    "        numpy array of shape (p,)\n",
    "    \"\"\"\n",
    "    # TODO: implement\n",
    "    pass"
   ]
  },
  {
   "cell_type": "code",
   "execution_count": null,
   "metadata": {},
   "outputs": [],
   "source": [
    "p = 64\n",
    "psi3 = generate_basis_vector(3, p)\n",
    "psi10 = generate_basis_vector(10, p)\n",
    "\n",
    "val = complex_inner_product(psi3, psi10)\n",
    "print(\"Inner product:\", val)\n",
    "print(\"Magnitude:\", np.abs(val))"
   ]
  },
  {
   "cell_type": "markdown",
   "metadata": {},
   "source": [
    "### (b) Generate Signal\n",
    "\n",
    "Let $p = 64$, $f_1 = 2$ Hz, $f_2 = 8$ Hz, $A_1 = 2.0$, $A_2 = 0.5$.\n",
    "Define:\n",
    "$$\n",
    "s(t) = A_1 \\cos(2\\pi f_1 t) + A_2 \\cos(2\\pi f_2 t).\n",
    "$$\n",
    "\n",
    "Write a function `generate_signal(p, frequencies, amplitudes)` that returns the length-64 vector $s$. Report the first 4 samples.\n"
   ]
  },
  {
   "cell_type": "code",
   "execution_count": null,
   "metadata": {},
   "outputs": [],
   "source": [
    "def generate_signal(p, frequencies, amplitudes):\n",
    "    \"\"\"\n",
    "    Generate signal s[n] for n=0,...,p-1.\n",
    "    Inputs:\n",
    "        p: number of samples\n",
    "        frequencies: list of frequencies f1, f2, ...\n",
    "        amplitudes: list of amplitudes A1, A2, ...\n",
    "    Output:\n",
    "        numpy array s of length p\n",
    "    \"\"\"\n",
    "    # TODO: implement\n",
    "    pass\n",
    "\n",
    "# Example usage\n",
    "p = 64\n",
    "frequencies = [2, 8]\n",
    "amplitudes = [2.0, 0.5]\n",
    "s = generate_signal(p, frequencies, amplitudes)\n",
    "print(\"First 4 samples:\", s[:4])"
   ]
  },
  {
   "cell_type": "markdown",
   "metadata": {},
   "source": [
    "### (c) Projection Coefficient\n",
    "\n",
    "The projection coefficient for frequency index $k$ is:\n",
    "$$\n",
    "c_k = \\frac{1}{p} \\langle s, \\psi_k \\rangle.\n",
    "$$\n",
    "\n",
    "Write a function `get_projection_coefficient(signal, k, p)` to compute this.\n"
   ]
  },
  {
   "cell_type": "code",
   "execution_count": null,
   "metadata": {},
   "outputs": [],
   "source": [
    "def get_projection_coefficient(signal, k, p):\n",
    "    \"\"\"\n",
    "    Compute the projection coefficient c_k.\n",
    "    Inputs:\n",
    "        signal: numpy array s of length p\n",
    "        k: frequency index\n",
    "        p: length of signal\n",
    "    Output:\n",
    "        complex scalar c_k\n",
    "    \"\"\"\n",
    "    # TODO: implement\n",
    "    pass\n",
    "\n",
    "# Example usage\n",
    "ck = get_projection_coefficient(s, 2, p)\n",
    "print(\"c2 =\", ck)"
   ]
  },
  {
   "cell_type": "markdown",
   "metadata": {},
   "source": [
    "### (d) Compute & Plot Coefficients\n",
    "\n",
    "For $p = 64$, $k = 0,1,\\dots,31$, compute $c_k$ and plot $|c_k|$ vs. $k$.\n"
   ]
  },
  {
   "cell_type": "code",
   "execution_count": null,
   "metadata": {},
   "outputs": [],
   "source": [
    "import matplotlib.pyplot as plt\n",
    "\n",
    "p = # TODO\n",
    "ks = # TODO\n",
    "coeffs = # TODO\n",
    "\n",
    "plt.stem(ks, np.abs(coeffs))\n",
    "plt.xlabel(\"k\")\n",
    "plt.ylabel(\"|c_k|\")\n",
    "plt.title(\"Magnitude of projection coefficients\")\n",
    "plt.show()"
   ]
  },
  {
   "cell_type": "markdown",
   "metadata": {},
   "source": [
    "### (e) Repeat with Different Frequencies\n",
    "\n",
    "Now let $f_1 = 24, f_2 = 26, A_1 = 1, A_2 = 1$.\n",
    "Generate $s_2$, compute its DTFS coefficients, and plot.\n"
   ]
  },
  {
   "cell_type": "code",
   "execution_count": null,
   "metadata": {},
   "outputs": [],
   "source": [
    "frequencies = [24, 26]\n",
    "amplitudes = [1.0, 1.0]\n",
    "s2 = generate_signal(p, frequencies, amplitudes)\n",
    "\n",
    "coeffs2 = [get_projection_coefficient(s2, k, p) for k in ks]\n",
    "\n",
    "plt.stem(ks, np.abs(coeffs2))\n",
    "plt.xlabel(\"k\")\n",
    "plt.ylabel(\"|c_k|\")\n",
    "plt.title(\"Magnitude of projection coefficients (signal s2)\")\n",
    "plt.show()"
   ]
  },
  {
   "cell_type": "markdown",
   "metadata": {},
   "source": [
    "Plot second signal"
   ]
  },
  {
   "cell_type": "code",
   "execution_count": null,
   "metadata": {},
   "outputs": [],
   "source": [
    "plt.stem(s2)\n",
    "plt.xlabel(\"n\")\n",
    "plt.ylabel(\"s2(n)\")\n",
    "plt.title(\"Signal s2\")\n",
    "plt.show()"
   ]
  },
  {
   "cell_type": "code",
   "execution_count": null,
   "metadata": {},
   "outputs": [],
   "source": []
  }
 ],
 "metadata": {
  "kernelspec": {
   "display_name": ".venv",
   "language": "python",
   "name": "python3"
  },
  "language_info": {
   "codemirror_mode": {
    "name": "ipython",
    "version": 3
   },
   "file_extension": ".py",
   "mimetype": "text/x-python",
   "name": "python",
   "nbconvert_exporter": "python",
   "pygments_lexer": "ipython3",
   "version": "3.12.3"
  }
 },
 "nbformat": 4,
 "nbformat_minor": 2
}
