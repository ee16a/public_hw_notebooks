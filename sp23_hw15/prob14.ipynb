{
 "cells": [
  {
   "cell_type": "markdown",
   "metadata": {
    "deletable": true,
    "editable": true
   },
   "source": [
    "# EE16A Homework 14"
   ]
  },
  {
   "cell_type": "markdown",
   "metadata": {
    "deletable": true,
    "editable": true
   },
   "source": [
    "## Question 2: Speeding Up OMP\n",
    "This example generates a sparse signal and tries to recover it using the Orthogonal Matching Pursuit algorithm."
   ]
  },
  {
   "cell_type": "code",
   "execution_count": null,
   "metadata": {
    "collapsed": false,
    "deletable": true,
    "editable": true
   },
   "outputs": [],
   "source": [
    "# imports\n",
    "import matplotlib.pyplot as plt\n",
    "import numpy as np\n",
    "from scipy import misc\n",
    "from IPython import display\n",
    "from simulator import *\n",
    "%matplotlib inline"
   ]
  },
  {
   "cell_type": "code",
   "execution_count": null,
   "metadata": {
    "collapsed": false,
    "deletable": true,
    "editable": true
   },
   "outputs": [],
   "source": [
    "# the setting\n",
    "\n",
    "# file name for the sparse image\n",
    "fname = 'figures/pika.png'\n",
    "# number of measurements to be taken from the sparse image\n",
    "numMeasurements = 9000\n",
    "# the sparsity of the image\n",
    "sparsity = 800\n",
    "\n",
    "# read the image in black and white\n",
    "I = misc.imread(fname, flatten=1)\n",
    "# normalize the image to be between 0 and 1\n",
    "I = I/np.max(I)\n",
    "\n",
    "# shape of the image\n",
    "imageShape = I.shape\n",
    "# number of pixels in the image\n",
    "numPixels = I.size\n",
    "\n",
    "plt.title('input image')\n",
    "plt.imshow(I, cmap=plt.cm.gray, interpolation='nearest');"
   ]
  },
  {
   "cell_type": "code",
   "execution_count": null,
   "metadata": {
    "collapsed": true,
    "deletable": true,
    "editable": true
   },
   "outputs": [],
   "source": [
    "# generate your image masks and the underlying measurement matrix\n",
    "Mask, A = randMasks(numMeasurements,numPixels)\n",
    "# vectorize your image\n",
    "full_signal = I.reshape((numPixels,1))\n",
    "# get the measurements\n",
    "measurements = np.dot(Mask,full_signal)\n",
    "# remove the mean from your measurements\n",
    "measurements = measurements - np.mean(measurements)"
   ]
  },
  {
   "cell_type": "code",
   "execution_count": null,
   "metadata": {
    "collapsed": true,
    "deletable": true,
    "editable": true
   },
   "outputs": [],
   "source": [
    "# measurements\n",
    "plt.title('measurements')\n",
    "plt.plot(measurements)\n",
    "plt.xlabel('measurement index')\n",
    "plt.show()"
   ]
  },
  {
   "cell_type": "code",
   "execution_count": null,
   "metadata": {
    "collapsed": true,
    "deletable": true,
    "editable": true
   },
   "outputs": [],
   "source": [
    "# Write a function that returns a matrix U whose columns form\n",
    "# an orthonormal basis for the columns of the matrix A.\n",
    "def gramschmidt(A):\n",
    "    ## YOUR CODE HERE\n",
    "    return U\n",
    "\n",
    "# A better option is to write a function that takes in a matrix U0\n",
    "# with orthonormal columns and a single new vector v and adds another\n",
    "# orthonormal column to U0 creating a new matrix U whose columns are orthonormal\n",
    "# and span the column space of {U0, v}.\n",
    "# Note: Using this function will make your code faster.\n",
    "def gramschmidt_addone(U0, v):\n",
    "    ## YOUR CODE HERE\n",
    "    return U"
   ]
  },
  {
   "cell_type": "code",
   "execution_count": null,
   "metadata": {
    "collapsed": true,
    "deletable": true,
    "editable": true
   },
   "outputs": [],
   "source": [
    "# THERE ARE MISSING LINES THAT YOU NEED TO FILL\n",
    "def OMP(imDims, sparsity, measurements, A):\n",
    "    r = measurements.copy()\n",
    "    indices = []\n",
    "    \n",
    "    # Threshold to check error. If error is below this value, stop.\n",
    "    THRESHOLD = 0.1\n",
    "    \n",
    "    # For iterating to recover all signal\n",
    "    i = 0\n",
    "    \n",
    "    ########################################\n",
    "    ### THIS LINE INITIALIZES THE MATRIX U\n",
    "    U = np.zeros([np.size(A,0),0])\n",
    "    ########################################\n",
    "    \n",
    "    while i < sparsity and np.linalg.norm(r) > THRESHOLD: \n",
    "        # calculate the correlations\n",
    "        print('%d - '%i,end=\"\",flush=True)\n",
    "        corrs = A.T.dot(r)\n",
    "\n",
    "        # Choose highest-correlated pixel location and add to collection\n",
    "        # COMPLETE THE LINE BELOW\n",
    "        best_index = np.argmax(np.abs(COMPLETE_HERE))\n",
    "        \n",
    "        ###########################\n",
    "        ### MODIFY THIS SECTION ###\n",
    "        ## TO USE GRAM-SCHMIDT  ###\n",
    "        ###########################\n",
    "                \n",
    "        indices.append(best_index)\n",
    "        \n",
    "        # Build the matrix made up of selected indices so far\n",
    "        # COMPLETE THE LINE BELOW\n",
    "        Atrunc = A[:,COMPLETE_HERE]\n",
    "        \n",
    "        #############################\n",
    "        ## CHOOSE ONE OF THESE LINES\n",
    "        U = gramschmidt(Atrunc)\n",
    "        ### OR\n",
    "        v = A[:,best_index]\n",
    "        U = gramschmidt_addone(U,v)\n",
    "        #############################\n",
    "        \n",
    "        # Find orthogonal projection of measurements to subspace\n",
    "        # spanned by recovered codewords\n",
    "        b = measurements\n",
    "        \n",
    "        ###################################\n",
    "        ## COMPLETE THE LINES BELOW AND\n",
    "        ## REWRITE THESE LINES USING GRAMSCHMIDT TO SPEED UP LEAST SQUARES\n",
    "        xhat = np.linalg.lstsq(COMPLETE_HERE, COMPLETE_HERE)[0]  \n",
    "        r = b - Atrunc.dot(COMPLETE_HERE)\n",
    "        ####################################\n",
    "        \n",
    "        # Find component orthogonal to subspace to use for next measurement\n",
    "        ## CHANGE THIS LINE        \n",
    "        \n",
    "        ###########################\n",
    "        ### ------------------- ###\n",
    "        ###########################\n",
    "        \n",
    "        # This is for viewing the recovery process\n",
    "        if i % 100 == 0 or i == sparsity-1 or np.linalg.norm(r) <= THRESHOLD:\n",
    "            \n",
    "            # RECOVERING xhat for plotting\n",
    "            xhat = np.dot(np.linalg.inv(np.dot(Atrunc.T,Atrunc)),np.dot(Atrunc.T,b-r))\n",
    "            \n",
    "            recovered_signal = np.zeros(numPixels)\n",
    "            for j, x in zip(indices, xhat):\n",
    "                recovered_signal[j] = x\n",
    "            Ihat = recovered_signal.reshape(imDims)\n",
    "            plt.title('estimated image')\n",
    "            plt.imshow(Ihat, cmap=plt.cm.gray, interpolation='nearest') \n",
    "            display.clear_output(wait=True)\n",
    "            display.display(plt.gcf())\n",
    "        \n",
    "        i = i + 1\n",
    "        \n",
    "    display.clear_output(wait=True)\n",
    "\n",
    "    # Fill in the recovered signal\n",
    "    recovered_signal = np.zeros(numPixels)\n",
    "    for i, x in zip(indices, xhat):\n",
    "        recovered_signal[i] = x\n",
    "    \n",
    "    return recovered_signal"
   ]
  },
  {
   "cell_type": "code",
   "execution_count": null,
   "metadata": {
    "collapsed": true,
    "deletable": true,
    "editable": true
   },
   "outputs": [],
   "source": [
    "rec = OMP(imageShape, sparsity, measurements, A)"
   ]
  }
 ],
 "metadata": {
  "anaconda-cloud": {},
  "kernel_info": {
   "name": "python3"
  },
  "kernelspec": {
   "display_name": "Python 3",
   "language": "python",
   "name": "python3"
  },
  "language_info": {
   "codemirror_mode": {
    "name": "ipython",
    "version": 3
   },
   "file_extension": ".py",
   "mimetype": "text/x-python",
   "name": "python",
   "nbconvert_exporter": "python",
   "pygments_lexer": "ipython3",
   "version": "3.6.0"
  },
  "nteract": {
   "version": "0.12.3"
  }
 },
 "nbformat": 4,
 "nbformat_minor": 1
}
