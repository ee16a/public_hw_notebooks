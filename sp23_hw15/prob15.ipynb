{
 "cells": [
  {
   "cell_type": "markdown",
   "id": "a31e4db4-6fb0-4822-a555-32020cf9a8a3",
   "metadata": {},
   "source": [
    "# EECS 16A Spring 2023 HW 15 (Optional homework)"
   ]
  },
  {
   "cell_type": "markdown",
   "id": "1297e139-a83b-4fba-9d87-ca2e67fc723c",
   "metadata": {
    "jp-MarkdownHeadingCollapsed": true,
    "tags": []
   },
   "source": [
    "## Problem 1: Image Analysis"
   ]
  },
  {
   "cell_type": "code",
   "execution_count": 1,
   "id": "8949080a-6275-4c73-93be-651971e9f001",
   "metadata": {},
   "outputs": [],
   "source": [
    "# imports\n",
    "import matplotlib.pyplot as plt\n",
    "import numpy as np"
   ]
  },
  {
   "cell_type": "code",
   "execution_count": 2,
   "id": "5fca7241-cfc1-48ee-8c33-e2b52ad8eed8",
   "metadata": {},
   "outputs": [],
   "source": [
    "def plot_circle(a1, d1, e1):\n",
    "    \"\"\"\n",
    "    You can use this function to plot circles with parameters a1,d1,e1.\n",
    "    The parameters are described in the homework pdf. \n",
    "    \n",
    "    \"\"\"\n",
    "    is_circle = d1**2 + e1**2 + 4*a1 > 0\n",
    "    assert is_circle, \"Not a circle\"\n",
    "    \n",
    "    XLIM_LO = -1\n",
    "    XLIM_HI = 3\n",
    "    YLIM_LO = -2\n",
    "    YLIM_HI = 2\n",
    "    X_COUNT = 400\n",
    "    Y_COUNT = 400\n",
    "    \n",
    "    x = np.linspace(XLIM_LO, XLIM_HI, X_COUNT)\n",
    "    y = np.linspace(YLIM_LO, YLIM_HI, Y_COUNT)\n",
    "    x, y = np.meshgrid(x, y)\n",
    "    f = lambda x,y: a1*(x**2 + y**2) + d1*x + e1*y\n",
    "    \n",
    "    c1 = plt.contour(x, y, f(x,y), [1], colors='r')\n",
    "    plt.axis('scaled')\n",
    "    plt.xlabel('x')\n",
    "    plt.ylabel('y')\n",
    "    plt.title(\"Best Fit Circle\")"
   ]
  },
  {
   "cell_type": "code",
   "execution_count": 3,
   "id": "22941f86-8b2e-4074-9d36-904a18fe992e",
   "metadata": {},
   "outputs": [],
   "source": [
    "def plot_ellipse(a1, b1, c1, d1, e1):\n",
    "    \"\"\"\n",
    "    You can use this function to plot ellipses with parameters a1-e1.\n",
    "    The parameters are described in the homework pdf. \n",
    "    \"\"\"\n",
    "    is_ellipse = b1**2 - 4*a1*c1 < 0\n",
    "    assert is_ellipse, \"Not an ellipse\"\n",
    "    \n",
    "    XLIM_LO = -1\n",
    "    XLIM_HI = 3\n",
    "    YLIM_LO = -2\n",
    "    YLIM_HI = 3\n",
    "    X_COUNT = 400\n",
    "    Y_COUNT = 400\n",
    "    \n",
    "    x = np.linspace(XLIM_LO, XLIM_HI, X_COUNT)\n",
    "    y = np.linspace(YLIM_LO, YLIM_HI, Y_COUNT)\n",
    "    x, y = np.meshgrid(x, y)\n",
    "    f = lambda x,y: a1*x**2 + b1*x*y + c1*y**2 + d1*x + e1*y\n",
    "    \n",
    "    c1 = plt.contour(x, y, f(x,y), [1], colors='r')\n",
    "    plt.axis('scaled')\n",
    "    plt.xlabel('x')\n",
    "    plt.ylabel('y')\n",
    "    plt.title(\"Best Fit Ellipse\")"
   ]
  },
  {
   "cell_type": "code",
   "execution_count": 4,
   "id": "3271389c-cbb8-491a-965d-767b4fe3b529",
   "metadata": {},
   "outputs": [
    {
     "data": {
      "text/plain": [
       "Text(0.5, 1.0, 'Ellipse with parameters (-1, 0, -1, 2, 2)')"
      ]
     },
     "execution_count": 4,
     "metadata": {},
     "output_type": "execute_result"
    },
    {
     "data": {
      "image/png": "[encoded data removed]",
      "text/plain": [
       "<Figure size 432x432 with 1 Axes>"
      ]
     },
     "metadata": {
      "needs_background": "light"
     },
     "output_type": "display_data"
    }
   ],
   "source": [
    "# Here is an example of plot_ellipse.\n",
    "# This plots (x-1)**2 + (y-1)**2 = 1, \n",
    "# which is a circle centered at (1,1). \n",
    "\n",
    "plt.figure(figsize=(6,6))\n",
    "plot_ellipse(-1, 0, -1, 2, 2)\n",
    "plt.title('Ellipse with parameters (-1, 0, -1, 2, 2)')"
   ]
  },
  {
   "cell_type": "markdown",
   "id": "9480c42b-d1cf-4ad5-8685-f129f0fbff49",
   "metadata": {},
   "source": [
    "### Part (c)"
   ]
  },
  {
   "cell_type": "code",
   "execution_count": 5,
   "id": "6cd9f0ad-42dc-4c5f-89e1-cf0b04b8d0ff",
   "metadata": {},
   "outputs": [
    {
     "ename": "SyntaxError",
     "evalue": "invalid syntax (<ipython-input-5-69f7c9743ed5>, line 19)",
     "output_type": "error",
     "traceback": [
      "\u001b[0;36m  File \u001b[0;32m\"<ipython-input-5-69f7c9743ed5>\"\u001b[0;36m, line \u001b[0;32m19\u001b[0m\n\u001b[0;31m    circle_params = # YOUR CODE HERE\u001b[0m\n\u001b[0m                    ^\u001b[0m\n\u001b[0;31mSyntaxError\u001b[0m\u001b[0;31m:\u001b[0m invalid syntax\n"
     ]
    }
   ],
   "source": [
    "# PART C\n",
    "\n",
    "xy = np.array([[0.3, -0.69],\n",
    "               [0.5, 0.87],\n",
    "               [0.9, -0.86],\n",
    "               [1, 0.88],\n",
    "               [1.2, -0.82],\n",
    "               [1.5, .64],\n",
    "               [1.8, 0]])\n",
    "x = xy[:,0]\n",
    "y = xy[:,1]\n",
    "\n",
    "# plot the data points\n",
    "plt.scatter(x,y)\n",
    "\n",
    "# First we compute our estimated coefficients\n",
    "A = np.array([x**2+y**2,x,y]).T \n",
    "b = np.ones((7,))\n",
    "circle_params = # YOUR CODE HERE\n",
    "print(circle_params)\n",
    "\n",
    "# Then we plot\n",
    "plt.figure(figsize=(6,6))\n",
    "plot_circle(circle_params[0], circle_params[1], circle_params[2])\n",
    "plt.scatter(x,y, color='k')\n",
    "\n",
    "# Compute error\n",
    "e = # YOUR CODE HERE\n",
    "print(\"e = {}\\n\".format(e))\n",
    "\n",
    "e_magnitude = # YOUR CODE HERE\n",
    "\n",
    "print(\"||e|| = {}\\n\".format(e_magnitude))\n",
    "N = 7\n",
    "print(\"||e|| / N = {}\\n\".format(e_magnitude / N))"
   ]
  },
  {
   "cell_type": "code",
   "execution_count": null,
   "id": "598024c1-6f82-4474-bd0b-5ed4008e161d",
   "metadata": {},
   "outputs": [],
   "source": [
    "# PART D\n",
    "\n",
    "# Plot the data points\n",
    "plt.scatter(x,y)\n",
    "\n",
    "\n",
    "A = # YOUR CODE HERE \n",
    "b = # YOUR CODE HERE\n",
    "\n",
    "ellipse_params = # YOUR CODE HERE\n",
    "print(ellipse_params)\n",
    "plot_ellipse(ellipse_params[0],ellipse_params[1],ellipse_params[2],ellipse_params[3],ellipse_params[4])\n",
    "\n",
    "# Compute error\n",
    "e = # YOUR CODE HERE\n",
    "print(\"e = {}\\n\".format(e))\n",
    "\n",
    "e_magnitude = # YOUR CODE HERE\n",
    "\n",
    "print(\"||e|| = {}\\n\".format(e_magnitude))\n",
    "N = 7\n",
    "print(\"||e|| / N = {}\\n\".format(e_magnitude / N))"
   ]
  },
  {
   "cell_type": "markdown",
   "id": "c6fbdf50-b49e-4465-8046-6323ba76ef8b",
   "metadata": {
    "jp-MarkdownHeadingCollapsed": true,
    "tags": []
   },
   "source": [
    "## Problem 2: Labeling Patients Using Gene Expression Data"
   ]
  },
  {
   "cell_type": "markdown",
   "id": "6e4422f6-0573-4b10-83a5-063ffdc3c220",
   "metadata": {},
   "source": [
    "### Part (b)"
   ]
  },
  {
   "cell_type": "code",
   "execution_count": 34,
   "id": "9cb7c7d2-567c-4422-a1e9-6d22b30e9fce",
   "metadata": {},
   "outputs": [],
   "source": [
    "#Load training data\n",
    "A = np.load('gene_data_train.npy')\n",
    "b = np.load('diabetes_train.npy')"
   ]
  },
  {
   "cell_type": "code",
   "execution_count": null,
   "id": "0b09f7df-1af1-4cc6-bbba-d8e1b363ce45",
   "metadata": {},
   "outputs": [],
   "source": [
    "#Calculate the coefficients using the train set\n",
    "\n",
    "x = # YOUR CODE HERE\n",
    "\n",
    "print(x)"
   ]
  },
  {
   "cell_type": "markdown",
   "id": "d5930b3d-bbc6-471b-9e17-70beac612c2a",
   "metadata": {},
   "source": [
    "Check to make sure your model gives the correct answer for the training set."
   ]
  },
  {
   "cell_type": "code",
   "execution_count": null,
   "id": "b85efa5c-5702-4744-b8e2-60fa9bf91e43",
   "metadata": {},
   "outputs": [],
   "source": [
    "#Training set sanity check - compare model outputs with training outputs\n",
    "b_new = np.sign(A.dot(x))\n",
    "print(b - b_new) # All differences should be zero"
   ]
  },
  {
   "cell_type": "markdown",
   "id": "46d012d6-99bc-403d-8e38-ac68e7adcf92",
   "metadata": {},
   "source": [
    "### Part (c)"
   ]
  },
  {
   "cell_type": "code",
   "execution_count": 15,
   "id": "f97a7520-2de6-4a90-bf30-e1c2e262f58e",
   "metadata": {},
   "outputs": [],
   "source": [
    "#Load test data\n",
    "A_test = np.load('gene_data_test.npy')\n",
    "b_test = np.load('diabetes_test.npy')"
   ]
  },
  {
   "cell_type": "code",
   "execution_count": null,
   "id": "c0461de3-1eb2-4a5b-a6f0-1cf140212102",
   "metadata": {},
   "outputs": [],
   "source": [
    "#Use your alpha coefficients (vector x) on the test set and check their acuracy by finding the error vector\n",
    "b_calc = np.sign(A_test.dot(x))\n",
    "print(b_calc)\n",
    "print(b_calc - b_test)"
   ]
  },
  {
   "cell_type": "markdown",
   "id": "9751b98f-7077-424b-8e24-cdcb45bb0bd0",
   "metadata": {
    "jp-MarkdownHeadingCollapsed": true,
    "tags": []
   },
   "source": [
    "## Problem 3: How Much is Too Much?\n",
    "\n",
    "Some setup code"
   ]
  },
  {
   "cell_type": "code",
   "execution_count": 16,
   "id": "2469c4f2-9d5b-47e3-8d5c-28f4ca244c30",
   "metadata": {},
   "outputs": [],
   "source": [
    "import numpy as np\n",
    "import numpy.matlib\n",
    "import matplotlib.pyplot as plt\n",
    "\n",
    "%matplotlib inline\n",
    "\n",
    "\"\"\"Function that defines the polynomial curve for a set of \n",
    "parameters and a range. The set of parameters defines the \n",
    "degree of the polynomial.\"\"\"\n",
    "def poly_curve(params,x_input):\n",
    "    # params contains the coefficients that multiply the polynomial terms, in degree of lowest degree to highest degree\n",
    "    degree=len(params)-1\n",
    "    x_range=[x_input[1], x_input[-1]]\n",
    "    x=np.linspace(x_range[0],x_range[1],1000)\n",
    "    y=x*0\n",
    "    \n",
    "    for k in range(0,degree+1):\n",
    "        coeff=params[k]\n",
    "        y=y+list(map(lambda z:coeff*z**k,x))        \n",
    "    return x,y\n",
    "    \n",
    "\"\"\"Function that defines a data matrix for some input data.\"\"\"\n",
    "def data_matrix(input_data,degree): \n",
    "    # degree is the degree of the polynomial you plan to fit the data with    \n",
    "    Data=np.zeros((len(input_data),degree+1))\n",
    "    \n",
    "    for k in range(0,degree+1):\n",
    "        Data[:,k]=(list(map(lambda x:x**k ,input_data)))\n",
    "                  \n",
    "    return Data\n",
    "\n",
    "\"\"\"Function that computes the Least Squares Approximation\"\"\"\n",
    "def leastSquares(D,y): \n",
    "    return np.linalg.lstsq(D,y)[0]\n",
    "                  \n",
    "np.random.seed(10)"
   ]
  },
  {
   "cell_type": "markdown",
   "id": "3e8e4be4-22be-42c4-976c-b1c6afafbdac",
   "metadata": {},
   "source": [
    "### Part a) \n",
    "Some setup code to create our Resistor test Data points and plot them"
   ]
  },
  {
   "cell_type": "code",
   "execution_count": 17,
   "id": "2827670a-8bcb-4374-b97d-d5e3372a3fc0",
   "metadata": {},
   "outputs": [
    {
     "data": {
      "text/plain": [
       "<matplotlib.legend.Legend at 0x1222692e0>"
      ]
     },
     "execution_count": 17,
     "metadata": {},
     "output_type": "execute_result"
    },
    {
     "data": {
      "image/png": "[encoded data removed]",
      "text/plain": [
       "<Figure size 432x288 with 1 Axes>"
      ]
     },
     "metadata": {
      "needs_background": "light"
     },
     "output_type": "display_data"
    }
   ],
   "source": [
    "R = 2\n",
    "x_a = np.linspace(-11,11,200)\n",
    "y_a = R*x_a + (np.random.rand(len(x_a))-0.5)*10\n",
    "fig = plt.figure()\n",
    "ax=fig.add_subplot(111,xlim=[-11,11],ylim=[-21,21])\n",
    "ax.plot(x_a,y_a, '.b', markersize=15)\n",
    "ax.legend(['Data Points'])"
   ]
  },
  {
   "cell_type": "markdown",
   "id": "73c9ae86-73b6-44c9-8734-81df6f9298c4",
   "metadata": {},
   "source": [
    "Let's calculate a polynomial approximation of the above device. "
   ]
  },
  {
   "cell_type": "code",
   "execution_count": 18,
   "id": "8a2fd4a8-3c41-4827-80d7-818c0fcfd8e3",
   "metadata": {},
   "outputs": [
    {
     "name": "stderr",
     "output_type": "stream",
     "text": [
      "<ipython-input-16-035e6c53a709>:34: FutureWarning: `rcond` parameter will change to the default of machine precision times ``max(M, N)`` where M and N are the input matrix dimensions.\n",
      "To use the future default and silence this warning we advise to pass `rcond=None`, to keep using the old, explicitly pass `rcond=-1`.\n",
      "  return np.linalg.lstsq(D,y)[0]\n"
     ]
    },
    {
     "data": {
      "text/plain": [
       "Text(0.5, 1.0, 'Polynomial of Degree 15')"
      ]
     },
     "execution_count": 18,
     "metadata": {},
     "output_type": "execute_result"
    },
    {
     "data": {
      "image/png": "[encoded data removed]",
      "text/plain": [
       "<Figure size 432x288 with 1 Axes>"
      ]
     },
     "metadata": {
      "needs_background": "light"
     },
     "output_type": "display_data"
    }
   ],
   "source": [
    "degree=15\n",
    "D_a = data_matrix(x_a,degree)\n",
    "p_a = leastSquares(D_a, y_a)\n",
    "\n",
    "fig=plt.figure()\n",
    "ax=fig.add_subplot(111,xlim=[-11,11],ylim=[-21,21])\n",
    "x_a_,y_a_=poly_curve(p_a,x_a)\n",
    "ax.plot(x_a,y_a,'.b',markersize=15)\n",
    "ax.plot(x_a_, y_a_, 'r')\n",
    "ax.legend(['Data points'])\n",
    "plt.title('Polynomial of Degree %d' %(len(p_a)-1),fontsize=16)"
   ]
  },
  {
   "cell_type": "markdown",
   "id": "f1dd0c44-768f-45d0-91b5-189902e74d5d",
   "metadata": {},
   "source": [
    "### Part b)"
   ]
  },
  {
   "cell_type": "code",
   "execution_count": 19,
   "id": "f38748cf-66e6-4215-882a-aa2cd10d3581",
   "metadata": {},
   "outputs": [],
   "source": [
    "def cost(x, y, start, end):\n",
    "    \"\"\"Given a set of x and y points, this function \n",
    "    calculates polynomial approximations of varying \n",
    "    degrees from start to end and returns the cost \n",
    "    of each degree in an array\"\"\"\n",
    "    c = []\n",
    "    for degree in range(start, end):\n",
    "        D = data_matrix(x,degree)\n",
    "        params = leastSquares(D,y)\n",
    "        error = np.linalg.norm(y-np.dot(D,params))\n",
    "        c.append(error)\n",
    "    return c"
   ]
  },
  {
   "cell_type": "code",
   "execution_count": 20,
   "id": "bce0f39f-5f36-4cf4-b1b8-13494bf3ac8c",
   "metadata": {},
   "outputs": [
    {
     "name": "stderr",
     "output_type": "stream",
     "text": [
      "<ipython-input-16-035e6c53a709>:34: FutureWarning: `rcond` parameter will change to the default of machine precision times ``max(M, N)`` where M and N are the input matrix dimensions.\n",
      "To use the future default and silence this warning we advise to pass `rcond=None`, to keep using the old, explicitly pass `rcond=-1`.\n",
      "  return np.linalg.lstsq(D,y)[0]\n"
     ]
    },
    {
     "data": {
      "text/plain": [
       "Text(0.5, 1.0, 'Cost vs Degree')"
      ]
     },
     "execution_count": 20,
     "metadata": {},
     "output_type": "execute_result"
    },
    {
     "data": {
      "image/png": "[encoded data removed]",
      "text/plain": [
       "<Figure size 432x288 with 1 Axes>"
      ]
     },
     "metadata": {
      "needs_background": "light"
     },
     "output_type": "display_data"
    }
   ],
   "source": [
    "start = 1\n",
    "end = 15\n",
    "fig=plt.figure()\n",
    "ax=fig.add_subplot(111)\n",
    "ax.plot(range(start, end), cost(x_a,y_a,start,end))\n",
    "plt.title('Cost vs Degree')"
   ]
  }
 ],
 "metadata": {
  "kernelspec": {
   "display_name": "Python 3",
   "language": "python",
   "name": "python3"
  },
  "language_info": {
   "codemirror_mode": {
    "name": "ipython",
    "version": 3
   },
   "file_extension": ".py",
   "mimetype": "text/x-python",
   "name": "python",
   "nbconvert_exporter": "python",
   "pygments_lexer": "ipython3",
   "version": "3.8.9"
  }
 },
 "nbformat": 4,
 "nbformat_minor": 5
}
