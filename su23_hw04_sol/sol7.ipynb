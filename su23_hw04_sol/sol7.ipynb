{
 "cells": [
  {
   "attachments": {},
   "cell_type": "markdown",
   "metadata": {},
   "source": [
    "## EECS 16A Homework 4"
   ]
  },
  {
   "attachments": {},
   "cell_type": "markdown",
   "metadata": {},
   "source": [
    "## Q7: PageRank"
   ]
  },
  {
   "cell_type": "code",
   "execution_count": null,
   "metadata": {},
   "outputs": [],
   "source": [
    "import numpy as np"
   ]
  },
  {
   "attachments": {},
   "cell_type": "markdown",
   "metadata": {},
   "source": [
    "### 7(b)"
   ]
  },
  {
   "cell_type": "markdown",
   "metadata": {},
   "source": [
    "Write code below to help you calculate the steady-state frequencies for each webpage in graph B. (Hint: the command numpy.linalg.eig may be helpful for this.)"
   ]
  },
  {
   "cell_type": "code",
   "execution_count": 25,
   "metadata": {},
   "outputs": [
    {
     "name": "stdout",
     "output_type": "stream",
     "text": [
      "Steady state: [-0.61357199+0.j -0.306786  +0.j -0.2300895 +0.j -0.69026849+0.j]\n"
     ]
    }
   ],
   "source": [
    "A = [[0, 1, 1./3, 1./3],\n",
    "     [0, 0, 1./3, 1./3],\n",
    "     [0, 0, 0, 1./3],\n",
    "     [1, 0, 1./3, 0]]\n",
    "# print(A)\n",
    "eig = np.linalg.eig(A)\n",
    "eigenvalues = eig[0]\n",
    "eigenvectors = eig[1]\n",
    "# print(eigenvalues)\n",
    "# print(eigenvectors)\n",
    "\n",
    "# Empty array to collect all indices of eigenvalue = 1\n",
    "eigenvalue_1_indices = []\n",
    "\n",
    "# Iterate through eigenvalues to find where eigenvalue = 1\n",
    "for i in range(len(eigenvalues)):\n",
    "    if np.round(eigenvalues[i], 4) == 1: # Round to four decimal places to remove floating-point arithmetic errors\n",
    "        eigenvalue_1_indices.append(i);\n",
    "\n",
    "# Print eigenvectors corresponding to eigenvalue = 1\n",
    "for index in eigenvalue_1_indices:\n",
    "    steady_state = eigenvectors[:,index]\n",
    "    print(\"Steady state:\", steady_state)"
   ]
  },
  {
   "attachments": {},
   "cell_type": "markdown",
   "metadata": {},
   "source": [
    "### 7(c)"
   ]
  },
  {
   "cell_type": "markdown",
   "metadata": {},
   "source": [
    "Write code below to help you calculate the steady-state frequencies for each webpage in graph C. (Hint: the command numpy.linalg.eig may be helpful for this.)"
   ]
  },
  {
   "cell_type": "code",
   "execution_count": null,
   "metadata": {},
   "outputs": [
    {
     "name": "stdout",
     "output_type": "stream",
     "text": [
      "Steady state: [0.5+0.j 0.5+0.j 0. +0.j 0. +0.j 0. +0.j]\n",
      "Steady state: [-0. -0.j -0. -0.j  0.4-0.j  0.2-0.j  0.4-0.j]\n"
     ]
    }
   ],
   "source": [
    "T = [[0, 1, 0, 0, 0],\n",
    "     [1, 0, 0, 0, 0],\n",
    "     [0, 0, 0, 0, 1],\n",
    "     [0, 0, 1/2, 0, 0],\n",
    "     [0, 0, 1/2, 1, 0]]\n",
    "# print(A)\n",
    "eig = np.linalg.eig(T)\n",
    "eigenvalues = eig[0]\n",
    "eigenvectors = eig[1]\n",
    "# print(eigenvalues)\n",
    "# print(eigenvectors)\n",
    "\n",
    "# Empty array to collect all indices of eigenvalue = 1\n",
    "eigenvalue_1_indices = []\n",
    "\n",
    "# Iterate through eigenvalues to find where eigenvalue = 1\n",
    "for i in range(len(eigenvalues)):\n",
    "    if np.round(eigenvalues[i], 4) == 1: # Round to four decimal places to remove floating-point arithmetic errors\n",
    "        eigenvalue_1_indices.append(i);\n",
    "\n",
    "# Print eigenvectors corresponding to eigenvalue = 1, scaled to sum to 1\n",
    "for index in eigenvalue_1_indices:\n",
    "    steady_state = eigenvectors[:,index] / sum(eigenvectors[:,index])\n",
    "    print(\"Steady state:\", steady_state)\n",
    "    \n",
    "\n"
   ]
  },
  {
   "cell_type": "code",
   "execution_count": null,
   "metadata": {},
   "outputs": [],
   "source": []
  }
 ],
 "metadata": {
  "kernelspec": {
   "display_name": "Python 3",
   "language": "python",
   "name": "python3"
  },
  "language_info": {
   "codemirror_mode": {
    "name": "ipython",
    "version": 3
   },
   "file_extension": ".py",
   "mimetype": "text/x-python",
   "name": "python",
   "nbconvert_exporter": "python",
   "pygments_lexer": "ipython3",
   "version": "3.10.11"
  },
  "vscode": {
   "interpreter": {
    "hash": "6c59a65b921b75ee99f6fc4c8a54589ca73da7abc1a6e25221642f9caf1c315d"
   }
  }
 },
 "nbformat": 4,
 "nbformat_minor": 2
}
