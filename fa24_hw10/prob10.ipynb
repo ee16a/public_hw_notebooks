{
 "cells": [
  {
   "cell_type": "markdown",
   "metadata": {},
   "source": [
    "# EECS16A: Homework 10"
   ]
  },
  {
   "cell_type": "markdown",
   "metadata": {
    "collapsed": true
   },
   "source": [
    "## Problem 3: Image Analysis"
   ]
  },
  {
   "cell_type": "code",
   "execution_count": null,
   "metadata": {},
   "outputs": [],
   "source": [
    "def plot_circle(a, d, e):\n",
    "    \"\"\"\n",
    "    You can use this function to plot circles with parameters a,d,e.\n",
    "    The parameters are described in the homework pdf. \n",
    "    \n",
    "    \"\"\"\n",
    "    is_circle = d**2 + e**2 - 4*a > 0\n",
    "    assert is_circle, \"Not a circle\"\n",
    "    \n",
    "    XLIM_LO = -1\n",
    "    XLIM_HI = 3\n",
    "    YLIM_LO = -2\n",
    "    YLIM_HI = 2\n",
    "    X_COUNT = 400\n",
    "    Y_COUNT = 400\n",
    "    \n",
    "    x = np.linspace(XLIM_LO, XLIM_HI, X_COUNT)\n",
    "    y = np.linspace(YLIM_LO, YLIM_HI, Y_COUNT)\n",
    "    x, y = np.meshgrid(x, y)\n",
    "    f = lambda x,y: a*(x**2 + y**2) + d*x + e*y\n",
    "    \n",
    "    c1 = plt.contour(x, y, f(x,y), [1], colors='r')\n",
    "    plt.axis('scaled')\n",
    "    plt.xlabel('x')\n",
    "    plt.ylabel('y')\n",
    "    plt.title(\"Best Fit Circle\")"
   ]
  },
  {
   "cell_type": "code",
   "execution_count": null,
   "metadata": {},
   "outputs": [],
   "source": [
    "def plot_ellipse(a, b, c, d, e):\n",
    "    \"\"\"\n",
    "    You can use this function to plot ellipses with parameters a-e.\n",
    "    The parameters are described in the homework pdf. \n",
    "    \"\"\"\n",
    "    is_ellipse = b**2 - 4*a*c < 0\n",
    "    assert is_ellipse, \"Not an ellipse\"\n",
    "    \n",
    "    XLIM_LO = -1\n",
    "    XLIM_HI = 3\n",
    "    YLIM_LO = -2\n",
    "    YLIM_HI = 2\n",
    "    X_COUNT = 400\n",
    "    Y_COUNT = 400\n",
    "    \n",
    "    x = np.linspace(XLIM_LO, XLIM_HI, X_COUNT)\n",
    "    y = np.linspace(YLIM_LO, YLIM_HI, Y_COUNT)\n",
    "    x, y = np.meshgrid(x, y)\n",
    "    f = lambda x,y: a*x**2 + b*x*y + c*y**2 + d*x + e*y\n",
    "    \n",
    "    c1 = plt.contour(x, y, f(x,y), [1], colors='r')\n",
    "    plt.axis('scaled')\n",
    "    plt.xlabel('x')\n",
    "    plt.ylabel('y')\n",
    "    plt.title(\"Best Fit Ellipse\")"
   ]
  },
  {
   "cell_type": "code",
   "execution_count": null,
   "metadata": {},
   "outputs": [],
   "source": [
    "# Here is an example of plot_ellipse.\n",
    "# This plots (x-1)**2 + (y-1)**2 = 1, \n",
    "# which is a circle centered at (1,1). \n",
    "\n",
    "plt.figure(figsize=(6,6))\n",
    "plot_ellipse(1, 0, 1, -1, -1)"
   ]
  },
  {
   "cell_type": "markdown",
   "metadata": {},
   "source": [
    "You may find [plt.scatter](http://matplotlib.org/api/pyplot_api.html) useful for plotting the points."
   ]
  },
  {
   "cell_type": "code",
   "execution_count": null,
   "metadata": {},
   "outputs": [],
   "source": [
    "# PART C\n",
    "\n",
    "xy = np.array([[0.3, -0.69],\n",
    "               [0.5, 0.87],\n",
    "               [0.9, -0.86],\n",
    "               [1, 0.88],\n",
    "               [1.2, -0.82],\n",
    "               [1.5, .64],\n",
    "               [1.8, 0]])\n",
    "x = xy[:,0]\n",
    "y = xy[:,1]\n",
    "\n",
    "# plot the data points\n",
    "plt.scatter(x,y)\n",
    "\n",
    "A = np.array([x**2+y**2,x,y]).T # Hint: this generates the A matrix\n",
    "b = # YOUR CODE HERE\n",
    "\n",
    "circle_params = # YOUR CODE HERE\n",
    "print(circle_params)\n",
    "plot_circle(circle_params[0],circle_params[1],circle_params[2])\n"
   ]
  },
  {
   "cell_type": "code",
   "execution_count": null,
   "metadata": {},
   "outputs": [],
   "source": [
    "# Computing the error for circle model\n",
    "e = # YOUR CODE HERE\n",
    "print(\"e = {}\\n\".format(e))\n",
    "print(\"||e|| = {}\\n\".format(np.linalg.norm(e)))\n",
    "N = 7\n",
    "print(\"||e|| / N = {}\\n\".format(np.linalg.norm(e)/N))"
   ]
  },
  {
   "cell_type": "code",
   "execution_count": null,
   "metadata": {},
   "outputs": [],
   "source": [
    "# PART D\n",
    "\n",
    "# plot the data points\n",
    "plt.scatter(x,y)\n",
    "\n",
    "A = # YOUR CODE HERE\n",
    "b = # YOUR CODE HERE\n",
    "\n",
    "ellipse_params = # YOUR CODE HERE\n",
    "print(ellipse_params)\n",
    "plot_ellipse(ellipse_params[0],ellipse_params[1],ellipse_params[2],ellipse_params[3],ellipse_params[4])\n"
   ]
  },
  {
   "cell_type": "code",
   "execution_count": null,
   "metadata": {},
   "outputs": [],
   "source": [
    "# Computing the error for ellipse model\n",
    "e = # YOUR CODE HERE\n",
    "print(\"e = {}\\n\".format(e))\n",
    "print(\"||e|| = {}\\n\".format(np.linalg.norm(e)))\n",
    "N = 7\n",
    "print(\"||e|| / N = {}\\n\".format(np.linalg.norm(e)/N))"
   ]
  },
  {
   "cell_type": "markdown",
   "metadata": {},
   "source": [
    "The code below compares our estimated circle and ellipse with the true ellipse. None of this is required, just an extra comparision between the two 2 estimations.\n"
   ]
  },
  {
   "cell_type": "code",
   "execution_count": null,
   "metadata": {},
   "outputs": [],
   "source": [
    "def plot_circle2(a, d, e):\n",
    "    \"\"\"\n",
    "    This plots the true ellipse along with the circle\n",
    "    that you plot.\n",
    "    \n",
    "    You can comment out the line that starts with `plt.title`\n",
    "    because this makes assumptions regarding the title of your plot.\n",
    "    \"\"\"\n",
    "    is_circle = d**2 + e**2 - 4*a > 0\n",
    "    assert is_circle, \"Not a circle\"\n",
    "    \n",
    "    XLIM_LO = -1\n",
    "    XLIM_HI = 3\n",
    "    YLIM_LO = -2\n",
    "    YLIM_HI = 2\n",
    "    X_COUNT = 400\n",
    "    Y_COUNT = 400\n",
    "    \n",
    "    x = np.linspace(XLIM_LO, XLIM_HI, X_COUNT)\n",
    "    y = np.linspace(YLIM_LO, YLIM_HI, Y_COUNT)\n",
    "    x, y = np.meshgrid(x, y)\n",
    "    f = lambda x,y: a*(x**2 + y**2) + d*x + e*y\n",
    "    f2 = lambda x,y: 3*x*x + .5*x*y + 4*y*y -5*x -.6*y\n",
    "    \n",
    "    c1 = plt.contour(x, y, f(x,y), [1], colors='r')\n",
    "    c2 = plt.contour(x, y, f2(x,y), [1], colors='b')\n",
    "    plt.axis('scaled')\n",
    "    plt.xlabel('x')\n",
    "    plt.ylabel('y')\n",
    "    plt.title(r'${:.2f}(x^2 + y^2) {:+.2f}x {:+.2f}y$'.format(a,d,e))\n",
    "    \n",
    "    lines = (c1.collections[0], c2.collections[0])\n",
    "    labels = ('Least Squares', 'True Ellipse')\n",
    "    plt.legend(lines, labels, loc='upper right')\n",
    "\n",
    "def plot_ellipse2(a, b, c, d, e):\n",
    "    \"\"\"\n",
    "    This plots the true ellipse along with the ellipse\n",
    "    that you plot.\n",
    "    \n",
    "    You can comment out the line that starts with `plt.title`\n",
    "    because this makes assumptions regarding the title of your plot.\n",
    "    \"\"\"\n",
    "    is_ellipse = b**2 - 4*a*c < 0\n",
    "    assert is_ellipse, \"Not an ellipse\"\n",
    "    \n",
    "    XLIM_LO = -1\n",
    "    XLIM_HI = 3\n",
    "    YLIM_LO = -2\n",
    "    YLIM_HI = 2\n",
    "    X_COUNT = 400\n",
    "    Y_COUNT = 400\n",
    "    \n",
    "    x = np.linspace(XLIM_LO, XLIM_HI, X_COUNT)\n",
    "    y = np.linspace(YLIM_LO, YLIM_HI, Y_COUNT)\n",
    "    x, y = np.meshgrid(x, y)\n",
    "    f = lambda x,y: a*x**2 + b*x*y + c*y**2 + d*x + e*y\n",
    "    f2 = lambda x,y: 3*x*x + .5*x*y + 4*y*y -5*x -.6*y\n",
    "    \n",
    "    c1 = plt.contour(x, y, f(x,y), [1], colors='r')\n",
    "    c2 = plt.contour(x, y, f2(x,y), [1], colors='b')\n",
    "    plt.axis('scaled')\n",
    "    plt.xlabel('x')\n",
    "    plt.ylabel('y')\n",
    "    plt.title(r'${:.2f}x^2 {:+.2f}xy {:+.2f}y^2 {:+.2f}x {:+.2f}y$'.format(a,b,c,d,e))\n",
    "    \n",
    "    lines = (c1.collections[0], c2.collections[0])\n",
    "    labels = ('Least Squares', 'True Ellipse')\n",
    "    plt.legend(lines, labels, loc='upper right')"
   ]
  },
  {
   "cell_type": "code",
   "execution_count": null,
   "metadata": {},
   "outputs": [],
   "source": [
    "# Here is an example of plot_ellipse2.\n",
    "# This plots (x-1)**2 + (y-1)**2 = 1, \n",
    "# which is a circle centered at (1,1). \n",
    "\n",
    "plt.figure(figsize=(6,6))\n",
    "plot_ellipse2(1, 0, 1, -1, -1)"
   ]
  },
  {
   "cell_type": "code",
   "execution_count": null,
   "metadata": {},
   "outputs": [],
   "source": [
    "# Circle Model vs True Ellipse\n",
    "plt.figure(figsize=(6,6))\n",
    "plot_circle2(circle_params[0],circle_params[1],circle_params[2])\n",
    "plt.scatter(x,y, color='k')"
   ]
  },
  {
   "cell_type": "code",
   "execution_count": null,
   "metadata": {},
   "outputs": [],
   "source": [
    "# Ellipse Model vs True Ellipse\n",
    "\n",
    "plt.figure(figsize=(6,6))\n",
    "plot_ellipse2(ellipse_params[0],ellipse_params[1],ellipse_params[2],ellipse_params[3],ellipse_params[4])\n",
    "plt.scatter(x,y,color='k')"
   ]
  }
 ],
 "metadata": {
  "anaconda-cloud": {},
  "kernelspec": {
   "display_name": "Python 3 (ipykernel)",
   "language": "python",
   "name": "python3"
  },
  "language_info": {
   "codemirror_mode": {
    "name": "ipython",
    "version": 3
   },
   "file_extension": ".py",
   "mimetype": "text/x-python",
   "name": "python",
   "nbconvert_exporter": "python",
   "pygments_lexer": "ipython3",
   "version": "3.8.1"
  }
 },
 "nbformat": 4,
 "nbformat_minor": 2
}
