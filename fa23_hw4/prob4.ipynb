{
  "cells": [
    {
      "cell_type": "markdown",
      "metadata": {
        "id": "qjT9X-MOvtpY"
      },
      "source": [
        "## EECS 16A Homework 4"
      ]
    },
    {
      "cell_type": "markdown",
      "metadata": {
        "id": "ne7IEjOfvtpZ"
      },
      "source": [
        "## Noisy Images"
      ]
    },
    {
      "cell_type": "code",
      "execution_count": 5,
      "metadata": {
        "id": "P00fCEEtvtpZ"
      },
      "outputs": [],
      "source": [
        "import numpy as np\n",
        "import matplotlib.pyplot as plt\n",
        "%matplotlib inline"
      ]
    },
    {
      "cell_type": "markdown",
      "metadata": {
        "id": "9gciY3ytvtpa"
      },
      "source": [
        "### Plotting the image and the masks"
      ]
    },
    {
      "cell_type": "code",
      "execution_count": null,
      "metadata": {
        "id": "Bc7rsyfwvtpa"
      },
      "outputs": [],
      "source": [
        "# Let's load some data to start off with.\n",
        "H3 = np.loadtxt(\"cond_10e6.txt\", delimiter=',').reshape(100,100)\n",
        "H2 = np.loadtxt(\"cond_1e3.txt\", delimiter=',').reshape(100,100)\n",
        "H1 = np.eye(100)\n",
        "img = np.loadtxt(\"image.txt\", delimiter=',').reshape(10,10)\n",
        "\n",
        "# The code below displays the image and the set of masks.\n",
        "plt.figure(0)\n",
        "plt.imshow(img,cmap='gray')\n",
        "plt.figure(1)\n",
        "plt.imshow(H1,cmap='gray')\n",
        "plt.figure(2)\n",
        "plt.imshow(H2,cmap='gray')\n",
        "plt.figure(3)\n",
        "plt.imshow(H3,cmap='gray')"
      ]
    },
    {
      "cell_type": "code",
      "execution_count": 7,
      "metadata": {
        "id": "ZrFvEwivvtpb"
      },
      "outputs": [],
      "source": [
        "# We'll use numpy.random to make some noise.\n",
        "noise = np.random.normal(0.5,0.1)\n",
        "\n",
        "# Lets compute the measurement vector s for each matrix, i.e. s = Hi + w (w is the noise vector).\n",
        "s1 = H1.dot(img.reshape(100)) + noise\n",
        "s2 = H2.dot(img.reshape(100)) + noise\n",
        "s3 = H3.dot(img.reshape(100)) + noise"
      ]
    },
    {
      "cell_type": "markdown",
      "metadata": {
        "id": "3DzHI4BBvtpb"
      },
      "source": [
        "### Image recovered from H1"
      ]
    },
    {
      "cell_type": "code",
      "execution_count": null,
      "metadata": {
        "id": "2gk_Ke3Ivtpb"
      },
      "outputs": [],
      "source": [
        "# First, let's compute our first recovered image, imgrec1, from the measurement vector s1.\n",
        "# Since s1 was generated using H1, we can apply the inverse of H1.\n",
        "# We also want to find the minimum eigenvalue of H1.\n",
        "imgrec1 = np.linalg.inv(H1).dot(s1)\n",
        "eigenvalues1 = np.linalg.eig(H1)[0]\n",
        "print(\"Is the matrix invertible?\", abs(np.linalg.det(H1)) > 0.5)\n",
        "print(\"The smallest eigenvalue is:\", min(np.absolute(eigenvalues1)))\n",
        "print(\"Number of eigenvectors:\", len(eigenvalues1))\n",
        "plt.imshow(imgrec1.reshape(10,10), cmap='gray')"
      ]
    },
    {
      "cell_type": "markdown",
      "metadata": {
        "id": "30Efq1CRvtpb"
      },
      "source": [
        "### Image recovered from H2"
      ]
    },
    {
      "cell_type": "code",
      "execution_count": null,
      "metadata": {
        "id": "ST0NQ_05vtpb"
      },
      "outputs": [],
      "source": [
        "# Next, let's compute our recovered image imgrec2 from the measurement vector s2.\n",
        "# We also want to find the minimum eigenvalue of H2.\n",
        "imgrec2 = np.linalg.inv(H2).dot(s2)\n",
        "eigenvalues2 = np.linalg.eig(H2)[0]\n",
        "print(\"Is the matrix invertible?\", abs(np.linalg.det(H2)) > 0.5)\n",
        "print(\"The smallest eigenvalue is:\", min(np.absolute(eigenvalues2)))\n",
        "print(\"Number of eigenvectors:\", len(eigenvalues2))\n",
        "plt.imshow(imgrec2.reshape(10,10), cmap='gray')"
      ]
    },
    {
      "cell_type": "markdown",
      "metadata": {
        "id": "1XCUaOh0vtpc"
      },
      "source": [
        "### Image recovered from H3"
      ]
    },
    {
      "cell_type": "code",
      "execution_count": null,
      "metadata": {
        "id": "1PGLeI8Mvtpc"
      },
      "outputs": [],
      "source": [
        "# Finally, let's compute our recovered image imgrec3 from the measurement vector s3.\n",
        "# We also want to find the minimum eigenvalue of H3.\n",
        "imgrec3 = np.linalg.inv(H3).dot(s3)\n",
        "eigenvalues3 = np.linalg.eig(H3)[0]\n",
        "print(\"Is the matrix invertible?\", abs(np.linalg.det(H3)) > 0.5)\n",
        "print(\"The smallest eigenvalue is:\", min(np.absolute(eigenvalues3)))\n",
        "print(\"Number of eigenvectors:\", len(eigenvalues3))\n",
        "plt.imshow(imgrec3.reshape(10,10), cmap='gray')"
      ]
    }
  ],
  "metadata": {
    "kernelspec": {
      "display_name": "Python 3",
      "language": "python",
      "name": "python3"
    },
    "language_info": {
      "codemirror_mode": {
        "name": "ipython",
        "version": 3
      },
      "file_extension": ".py",
      "mimetype": "text/x-python",
      "name": "python",
      "nbconvert_exporter": "python",
      "pygments_lexer": "ipython3",
      "version": "3.8.5"
    },
    "colab": {
      "provenance": []
    }
  },
  "nbformat": 4,
  "nbformat_minor": 0
}