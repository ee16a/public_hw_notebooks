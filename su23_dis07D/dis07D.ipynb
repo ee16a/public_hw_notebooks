{
 "cells": [
  {
   "attachments": {},
   "cell_type": "markdown",
   "metadata": {},
   "source": [
    "#### EECS 16A Discussion 07D"
   ]
  },
  {
   "attachments": {},
   "cell_type": "markdown",
   "metadata": {},
   "source": [
    "# Problem 1: Polynomial Fitting"
   ]
  },
  {
   "attachments": {},
   "cell_type": "markdown",
   "metadata": {},
   "source": [
    "In this discussion, we are trying to fit data (observations) of the form $\\{(x_i,y_i),i=1,2,...,n\\}$ to a polynomial that we know looks like this:\n",
    "\n",
    "$$y = f(x) = a_0 + a_1x + a_2x^2 + a_3x^3 + a_4x^4$$\n",
    "\n",
    "In other words, we want to find $a_0$, $a_1$, $a_2$, $a_3$, and $a_4$ that best fit the data.\n",
    "\n",
    "More generally, we might want to fit the data to a polynomial of different degree (for instance, if we do not know that the polynomial looks like as above), so we could try to solve for some $a_0,a_1,\\ldots,a_d$ that define a $d$-degree polynomial.\n",
    "\n",
    "Note that the observations are not perfect -- they are *noisy*, which means that $y_i \\neq f(x_i)$ in general! That is what makes this problem interesting.\n",
    "\n",
    "This first block of code contains functions that will help us set up some useful objects -- the polynomial curve for a set of parameters $a_0$, $a_1$, $a_2$, $a_3$, and $a_4$ and a \"data\" matrix that we will use to compute the least squares estimate later."
   ]
  },
  {
   "attachments": {},
   "cell_type": "markdown",
   "metadata": {},
   "source": [
    "### Initialization"
   ]
  },
  {
   "cell_type": "code",
   "execution_count": 2,
   "metadata": {},
   "outputs": [],
   "source": [
    "import numpy as np\n",
    "import numpy.matlib\n",
    "import matplotlib.pyplot as plt\n",
    "from mpl_toolkits.mplot3d import Axes3D\n",
    "from numpy import pi, cos, exp\n",
    "\n",
    "%matplotlib inline"
   ]
  },
  {
   "attachments": {},
   "cell_type": "markdown",
   "metadata": {},
   "source": [
    "### Construct Data Matrix\n",
    "Use this block to make the data matrix. The input data is given in the array `x_data`, and the output data is given in the array `y_data`.\n",
    "\n",
    "To construct the data matrix, which we call `DataMat`, you only need to specify what degree polynomial you will use to fit the data.\n",
    "\n",
    "If `x_data` has the form `x_{data}`$ =\\begin{bmatrix}x_1\\\\x_2\\\\ \\vdots \\\\x_n \\end{bmatrix}$, then `DataMat` has the form `DataMat` $=\\begin{bmatrix}1 &x_1&x_1^2& \\cdots &x_1^d\\\\1 &x_2&x_2^2& \\cdots &x_2^d\\\\ \\vdots & \\vdots & \\vdots & \\ddots & \\vdots \\\\1 &x_n&x_n^2& \\cdots &x_n^d \\end{bmatrix}$, where $d$ is the degree of the polynomial. "
   ]
  },
  {
   "attachments": {},
   "cell_type": "markdown",
   "metadata": {},
   "source": [
    "### Function that defines a data matrix for some input data"
   ]
  },
  {
   "cell_type": "code",
   "execution_count": 3,
   "metadata": {},
   "outputs": [],
   "source": [
    "\"\"\"You'll understand why it's constructed like this after\n",
    "doing the worksheet!\"\"\"\n",
    "def data_matrix(input_data,degree): \n",
    "    # degree is the degree of the polynomial you plan to fit the data with    \n",
    "    Data=np.zeros((len(input_data),degree+1))\n",
    "    \n",
    "    for k in range(0,degree+1):\n",
    "        Data[:,k]=(list(map(lambda x:x**k ,input_data)))\n",
    "                  \n",
    "    return Data\n"
   ]
  },
  {
   "attachments": {},
   "cell_type": "markdown",
   "metadata": {},
   "source": [
    "### Function that helps with plotting "
   ]
  },
  {
   "cell_type": "code",
   "execution_count": 4,
   "metadata": {},
   "outputs": [],
   "source": [
    "\"\"\"Function that defines the polynomial curve for a set of parameters and a range. The set of parameters defines the degree of the\n",
    "polynomial.\"\"\"\n",
    "def poly_curve(params,x_input):\n",
    "    # params contains the coefficients that multiply the polynomial terms, in degree of lowest degree to highest degree\n",
    "    degree=len(params)-1\n",
    "    x_range=[np.min(x_input), np.max(x_input)]\n",
    "    x=np.linspace(x_range[0],x_range[1],1000)\n",
    "    y=x*0\n",
    "    \n",
    "    for k in range(0,degree+1):\n",
    "        coeff=params[k]\n",
    "        y=y+list(map(lambda z:coeff*z**k,x))        \n",
    "    return x,y\n"
   ]
  },
  {
   "attachments": {},
   "cell_type": "markdown",
   "metadata": {},
   "source": [
    "### Printing the data matrix"
   ]
  },
  {
   "cell_type": "code",
   "execution_count": 5,
   "metadata": {},
   "outputs": [
    {
     "name": "stdout",
     "output_type": "stream",
     "text": [
      "[[1.000000e+00 0.000000e+00 0.000000e+00 0.000000e+00 0.000000e+00]\n",
      " [1.000000e+00 5.000000e-01 2.500000e-01 1.250000e-01 6.250000e-02]\n",
      " [1.000000e+00 1.000000e+00 1.000000e+00 1.000000e+00 1.000000e+00]\n",
      " [1.000000e+00 1.500000e+00 2.250000e+00 3.375000e+00 5.062500e+00]\n",
      " [1.000000e+00 2.000000e+00 4.000000e+00 8.000000e+00 1.600000e+01]\n",
      " [1.000000e+00 2.500000e+00 6.250000e+00 1.562500e+01 3.906250e+01]\n",
      " [1.000000e+00 3.000000e+00 9.000000e+00 2.700000e+01 8.100000e+01]\n",
      " [1.000000e+00 3.500000e+00 1.225000e+01 4.287500e+01 1.500625e+02]\n",
      " [1.000000e+00 4.000000e+00 1.600000e+01 6.400000e+01 2.560000e+02]\n",
      " [1.000000e+00 4.500000e+00 2.025000e+01 9.112500e+01 4.100625e+02]]\n"
     ]
    }
   ],
   "source": [
    "x_data = [0.0, 0.5, 1, 1.5, 2, 2.5, 3, 3.5, 4, 4.5]\n",
    "y_data = [24.0, 6.61, 0, -0.95, 0.07, 0.73, -0.12, -0.83, -0.04, 6.42]\n",
    "\n",
    "D = data_matrix(x_data, 4)\n",
    "print(D)\n"
   ]
  },
  {
   "attachments": {},
   "cell_type": "markdown",
   "metadata": {},
   "source": [
    "### Least Squares\n",
    "Recall the system of equations we are trying to solve here:\n",
    "\n",
    "$$\\texttt{D}\\vec{a} = \\vec{y},$$ where $\\vec{a} = \\begin{bmatrix}a_0\\\\a_1\\\\:\\\\a_d\\end{bmatrix}$ and $\\vec{y} = \\begin{bmatrix}y_1\\\\y_2\\\\ : \\\\y_n \\end{bmatrix}$.\n",
    "\n",
    "In the next block, you will implement code to compute $\\vec{a}$, the set of optimal polynomial coefficients (optimal in a least squares sense) to fit the data. Put the coefficients in an array called params."
   ]
  },
  {
   "attachments": {},
   "cell_type": "markdown",
   "metadata": {},
   "source": [
    "### Finding the least squares solution"
   ]
  },
  {
   "cell_type": "code",
   "execution_count": 6,
   "metadata": {},
   "outputs": [
    {
     "name": "stdout",
     "output_type": "stream",
     "text": [
      "[ 24.00958042 -49.99515152  35.0039627   -9.99561772   0.99841492]\n"
     ]
    }
   ],
   "source": [
    "# params = np.linalg.solve(np.dot(np.transpose(D), D), np.dot(np.transpose(D), y_data))\n",
    "params = np.linalg.inv(np.transpose(D) @ D) @ np.transpose(D) @ y_data\n",
    "print(params)"
   ]
  },
  {
   "attachments": {},
   "cell_type": "markdown",
   "metadata": {},
   "source": [
    "### Plot Curve Fit\n",
    "Use the next block to compare your fitted polynomial to the data. All you need to do is enter the polynomial coefficients (in degree of lowest degree to highest degree) into an array called params. "
   ]
  },
  {
   "attachments": {},
   "cell_type": "markdown",
   "metadata": {},
   "source": [
    "### Plotting the fitted polynomial and the original datapoints"
   ]
  },
  {
   "cell_type": "code",
   "execution_count": 15,
   "metadata": {},
   "outputs": [
    {
     "data": {
      "text/plain": [
       "Text(0.5, 1.0, 'Polynomial of Degree 4')"
      ]
     },
     "execution_count": 15,
     "metadata": {},
     "output_type": "execute_result"
    },
    {
     "data": {
      "image/png": "[encoded data removed]",
      "text/plain": [
       "<Figure size 432x288 with 1 Axes>"
      ]
     },
     "metadata": {
      "needs_background": "light"
     },
     "output_type": "display_data"
    }
   ],
   "source": [
    "fig=plt.figure()\n",
    "ax=fig.add_subplot(111,xlim=[-1,5],ylim=[-5,25])\n",
    "x,y=poly_curve(params,x_data)  ###### Plotting the fitted data\n",
    "\n",
    "ax.plot(x_data,y_data,'.b',markersize=15)   ###### Plotting the original data\n",
    "ax.plot(x,y,'r') \n",
    "ax.legend(['Data points','line fit'])\n",
    "plt.title('Polynomial of Degree %d' %(len(params)-1),fontsize=16)"
   ]
  },
  {
   "attachments": {},
   "cell_type": "markdown",
   "metadata": {},
   "source": [
    "Additionally, it is helpful to see what the error of the our polynomial fit is. Run the error function in the cell below to analyze how close the polynomial is to the true values.\n"
   ]
  },
  {
   "cell_type": "code",
   "execution_count": 25,
   "metadata": {},
   "outputs": [
    {
     "data": {
      "text/plain": [
       "0.05312027972027798"
      ]
     },
     "execution_count": 25,
     "metadata": {},
     "output_type": "execute_result"
    }
   ],
   "source": [
    "def error(params, x_data, y_data):\n",
    "    return np.sum((y_data - numpy.polyval(params[::-1], x_data))**2)\n",
    "    \n",
    "error(params, x_data, y_data)"
   ]
  },
  {
   "attachments": {},
   "cell_type": "markdown",
   "metadata": {},
   "source": [
    "### Exploring other polynomials\n",
    "What if we didn't know what the degree of the polynomial was? What if instead we decided that our polynomial had degree 1, 2 or even 20? Change the degree variable to see how different degree polynomials fit the data. Try degrees of 1, 4, 8, 15, 20 to get started. You can also look at how the error changes as we change the degree"
   ]
  },
  {
   "cell_type": "code",
   "execution_count": 37,
   "metadata": {},
   "outputs": [
    {
     "data": {
      "text/plain": [
       "Text(0.5, 1.0, 'Polynomial of Degree 4')"
      ]
     },
     "execution_count": 37,
     "metadata": {},
     "output_type": "execute_result"
    },
    {
     "data": {
      "image/png": "[encoded data removed]",
      "text/plain": [
       "<Figure size 432x288 with 1 Axes>"
      ]
     },
     "metadata": {
      "needs_background": "light"
     },
     "output_type": "display_data"
    }
   ],
   "source": [
    "degree = 4 # use this to change the degree of your polynomial\n",
    "D = data_matrix(x_data, degree)\n",
    "params = np.linalg.lstsq(D, y_data, rcond=None)[0]\n",
    "#plotting the figure\n",
    "fig=plt.figure()\n",
    "ax=fig.add_subplot(111,xlim=[-1,5],ylim=[-25,25])\n",
    "x,y=poly_curve(params, x_data)  ###### Plotting the fitted data\n",
    "\n",
    "ax.plot(x_data,y_data,'.b',markersize=15)   ###### Plotting the original data\n",
    "ax.plot(x,y,'r') \n",
    "ax.legend(['Data points','line fit'])\n",
    "plt.title('Polynomial of Degree %d' %(len(params)-1),fontsize=16)"
   ]
  },
  {
   "cell_type": "code",
   "execution_count": 38,
   "metadata": {},
   "outputs": [
    {
     "data": {
      "text/plain": [
       "0.05312027972027535"
      ]
     },
     "execution_count": 38,
     "metadata": {},
     "output_type": "execute_result"
    }
   ],
   "source": [
    "error(params, x_data, y_data)"
   ]
  },
  {
   "attachments": {},
   "cell_type": "markdown",
   "metadata": {},
   "source": [
    "### Manipulating Data Points.\n",
    "What happens if we remove data points or the noise of our data is larger? Run the cells below to look at what happens if we remove data points or made our observations a lot noisier. You can change how many data points to drop or how much noise you want. Additionally, see how noise and dropping data points interacts with the degree of the polynomial and the error it produces."
   ]
  },
  {
   "cell_type": "code",
   "execution_count": 59,
   "metadata": {},
   "outputs": [],
   "source": [
    "\"\"\"NOTE: We only have 10 data points, so choosing num_points greater than 10 or less than  will break this function!!!\"\"\"\n",
    "def reduce_points(x_data, y_data, num_points=0):\n",
    "    x = np.array(x_data)\n",
    "    y =np.array(y_data)\n",
    "    indexes = np.random.choice(len(x_data), size= num_points, replace=False)\n",
    "    return x[indexes], y[indexes] "
   ]
  },
  {
   "cell_type": "code",
   "execution_count": 94,
   "metadata": {},
   "outputs": [],
   "source": [
    "\"NOTE: try ranges of 0.01 to 10 to see the differences\"\"\"\n",
    "def noisy_points(y_data, noise_factor = 1):\n",
    "    return np.array(y_data) + noise_factor * np.random.randn(len(y_data))"
   ]
  },
  {
   "cell_type": "code",
   "execution_count": 109,
   "metadata": {},
   "outputs": [
    {
     "name": "stdout",
     "output_type": "stream",
     "text": [
      "0.05312027972027508\n"
     ]
    },
    {
     "data": {
      "image/png": "[encoded data removed]",
      "text/plain": [
       "<Figure size 432x288 with 1 Axes>"
      ]
     },
     "metadata": {
      "needs_background": "light"
     },
     "output_type": "display_data"
    }
   ],
   "source": [
    "\"\"\"Removing points\"\"\"\n",
    "num_points = 10 ### number of points to keep, set it to 10 if you want to keep all points\n",
    "new_x, new_y = reduce_points(x_data, y_data, num_points)\n",
    "new_y = noisy_points(new_y, 0) ### how much extra noise do you want, set it to 0 if you do not want any noise\n",
    "degree = 4 # use this to change the degree of your polynomial\n",
    "D = data_matrix(new_x, degree)\n",
    "params = np.linalg.lstsq(D, new_y, rcond=None)[0]\n",
    "#plotting the figure\n",
    "fig=plt.figure()\n",
    "ax=fig.add_subplot(111,xlim=[-1,5],ylim=[-25,25])\n",
    "x,y=poly_curve(params, new_x)  ###### Plotting the fitted data\n",
    "\n",
    "ax.plot(new_x,new_y,'.b',markersize=15)   ###### Plotting the new data\n",
    "ax.plot(x,y,'r') \n",
    "ax.legend(['Data points','line fit'])\n",
    "plt.title('Polynomial of Degree %d' %(len(params)-1),fontsize=16)\n",
    "print(error(params, new_x, new_y))"
   ]
  },
  {
   "cell_type": "code",
   "execution_count": null,
   "metadata": {},
   "outputs": [],
   "source": []
  }
 ],
 "metadata": {
  "anaconda-cloud": {},
  "kernelspec": {
   "display_name": "Python 3",
   "language": "python",
   "name": "python3"
  },
  "language_info": {
   "codemirror_mode": {
    "name": "ipython",
    "version": 3
   },
   "file_extension": ".py",
   "mimetype": "text/x-python",
   "name": "python",
   "nbconvert_exporter": "python",
   "pygments_lexer": "ipython3",
   "version": "3.8.3"
  },
  "vscode": {
   "interpreter": {
    "hash": "31f2aee4e71d21fbe5cf8b01ff0e069b9275f58929596ceb00d14d90e3e16cd6"
   }
  }
 },
 "nbformat": 4,
 "nbformat_minor": 1
}
