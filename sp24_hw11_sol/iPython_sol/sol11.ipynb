{
 "cells": [
  {
   "cell_type": "markdown",
   "metadata": {},
   "source": [
    "# EECS16A: Homework 11"
   ]
  },
  {
   "cell_type": "markdown",
   "metadata": {},
   "source": [
    "# Labeling Patients Using Gene Expression Data"
   ]
  },
  {
   "cell_type": "code",
   "execution_count": 18,
   "metadata": {},
   "outputs": [],
   "source": [
    "import numpy as np"
   ]
  },
  {
   "cell_type": "code",
   "execution_count": 19,
   "metadata": {},
   "outputs": [],
   "source": [
    "# Part B\n",
    "A = np.load('gene_data_train.npy')\n",
    "b = np.load('diabetes_train.npy')\n",
    "#Use Least squares to find the x vector to find the optimal parameters. \n",
    "#Calculate the coefficients using the train set\n",
    "trans = A.T\n",
    "sqr = trans.dot(A)\n",
    "pseudoinv = (np.linalg.inv(sqr)).dot(trans)\n",
    "x_hat = pseudoinv.dot(b)"
   ]
  },
  {
   "cell_type": "code",
   "execution_count": 20,
   "metadata": {},
   "outputs": [
    {
     "name": "stdout",
     "output_type": "stream",
     "text": [
      "[[0.]\n",
      " [0.]\n",
      " [0.]\n",
      " [0.]\n",
      " [0.]\n",
      " [0.]\n",
      " [0.]\n",
      " [0.]\n",
      " [0.]\n",
      " [0.]]\n"
     ]
    }
   ],
   "source": [
    "#Test if these coefficients give the correct answer for the train set\n",
    "b_new = np.sign(A.dot(x_hat))\n",
    "print(b - b_new)"
   ]
  },
  {
   "cell_type": "code",
   "execution_count": 22,
   "metadata": {},
   "outputs": [
    {
     "name": "stdout",
     "output_type": "stream",
     "text": [
      "[[1.]\n",
      " [1.]\n",
      " [1.]\n",
      " [1.]]\n",
      "[[ 1.]\n",
      " [ 1.]\n",
      " [-1.]\n",
      " [ 1.]]\n",
      "0.75\n"
     ]
    }
   ],
   "source": [
    "# Part C\n",
    "# You may find np.sign useful to generate your +/- 1 prediction vector\n",
    "A_test = np.load('gene_data_test.npy')\n",
    "b_test = np.load('diabetes_test.npy')\n",
    "#Use x_hat to see if the model is accurate\n",
    "b_calc = np.sign(A_test.dot(x_hat))\n",
    "\n",
    "print(b_calc) #Predicted output\n",
    "print(b_test) #Actual output\n",
    "\n",
    "\n",
    "#if the two arrays differ at an entry, the different will either be 2 or -2, so we can calculate the test accuracy this way\n",
    "test_accuracy = 1 - np.sum(np.abs(b_calc - b_test)) / (2 * 4)\n",
    "\n",
    "print(test_accuracy)\n",
    "\n"
   ]
  },
  {
   "cell_type": "code",
   "execution_count": null,
   "metadata": {},
   "outputs": [],
   "source": []
  }
 ],
 "metadata": {
  "anaconda-cloud": {},
  "kernelspec": {
   "display_name": "Python 3 (ipykernel)",
   "language": "python",
   "name": "python3"
  },
  "language_info": {
   "codemirror_mode": {
    "name": "ipython",
    "version": 3
   },
   "file_extension": ".py",
   "mimetype": "text/x-python",
   "name": "python",
   "nbconvert_exporter": "python",
   "pygments_lexer": "ipython3",
   "version": "3.7.11"
  }
 },
 "nbformat": 4,
 "nbformat_minor": 2
}
