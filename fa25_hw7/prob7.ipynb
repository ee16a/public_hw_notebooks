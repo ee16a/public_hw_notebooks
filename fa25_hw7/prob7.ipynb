{
 "cells": [
  {
   "cell_type": "markdown",
   "id": "915b0a11",
   "metadata": {},
   "source": [
    "# Noise Cancelling Headphones"
   ]
  },
  {
   "cell_type": "code",
   "execution_count": null,
   "id": "b8f67a1a",
   "metadata": {},
   "outputs": [],
   "source": [
    "%matplotlib inline\n",
    "\n",
    "import numpy as np\n",
    "from matplotlib.pyplot import plot\n",
    "from scipy.io import wavfile\n",
    "\n",
    "from audio_support import wavPlayer\n",
    "from audio_support import loadSounds\n",
    "from audio_support import recordAmbientNoise"
   ]
  },
  {
   "cell_type": "markdown",
   "id": "e4edd2c5",
   "metadata": {},
   "source": [
    "### Part b)\n",
    "In the following cell, implement the least squares solution to \n",
    "$$min_{\\vec x} \\left| A \\vec x - \\vec b \\right|$$"
   ]
  },
  {
   "cell_type": "code",
   "execution_count": null,
   "id": "70b082df",
   "metadata": {},
   "outputs": [],
   "source": [
    "def doLeastSquares(A,b):\n",
    "    # BEGIN\n",
    "    \n",
    "    # END\n",
    "    return x;  "
   ]
  },
  {
   "cell_type": "markdown",
   "id": "b8d4d1a7",
   "metadata": {},
   "source": [
    "### Part c)\n",
    "Use your least squares solution to find the gamma that minimizes the effect of noise given:\n",
    "\n",
    "$$\\vec n = \\begin{bmatrix} 0.10\\\\ 0.37\\\\-0.45\\\\0.068\\\\0.036 \\end{bmatrix};\n",
    "\t\\vec r_A = \\begin{bmatrix} 0\\\\ 0.11\\\\-0.31\\\\-0.012\\\\-0.018 \\end{bmatrix};\n",
    "\t\\vec r_B = \\begin{bmatrix} 0\\\\ 0.22\\\\-0.20\\\\0.080\\\\0.056 \\end{bmatrix};\n",
    "\t\\vec r_C = \\begin{bmatrix} 0\\\\ 0.37\\\\-0.44\\\\0.065\\\\0.038 \\end{bmatrix}$$\n"
   ]
  },
  {
   "cell_type": "code",
   "execution_count": null,
   "id": "c7c41a66",
   "metadata": {},
   "outputs": [],
   "source": [
    "n1 = 0.10;\n",
    "n2 = 0.37;\n",
    "n3 = -0.45;\n",
    "n4 = 0.068;\n",
    "n5 = 0.036;\n",
    "\n",
    "a1 = 0;\n",
    "a2 = 0.11;\n",
    "a3 = -0.31;\n",
    "a4 = -0.012;\n",
    "a5 = -0.018;\n",
    "\n",
    "b1 = 0;\n",
    "b2 = 0.22;\n",
    "b3 = -0.20;\n",
    "b4 = 0.080;\n",
    "b5 = 0.056;\n",
    "\n",
    "c1 = 0;\n",
    "c2 = 0.37;\n",
    "c3 = -0.44;\n",
    "c4 = 0.065;\n",
    "c5 = 0.038;\n",
    "\n",
    "# BEGIN\n",
    "\n",
    "'...'\n",
    "gamma = \n",
    "\n",
    "# END\n",
    "print(gamma)"
   ]
  },
  {
   "cell_type": "markdown",
   "id": "de89f4d4",
   "metadata": {},
   "source": [
    "<font color=\"red\">Report the results for your gamma-vector."
   ]
  },
  {
   "cell_type": "markdown",
   "id": "d8531d68",
   "metadata": {},
   "source": [
    "### Part d)\n",
    "First, we'll load the sounds from the included .wav files."
   ]
  },
  {
   "cell_type": "code",
   "execution_count": null,
   "id": "4e15f0b4",
   "metadata": {},
   "outputs": [],
   "source": [
    "[music_Fs, music_y, noise1_y, noise1_Fs, noise2_y, noise2_Fs] = loadSounds();"
   ]
  },
  {
   "cell_type": "code",
   "execution_count": null,
   "id": "3ed70d04",
   "metadata": {},
   "outputs": [],
   "source": [
    "noise1_y"
   ]
  },
  {
   "cell_type": "markdown",
   "id": "2c11e594",
   "metadata": {},
   "source": [
    "We can use the following function to listen to our signals throughout this notebook. \n",
    "\n",
    "<font color=\"red\">Listen to each of the loaded sounds (`music_y`, `noise1_y`, and `noise2_y`). What do you hear?"
   ]
  },
  {
   "cell_type": "code",
   "execution_count": null,
   "id": "c201e522",
   "metadata": {},
   "outputs": [],
   "source": [
    "wavPlayer(music_y, music_Fs)"
   ]
  },
  {
   "cell_type": "markdown",
   "id": "f821877c",
   "metadata": {},
   "source": [
    "Add the first noise to the signal and listen to the result."
   ]
  },
  {
   "cell_type": "code",
   "execution_count": null,
   "id": "9a27c148",
   "metadata": {},
   "outputs": [],
   "source": [
    "noisyMusic = music_y + noise1_y;\n",
    "wavPlayer(noisyMusic, music_Fs)"
   ]
  },
  {
   "cell_type": "markdown",
   "id": "fb22bc4d",
   "metadata": {},
   "source": [
    "<font color=\"red\">Add the second noise to the signal and listen to the result."
   ]
  },
  {
   "cell_type": "code",
   "execution_count": null,
   "id": "66528fa2",
   "metadata": {},
   "outputs": [],
   "source": [
    "# BEGIN\n",
    "\n",
    "# END"
   ]
  },
  {
   "cell_type": "markdown",
   "id": "434c0925",
   "metadata": {},
   "source": [
    "### Part e)\n",
    "Next, we will simulate the recording of `noise1` using a simulated microphone array."
   ]
  },
  {
   "cell_type": "code",
   "execution_count": null,
   "id": "9b61d430",
   "metadata": {},
   "outputs": [],
   "source": [
    "numberOfMicrophones = 3;\n",
    "R = recordAmbientNoise(noise1_y,noise1_Fs,numberOfMicrophones);\n"
   ]
  },
  {
   "cell_type": "markdown",
   "id": "385a0765",
   "metadata": {},
   "source": [
    "<font color=\"red\">In the cell below, calculate the gamma-vector using the least squares approach (you should calculate `gamma` from `R` and `noise1_y`). "
   ]
  },
  {
   "cell_type": "code",
   "execution_count": null,
   "id": "0ba4c9a1",
   "metadata": {},
   "outputs": [],
   "source": [
    "# BEGIN\n",
    "gamma = \n",
    "# END"
   ]
  },
  {
   "cell_type": "markdown",
   "id": "85c879b7",
   "metadata": {},
   "source": [
    "<font color=\"red\">In the cell below, create the noise cancellation signal by multiplying `R` and `gamma`. Add the result to `music_y` (with the right sign) to get `signalFromSpeaker`."
   ]
  },
  {
   "cell_type": "code",
   "execution_count": null,
   "id": "0b2cdf5b",
   "metadata": {},
   "outputs": [],
   "source": [
    "# BEGIN\n",
    "'...'\n",
    "signalFromSpeaker = \n",
    "# END"
   ]
  },
  {
   "cell_type": "markdown",
   "id": "41e5b867",
   "metadata": {},
   "source": [
    "### Part f)\n",
    "Generate the signal at the listener's ear by adding the speaker signal (`signalFromSpeaker`) to the original noise signal (`noise1_y`)."
   ]
  },
  {
   "cell_type": "code",
   "execution_count": null,
   "id": "514f6f35",
   "metadata": {},
   "outputs": [],
   "source": [
    "# BEGIN\n",
    "signalAtEar =\n",
    "# END"
   ]
  },
  {
   "cell_type": "markdown",
   "id": "b34714dc",
   "metadata": {},
   "source": [
    "Listen to the noisy and noise-cancelled signal."
   ]
  },
  {
   "cell_type": "code",
   "execution_count": null,
   "id": "737ab00e",
   "metadata": {},
   "outputs": [],
   "source": [
    "wavPlayer(noisyMusic, music_Fs)\n",
    "wavPlayer(signalAtEar, music_Fs)"
   ]
  },
  {
   "cell_type": "markdown",
   "id": "ea70a52d",
   "metadata": {},
   "source": [
    "<font color=\"red\">What difference can you hear between these signals?"
   ]
  },
  {
   "cell_type": "markdown",
   "id": "e216c1de",
   "metadata": {},
   "source": [
    "### Part g)\n",
    "Now, we'll see how well this gamma works for other noise. \n",
    "\n",
    "We will run through the simulation again, but this time, we will just use the gamma from before instead of going through a training step."
   ]
  },
  {
   "cell_type": "code",
   "execution_count": null,
   "id": "3c9cf795",
   "metadata": {},
   "outputs": [],
   "source": [
    "noisyMusic_2 = music_y + noise2_y;\n",
    "R_2 = recordAmbientNoise(noise2_y,noise2_Fs,numberOfMicrophones);\n",
    "# BEGIN\n",
    "'...'\n",
    "signalFromSpeaker_2 = '...' \n",
    "signalAtEar_2 = '...'\n",
    "# END \n",
    "\n",
    "wavPlayer(noisyMusic_2, music_Fs)\n",
    "wavPlayer(signalAtEar_2, music_Fs)"
   ]
  },
  {
   "cell_type": "markdown",
   "id": "9a2a6e7c",
   "metadata": {},
   "source": [
    "<font color=\"red\"> What do you hear in the noise-cancelled signal?"
   ]
  },
  {
   "cell_type": "markdown",
   "id": "32a46d2e",
   "metadata": {},
   "source": [
    "## Image Analysis"
   ]
  },
  {
   "cell_type": "code",
   "execution_count": null,
   "id": "c085c40e",
   "metadata": {},
   "outputs": [],
   "source": [
    "def plot_circle(a, d, e):\n",
    "    \"\"\"\n",
    "    You can use this function to plot circles with parameters a,d,e.\n",
    "    The parameters are described in the homework pdf. \n",
    "    \n",
    "    \"\"\"\n",
    "    is_circle = d**2 + e**2 - 4*a > 0\n",
    "    assert is_circle, \"Not a circle\"\n",
    "    \n",
    "    XLIM_LO = -1\n",
    "    XLIM_HI = 3\n",
    "    YLIM_LO = -2\n",
    "    YLIM_HI = 2\n",
    "    X_COUNT = 400\n",
    "    Y_COUNT = 400\n",
    "    \n",
    "    x = np.linspace(XLIM_LO, XLIM_HI, X_COUNT)\n",
    "    y = np.linspace(YLIM_LO, YLIM_HI, Y_COUNT)\n",
    "    x, y = np.meshgrid(x, y)\n",
    "    f = lambda x,y: a*(x**2 + y**2) + d*x + e*y\n",
    "    \n",
    "    c1 = plt.contour(x, y, f(x,y), [1], colors='r')\n",
    "    plt.axis('scaled')\n",
    "    plt.xlabel('x')\n",
    "    plt.ylabel('y')\n",
    "    plt.title(\"Best Fit Circle\")"
   ]
  },
  {
   "cell_type": "code",
   "execution_count": null,
   "id": "771648bb",
   "metadata": {},
   "outputs": [],
   "source": [
    "def plot_ellipse(a, b, c, d, e):\n",
    "    \"\"\"\n",
    "    You can use this function to plot ellipses with parameters a-e.\n",
    "    The parameters are described in the homework pdf. \n",
    "    \"\"\"\n",
    "    is_ellipse = b**2 - 4*a*c < 0\n",
    "    assert is_ellipse, \"Not an ellipse\"\n",
    "    \n",
    "    XLIM_LO = -1\n",
    "    XLIM_HI = 3\n",
    "    YLIM_LO = -2\n",
    "    YLIM_HI = 2\n",
    "    X_COUNT = 400\n",
    "    Y_COUNT = 400\n",
    "    \n",
    "    x = np.linspace(XLIM_LO, XLIM_HI, X_COUNT)\n",
    "    y = np.linspace(YLIM_LO, YLIM_HI, Y_COUNT)\n",
    "    x, y = np.meshgrid(x, y)\n",
    "    f = lambda x,y: a*x**2 + b*x*y + c*y**2 + d*x + e*y\n",
    "    \n",
    "    c1 = plt.contour(x, y, f(x,y), [1], colors='r')\n",
    "    plt.axis('scaled')\n",
    "    plt.xlabel('x')\n",
    "    plt.ylabel('y')\n",
    "    plt.title(\"Best Fit Ellipse\")"
   ]
  },
  {
   "cell_type": "code",
   "execution_count": null,
   "id": "47eca2a3",
   "metadata": {},
   "outputs": [],
   "source": [
    "# Here is an example of plot_ellipse.\n",
    "# This plots (x-1)**2 + (y-1)**2 = 1, \n",
    "# which is a circle centered at (1,1). \n",
    "\n",
    "plt.figure(figsize=(6,6))\n",
    "plot_ellipse(1, 0, 1, -1, -1)"
   ]
  },
  {
   "cell_type": "code",
   "execution_count": null,
   "id": "df06f573",
   "metadata": {},
   "outputs": [],
   "source": [
    "# PART C\n",
    "\n",
    "xy = np.array([[0.3, -0.69],\n",
    "               [0.5, 0.87],\n",
    "               [0.9, -0.86],\n",
    "               [1, 0.88],\n",
    "               [1.2, -0.82],\n",
    "               [1.5, .64],\n",
    "               [1.8, 0]])\n",
    "x = xy[:,0]\n",
    "y = xy[:,1]\n",
    "\n",
    "# plot the data points\n",
    "plt.scatter(x,y)\n",
    "\n",
    "A = np.array([x**2+y**2,x,y]).T # Hint: this generates the A matrix\n",
    "b = # YOUR CODE HERE\n",
    "\n",
    "circle_params = # YOUR CODE HERE\n",
    "print(circle_params)\n",
    "plot_circle(circle_params[0],circle_params[1],circle_params[2])\n"
   ]
  },
  {
   "cell_type": "code",
   "execution_count": null,
   "id": "505ff065",
   "metadata": {},
   "outputs": [],
   "source": [
    "# PART D\n",
    "\n",
    "# plot the data points\n",
    "plt.scatter(x,y)\n",
    "\n",
    "A = # YOUR CODE HERE\n",
    "b = # YOUR CODE HERE\n",
    "\n",
    "ellipse_params = # YOUR CODE HERE\n",
    "print(ellipse_params)\n",
    "plot_ellipse(ellipse_params[0],ellipse_params[1],ellipse_params[2],ellipse_params[3],ellipse_params[4])\n"
   ]
  }
 ],
 "metadata": {
  "language_info": {
   "name": "python"
  }
 },
 "nbformat": 4,
 "nbformat_minor": 5
}
