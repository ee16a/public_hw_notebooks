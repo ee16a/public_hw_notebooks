{
 "cells": [
  {
   "cell_type": "markdown",
   "id": "27fbe6af",
   "metadata": {},
   "source": [
    "# Social Media Simulation"
   ]
  },
  {
   "cell_type": "code",
   "execution_count": null,
   "id": "d4d4b675",
   "metadata": {},
   "outputs": [],
   "source": [
    "import numpy as np\n",
    "import matplotlib.pyplot as plt\n",
    "\n",
    "# --- Transition matrix and Initial State ---\n",
    "A = # TODO\n",
    "\n",
    "x0 = # TODO"
   ]
  },
  {
   "cell_type": "code",
   "execution_count": null,
   "id": "d30820ac",
   "metadata": {},
   "outputs": [],
   "source": [
    "# --- Simulator Function ---\n",
    "def simulate(A, x0, tol=1e-1, max_steps=1000):\n",
    "    # TODO\n"
   ]
  },
  {
   "cell_type": "code",
   "execution_count": null,
   "id": "b879c1a5",
   "metadata": {},
   "outputs": [],
   "source": [
    "# --- Part (d): Run Simulation ---\n",
    "xs = simulate(A, x0)\n",
    "n = np.arange(len(xs))\n",
    "\n",
    "# Plot trajectories\n",
    "plt.figure(figsize=(7,4))\n",
    "plt.plot(n, xs[:,0], label='Netflix')\n",
    "plt.plot(n, xs[:,1], label='Hulu')\n",
    "plt.plot(n, xs[:,2], label='Cat Videos')\n",
    "plt.plot(n, xs[:,3], label='Work')\n",
    "plt.xlabel('Time step n')\n",
    "plt.ylabel('Number of Students')\n",
    "plt.title('Student Behavior Over Time')\n",
    "plt.legend()\n",
    "plt.show()\n",
    "\n",
    "# Check conservation\n",
    "S = # TODO\n",
    "print(\"Total students (should be constant):\", S)\n",
    "print(\"Constant total =\", S[0])\n",
    "\n",
    "x_hat = # TODO\n",
    "print(\"Steady state vector x̂ =\", x_hat)\n",
    "print(\"Proportions =\", x_hat / x_hat.sum())\n"
   ]
  },
  {
   "cell_type": "code",
   "execution_count": null,
   "id": "33c7adec",
   "metadata": {},
   "outputs": [],
   "source": [
    "# --- Part (e): Waiting App (vary α) ---\n",
    "def make_A_alpha(alpha):\n",
    "    # TODO: return A(alpha)\n",
    "\n",
    "alphas = np.arange(0.1, 1.0, 0.1)\n",
    "plt.figure(figsize=(7,4))\n",
    "for alpha in alphas:\n",
    "    xs_alpha = simulate(make_A_alpha(alpha), x0)\n",
    "    plt.plot(xs_alpha[:,3], label=f'α={alpha:.1f}')\n",
    "plt.xlabel('Time step n')\n",
    "plt.ylabel('Working Students')\n",
    "plt.title('Effect of Waiting App (α)')\n",
    "plt.legend()\n",
    "plt.show()\n"
   ]
  },
  {
   "cell_type": "code",
   "execution_count": null,
   "id": "48be7a54",
   "metadata": {},
   "outputs": [],
   "source": [
    "# --- Part (f): Blocking App (vary γ) ---\n",
    "def make_A_gamma(gamma):\n",
    "    # TODO: return A(gamma)\n",
    "\n",
    "gammas = # TODO: Simulate a desired range of gammas\n",
    "steady_W = []\n",
    "for g in gammas:\n",
    "    xs_g = simulate(make_A_gamma(g), x0)\n",
    "    steady_W.append(xs_g[-1,3])\n",
    "\n",
    "# This plot may help you find the minimum gamma\n",
    "#  for which at least half of the students who started\n",
    "#  out working are still working in the steady state\n",
    "plt.figure(figsize=(7,4))\n",
    "plt.plot(gammas, steady_W, marker='o')\n",
    "plt.xlabel('γ (minutes)')\n",
    "plt.ylabel('Steady-state Working Students')\n",
    "plt.title('Fraction Working vs γ')\n",
    "plt.show()\n",
    "\n",
    "# Plot your results for the gamma you found\n",
    "γ = # TODO\n",
    "xs_gamma = simulate(make_A_gamma(γ), x0)\n",
    "plt.figure(figsize=(7,4))\n",
    "plt.plot(xs_gamma[:,0], label='Netflix')\n",
    "plt.plot(xs_gamma[:,1], label='Hulu')\n",
    "plt.plot(xs_gamma[:,2], label='Cat Videos')\n",
    "plt.plot(xs_gamma[:,3], label='Work')\n",
    "plt.xlabel('Time step n')\n",
    "plt.ylabel('Students')\n",
    "plt.title(f'State Evolution for γ={γ}')\n",
    "plt.legend()\n",
    "plt.show()\n",
    "\n",
    "print(\"Steady-state proportions for γ=0.7:\")\n",
    "print(xs_gamma[-1] / xs_gamma[-1].sum())"
   ]
  },
  {
   "cell_type": "markdown",
   "id": "6f1142fb",
   "metadata": {},
   "source": [
    "# Labeling Patients"
   ]
  },
  {
   "cell_type": "code",
   "execution_count": null,
   "id": "9f0e725f",
   "metadata": {},
   "outputs": [],
   "source": [
    "import numpy as np"
   ]
  },
  {
   "cell_type": "code",
   "execution_count": null,
   "id": "9cbb31c9",
   "metadata": {},
   "outputs": [],
   "source": [
    "# Part B\n",
    "A = np.load('gene_data_train.npy')\n",
    "b = np.load('diabetes_train.npy')\n"
   ]
  },
  {
   "cell_type": "code",
   "execution_count": null,
   "id": "e58842f9",
   "metadata": {},
   "outputs": [],
   "source": [
    "# Part C\n",
    "# You may find np.sign useful to generate your +/- 1 prediction vector\n",
    "A_test = np.load('gene_data_test.npy')\n",
    "b_test = np.load('diabetes_test.npy')\n"
   ]
  }
 ],
 "metadata": {
  "language_info": {
   "name": "python"
  }
 },
 "nbformat": 4,
 "nbformat_minor": 5
}
