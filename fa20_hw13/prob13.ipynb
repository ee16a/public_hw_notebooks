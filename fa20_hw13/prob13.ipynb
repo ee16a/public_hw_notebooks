{
 "cells": [
  {
   "cell_type": "markdown",
   "metadata": {},
   "source": [
    "# EECS 16A Fall 2020 Homework 13"
   ]
  },
  {
   "cell_type": "code",
   "execution_count": 1,
   "metadata": {},
   "outputs": [
    {
     "name": "stdout",
     "output_type": "stream",
     "text": [
      "Populating the interactive namespace from numpy and matplotlib\n"
     ]
    }
   ],
   "source": [
    "from __future__ import division\n",
    "%pylab inline\n",
    "import numpy as np\n",
    "import matplotlib.pyplot as plt\n",
    "import scipy.io\n",
    "import sys"
   ]
  },
  {
   "cell_type": "markdown",
   "metadata": {},
   "source": [
    "## Mechanical Least Squares - Optional IPython code for plotting"
   ]
  },
  {
   "cell_type": "code",
   "execution_count": 2,
   "metadata": {},
   "outputs": [],
   "source": [
    "# use for plotting\n",
    "a = np.array([2,4,6,8])\n",
    "b = np.array([2,6,7,8])"
   ]
  },
  {
   "cell_type": "markdown",
   "metadata": {},
   "source": [
    "### Part (a)"
   ]
  },
  {
   "cell_type": "code",
   "execution_count": 3,
   "metadata": {},
   "outputs": [
    {
     "name": "stdout",
     "output_type": "stream",
     "text": [
      "xhat: 1.1166666666666667\n",
      "the squared error is 3.3666666666666667\n"
     ]
    }
   ],
   "source": [
    "# find a linear model of the form:   b = xa\n",
    "# According to the least squares formula, we can calculate x\n",
    "# xhat =(a.T*a)^(-1)*a.T*b\n",
    "xhat = (1/np.dot(a,a))*np.dot(a,b)\n",
    "print('xhat: '+str(xhat))\n",
    "bhat = xhat*a\n",
    "\n",
    "# Calculate squared error\n",
    "se = np.dot(b-bhat,b-bhat)\n",
    "print('the squared error is '+str(se))\n",
    "\n",
    "\n",
    "# Example for how to calculate squared error:\n",
    "#se = np.dot(b-bhat,b-bhat)\n",
    "#print('the squared error is '+str(se))"
   ]
  },
  {
   "cell_type": "code",
   "execution_count": 4,
   "metadata": {},
   "outputs": [
    {
     "data": {
      "image/png": "[encoded data removed]",
      "text/plain": [
       "<Figure size 432x288 with 1 Axes>"
      ]
     },
     "metadata": {
      "needs_background": "light"
     },
     "output_type": "display_data"
    }
   ],
   "source": [
    "#HERE IS HOW TO PLOT POINTS\n",
    "plt.plot(a,b,'ob') \n",
    "#HERE IS HOW TO PLOT A LINE\n",
    "plt.plot(a,bhat,'-r')\n",
    "#HERE IS HOW TO CHANGE THE LIMITS OF THE PLOTTING WINDOW\n",
    "plt.xlim([0,9]); plt.ylim([0,9]);"
   ]
  },
  {
   "cell_type": "markdown",
   "metadata": {},
   "source": [
    "### Part (b)"
   ]
  },
  {
   "cell_type": "code",
   "execution_count": null,
   "metadata": {},
   "outputs": [],
   "source": [
    "# The augmented A matrix is given by\n",
    "a2 = a.copy()\n",
    "b2 = b.copy()\n",
    "A2 = np.vstack([a2,np.ones(len(a2))]).T\n",
    "print('The augmented A matrix is')\n",
    "print(A2)\n",
    "# by the least squares formula we can calculate xhat\n",
    "xhat2 = np.dot(np.linalg.inv(np.dot(A2.T,A2)),np.dot(A2.T,b2))\n",
    "print('xhat:')\n",
    "print(xhat2)\n",
    "# The squared error is given by\n",
    "bhat2 = np.dot(A2,xhat2)\n",
    "se2 = np.dot(b2 - bhat2,b2-bhat2)\n",
    "print('the squared error is '+str(se2))"
   ]
  },
  {
   "cell_type": "code",
   "execution_count": null,
   "metadata": {},
   "outputs": [],
   "source": [
    "#HERE IS HOW TO PLOT POINTS\n",
    "plt.plot(a2,b2,'ob') \n",
    "#HERE IS HOW TO PLOT A LINE\n",
    "plt.plot(a2,bhat2,'-r')\n",
    "#HERE IS HOW TO CHANGE THE LIMITS OF THE PLOTTING WINDOW\n",
    "plt.xlim([0,9]); plt.ylim([0,9]);\n",
    "print('By adding a b-intercept we have definitely improved the fit.')\n",
    "print('This can be seen in the graph as well as the value of the squared error')"
   ]
  },
  {
   "cell_type": "markdown",
   "metadata": {},
   "source": [
    "## GPS Receivers"
   ]
  },
  {
   "cell_type": "code",
   "execution_count": 8,
   "metadata": {},
   "outputs": [
    {
     "name": "stdout",
     "output_type": "stream",
     "text": [
      "Populating the interactive namespace from numpy and matplotlib\n"
     ]
    }
   ],
   "source": [
    "%pylab inline\n",
    "import numpy as np\n",
    "import matplotlib.pyplot as plt\n",
    "import scipy.io\n",
    "import sys"
   ]
  },
  {
   "cell_type": "code",
   "execution_count": 9,
   "metadata": {},
   "outputs": [],
   "source": [
    "## RUN THIS FUNCTION BEFORE YOU START THIS PROBLEM\n",
    "## This function will generate the gold code associated with the satellite ID using linear shift registers\n",
    "## The satellite_ID can be any integer between 1 and 24\n",
    "def Gold_code_satellite(satellite_ID):\n",
    "    codelength = 1023\n",
    "    registerlength = 10\n",
    "    \n",
    "    # Defining the MLS for G1 generator\n",
    "    register1 = -1*np.ones(registerlength)\n",
    "    MLS1 = np.zeros(codelength)\n",
    "    for i in range(codelength):\n",
    "        MLS1[i] = register1[9]\n",
    "        modulo = register1[2]*register1[9]\n",
    "        register1 = np.roll(register1,1)\n",
    "        register1[0] = modulo\n",
    "    \n",
    "    # Defining the MLS for G2 generator\n",
    "    register2 = -1*np.ones(registerlength)\n",
    "    MLS2 = np.zeros(codelength)\n",
    "    for j in range(codelength):\n",
    "        MLS2[j] = register2[9]\n",
    "        modulo = register2[1]*register2[2]*register2[5]*register2[7]*register2[8]*register2[9]\n",
    "        register2 = np.roll(register2,1)\n",
    "        register2[0] = modulo\n",
    "    \n",
    "    delay = np.array([5,6,7,8,17,18,139,140,141,251,252,254,255,256,257,258,469,470,471,472,473,474,509,512,513,514,515,516,859,860,861,862])\n",
    "    G1_out = MLS1;\n",
    "    shamt = delay[satellite_ID - 1]\n",
    "    G2_out = np.roll(MLS2,shamt)\n",
    "    \n",
    "    CA_code = G1_out * G2_out\n",
    "    \n",
    "    return CA_code"
   ]
  },
  {
   "cell_type": "markdown",
   "metadata": {},
   "source": [
    "### Part (a)"
   ]
  },
  {
   "cell_type": "code",
   "execution_count": 10,
   "metadata": {},
   "outputs": [
    {
     "name": "stderr",
     "output_type": "stream",
     "text": [
      "<ipython-input-10-db404f9e8e9e>:23: UserWarning: In Matplotlib 3.3 individual lines on a stem plot will be added as a LineCollection instead of individual lines. This significantly improves the performance of a stem plot. To remove this warning and switch to the new behaviour, set the \"use_line_collection\" keyword argument to True.\n",
      "  plt.stem(ind_10,self_10)\n"
     ]
    },
    {
     "data": {
      "text/plain": [
       "<StemContainer object of 3 artists>"
      ]
     },
     "execution_count": 10,
     "metadata": {},
     "output_type": "execute_result"
    },
    {
     "data": {
      "image/png": "[encoded data removed]",
      "text/plain": [
       "<Figure size 1152x288 with 1 Axes>"
      ]
     },
     "metadata": {
      "needs_background": "light"
     },
     "output_type": "display_data"
    }
   ],
   "source": [
    "def array_correlation(array1,array2):\n",
    "    \"\"\" This function should return two arrays or a matrix with one row corresponding to \n",
    "    the offset and other to the correlation value. array1 and array2 do not have to be\n",
    "    arrays of equal length. array2 is the argument that is shifted (i.e. the signature of the statellite), \n",
    "    array1 is the argument that is stationary, (i.e the received signal).\n",
    "    \"\"\"\n",
    "    ## Use np.correlate with \"FULL\". Check out the helper page for it \n",
    "    correlated_array = np.correlate(array1,array2,'full')\n",
    "    length1 = len(array1)\n",
    "    length2 = len(array2)\n",
    "    min_ind = min(length1,length2)\n",
    "    max_ind = max(length1,length2)\n",
    "    indices = np.linspace(-min_ind + 1, max_ind - 1, min_ind + max_ind -1)\n",
    "    return (indices, correlated_array)\n",
    "    \n",
    "# Plot the auto-correlation of satellite 10 with itself. Your signal should be centered\n",
    "# at offset = 0.\n",
    "# Use plt.plot or plt.stem to plot.\n",
    "\n",
    "array_10 = Gold_code_satellite(10)\n",
    "(ind_10, self_10) = array_correlation(array_10,array_10)\n",
    "plt.figure(figsize=(16,4))\n",
    "plt.stem(ind_10,self_10)"
   ]
  },
  {
   "cell_type": "markdown",
   "metadata": {},
   "source": [
    "### Part (b)"
   ]
  },
  {
   "cell_type": "code",
   "execution_count": 11,
   "metadata": {},
   "outputs": [
    {
     "ename": "SyntaxError",
     "evalue": "invalid syntax (<ipython-input-11-19da5faf4a2c>, line 4)",
     "output_type": "error",
     "traceback": [
      "\u001b[0;36m  File \u001b[0;32m\"<ipython-input-11-19da5faf4a2c>\"\u001b[0;36m, line \u001b[0;32m4\u001b[0m\n\u001b[0;31m    plt.stem(ind_10_13,cross_10_13)\u001b[0m\n\u001b[0m    ^\u001b[0m\n\u001b[0;31mSyntaxError\u001b[0m\u001b[0;31m:\u001b[0m invalid syntax\n"
     ]
    }
   ],
   "source": [
    "array_13 = Gold_code_satellite(13)\n",
    "(ind_10_13, cross_10_13) = array_correlation(#insert first agument, #insert second argument)\n",
    "plt.figure(figsize=(16,4))\n",
    "plt.stem(ind_10_13,cross_10_13)"
   ]
  },
  {
   "cell_type": "markdown",
   "metadata": {},
   "source": [
    "### Part (c)"
   ]
  },
  {
   "cell_type": "code",
   "execution_count": null,
   "metadata": {},
   "outputs": [],
   "source": [
    "## PART C CODE HERE\n",
    "## THIS IS A HELPER FUNCTION FOR PART C\n",
    "def integernoise_generator(length_of_noise):\n",
    "    noise_array = np.random.randint(2, size = length_of_noise)\n",
    "    noise_array = 2 * noise_array - np.ones(size(noise_array))\n",
    "    return noise_array\n",
    "\n",
    "intrand_signal = integernoise_generator(1023)\n",
    "(ind_intrand,cross_intrand) =array_correlation(#insert argument here, array_10)\n",
    "plt.figure(figsize=(16,4))\n",
    "plt.stem(ind_intrand,cross_intrand)"
   ]
  },
  {
   "cell_type": "markdown",
   "metadata": {},
   "source": [
    "### Part (d)"
   ]
  },
  {
   "cell_type": "code",
   "execution_count": null,
   "metadata": {},
   "outputs": [],
   "source": [
    "## PART D CODE HERE\n",
    "## THIS IS A HELPER FUNCTION FOR PART D\n",
    "def gaussiannoise_generator(length_of_noise):\n",
    "    noise_array = np.random.normal(0,1,length_of_noise)\n",
    "    return noise_array\n",
    "\n",
    "gaussrand_signal = gaussiannoise_generator(1023)\n",
    "(ind_gaussrand,cross_gaussrand) = array_correlation(#insert arguments here)\n",
    "plt.figure(figsize=(16,4))\n",
    "plt.stem(ind_gaussrand,cross_gaussrand)"
   ]
  },
  {
   "cell_type": "markdown",
   "metadata": {},
   "source": [
    "### Part (e)\n",
    "Hint: You can use a absolute value threshold of 800 for the cross-correlation to detect if a given satellite is present. \n",
    "\n",
    "Hint: np.argwhere may be useful for detecting satellites with peaks. You can use other functions/ use a manual process."
   ]
  },
  {
   "cell_type": "code",
   "execution_count": 13,
   "metadata": {},
   "outputs": [],
   "source": [
    "## THIS IS A HELPER FUNCTION FOR PART E, F AND G\n",
    "\n",
    "## This function returns a 1 if peak (greater than threshold or less than -threshold) is found else it returns a 0.\n",
    "def find_peak(correlation,threshold):\n",
    "    max_value = np.amax(correlation)\n",
    "    min_value = np.amin(correlation)\n",
    "    if max_value > threshold:\n",
    "        ret_value = 1\n",
    "    elif min_value < -1*threshold:\n",
    "        ret_value = 1\n",
    "    else:\n",
    "        ret_value = 0\n",
    "    return ret_value"
   ]
  },
  {
   "cell_type": "code",
   "execution_count": 14,
   "metadata": {},
   "outputs": [],
   "source": [
    "# Part E\n",
    "## 'np.load' FUNCTION IS USED TO LOAD THE RECIEVED SIGNAL DATA\n",
    "signal1 = np.load('data1.npy')\n",
    "visible_sat_e = np.zeros(24) #this can be used to keep track of which satellites are visible\n",
    "thresh = 800\n",
    "\n",
    "\n",
    "# YOUR CODE HERE --- A skeleton that might be useful is provided, you may write this in any other way:\n",
    "for sat_ID in np.arange(1,24):\n",
    "    gold_code = Gold_code_satellite(sat_ID)\n",
    "    #YOUR CODE HERE\n",
    "    #find the correlation of the signal with the gold code of each satellite\n",
    "    #then find if any of the correlations cross the threshold value using the find-peak function\n",
    "    "
   ]
  },
  {
   "cell_type": "markdown",
   "metadata": {},
   "source": [
    "### Part (f)\n",
    "Hint: You can use a absolute value threshold of 800 for the cross-correlation to detect if a given satellite is present. \n",
    "\n",
    "Hint: np.argwhere may be useful for detecting satellites with peaks. You can use other functions/ use a manual process."
   ]
  },
  {
   "cell_type": "code",
   "execution_count": 15,
   "metadata": {},
   "outputs": [
    {
     "name": "stdout",
     "output_type": "stream",
     "text": [
      "Visible: 3\n"
     ]
    }
   ],
   "source": [
    "## DATA2.NPY IS THE RECEIVED SIGNAL ARRAY\n",
    "signal2 = np.load('data2.npy')\n",
    "# YOUR CODE HERE\n",
    "\n",
    "# YOUR CODE HERE --- A skeleton that might be useful is provided, you may write this in any other way\n",
    "#Use this code block to first find which satellite is present\n",
    "\n",
    "for sat_ID in np.arange(1,24):\n",
    "    #find the correlation of the signal with the gold code of each satellite\n",
    "    #then find if any of the correlations cross the threshold value using the find-peak function\n",
    "    if find_peak(correlation,thresh):\n",
    "        #YOUR CODE HERE\n",
    "            "
   ]
  },
  {
   "cell_type": "code",
   "execution_count": null,
   "metadata": {},
   "outputs": [],
   "source": [
    "# Using the satellite you found in the block above, now decode the message using the code below\n",
    "\n",
    "#First create an array with the signature of the satellite you found\n",
    "#WRITE A LINE HERE TO FIND THE CROSS CORRELATION OF SIGNAL2 LOADED ABOVE WITH THE CODE OF THE SATELLITE YOU FOUND\n",
    "plt.figure(figsize=(16,8))\n",
    "plt.stem(sat3_data)\n",
    "\n",
    "## Looking at the figure visually you should be able to decode the message\n",
    "\n"
   ]
  },
  {
   "cell_type": "markdown",
   "metadata": {},
   "source": [
    "### Part (g)\n",
    "Hint: You can use a absolute value threshold of 800 for the cross-correlation to detect if a given satellite is present. \n",
    "\n",
    "Hint: np.argwhere may be useful for detecting satellites with peaks. You can use other functions/ use a manual process."
   ]
  },
  {
   "cell_type": "code",
   "execution_count": null,
   "metadata": {},
   "outputs": [],
   "source": [
    "#OPTIONAL PART\n",
    "## DATA3.NPY IS RECEIVED SIGNAL ARRAY\n",
    "signal3 = np.load('data3.npy')\n",
    "# YOUR CODE HERE"
   ]
  },
  {
   "cell_type": "markdown",
   "metadata": {},
   "source": [
    "## Noise Cancelling Headphones"
   ]
  },
  {
   "cell_type": "code",
   "execution_count": 1,
   "metadata": {},
   "outputs": [],
   "source": [
    "%matplotlib inline\n",
    "\n",
    "import numpy as np\n",
    "from matplotlib.pyplot import plot\n",
    "from scipy.io import wavfile\n",
    "\n",
    "from audio_support import wavPlayer\n",
    "from audio_support import loadSounds\n",
    "from audio_support import recordAmbientNoise"
   ]
  },
  {
   "cell_type": "markdown",
   "metadata": {},
   "source": [
    "### Part (c)\n",
    "In the following cell, implement the least squares solution to \n",
    "$$min_{\\vec x} \\left| A \\vec x - \\vec b \\right|$$"
   ]
  },
  {
   "cell_type": "code",
   "execution_count": 2,
   "metadata": {},
   "outputs": [],
   "source": [
    "def doLeastSquares(A,b):\n",
    "    # YOUR CODE HERE --- write the least squares function\n",
    "    return x;"
   ]
  },
  {
   "cell_type": "markdown",
   "metadata": {},
   "source": [
    "### Part (d)\n",
    "Use your least squares solution to find the gamma that minimizes the effect of noise given:\n",
    "\n",
    "$$\\vec n = \\begin{bmatrix} 0.10\\\\ 0.37\\\\-0.45\\\\0.068\\\\0.036 \\end{bmatrix};\n",
    "\t\\vec r_A = \\begin{bmatrix} 0\\\\ 0.11\\\\-0.31\\\\-0.012\\\\-0.018 \\end{bmatrix};\n",
    "\t\\vec r_B = \\begin{bmatrix} 0\\\\ 0.22\\\\-0.20\\\\0.080\\\\0.056 \\end{bmatrix};\n",
    "\t\\vec r_C = \\begin{bmatrix} 0\\\\ 0.37\\\\-0.44\\\\0.065\\\\0.038 \\end{bmatrix}$$"
   ]
  },
  {
   "cell_type": "code",
   "execution_count": 3,
   "metadata": {},
   "outputs": [
    {
     "ename": "NameError",
     "evalue": "name 'gamma' is not defined",
     "output_type": "error",
     "traceback": [
      "\u001b[1;31m---------------------------------------------------------------------------\u001b[0m",
      "\u001b[1;31mNameError\u001b[0m                                 Traceback (most recent call last)",
      "\u001b[1;32m<ipython-input-3-3e0364828a2d>\u001b[0m in \u001b[0;36m<module>\u001b[1;34m\u001b[0m\n\u001b[0;32m     25\u001b[0m \u001b[1;31m# YOUR CODE HERE\u001b[0m\u001b[1;33m\u001b[0m\u001b[1;33m\u001b[0m\u001b[1;33m\u001b[0m\u001b[0m\n\u001b[0;32m     26\u001b[0m \u001b[1;33m\u001b[0m\u001b[0m\n\u001b[1;32m---> 27\u001b[1;33m \u001b[0mprint\u001b[0m\u001b[1;33m(\u001b[0m\u001b[0mgamma\u001b[0m\u001b[1;33m)\u001b[0m\u001b[1;33m\u001b[0m\u001b[1;33m\u001b[0m\u001b[0m\n\u001b[0m",
      "\u001b[1;31mNameError\u001b[0m: name 'gamma' is not defined"
     ]
    }
   ],
   "source": [
    "n1 = 0.10;\n",
    "n2 = 0.37;\n",
    "n3 = -0.45;\n",
    "n4 = 0.068;\n",
    "n5 = 0.036;\n",
    "\n",
    "a1 = 0;\n",
    "a2 = 0.11;\n",
    "a3 = -0.31;\n",
    "a4 = -0.012;\n",
    "a5 = -0.018;\n",
    "\n",
    "b1 = 0;\n",
    "b2 = 0.22;\n",
    "b3 = -0.20;\n",
    "b4 = 0.080;\n",
    "b5 = 0.056;\n",
    "\n",
    "c1 = 0;\n",
    "c2 = 0.37;\n",
    "c3 = -0.44;\n",
    "c4 = 0.065;\n",
    "c5 = 0.038;\n",
    "\n",
    "R = np.array([[a1,b1,c1],\n",
    "     [a2,b2,c2],\n",
    "     [a3,b3,c3],\n",
    "     [a4,b4,c4],\n",
    "     [a5,b5,c5]]);\n",
    "n = np.array([n1,n2,n3,n4,n5]);\n",
    "gamma = #YOUR CODE HERE\n",
    "\n",
    "print(gamma)"
   ]
  },
  {
   "cell_type": "markdown",
   "metadata": {},
   "source": [
    "<font color=\"red\">Report the results for your gamma-vector."
   ]
  },
  {
   "cell_type": "markdown",
   "metadata": {},
   "source": [
    "### Part (d)\n",
    "First, we'll load the sounds from the included .wav files. Please note that you can ignore all the FS files, these are just required for processing the audio files."
   ]
  },
  {
   "cell_type": "code",
   "execution_count": 4,
   "metadata": {},
   "outputs": [],
   "source": [
    "[music_Fs, music_y, noise1_y, noise1_Fs, noise2_y, noise2_Fs] = loadSounds();"
   ]
  },
  {
   "cell_type": "markdown",
   "metadata": {},
   "source": [
    "We can use the following function to listen to our signals throughout this notebook. \n",
    "\n",
    "<font color=\"red\">Listen to each of the loaded sounds (`music_y`, `noise1_y`, and `noise2_y`). What do you hear?"
   ]
  },
  {
   "cell_type": "code",
   "execution_count": null,
   "metadata": {},
   "outputs": [],
   "source": [
    "wavPlayer(music_y, music_Fs)"
   ]
  },
  {
   "cell_type": "code",
   "execution_count": null,
   "metadata": {},
   "outputs": [],
   "source": [
    "wavPlayer(noise1_y, noise1_Fs)"
   ]
  },
  {
   "cell_type": "code",
   "execution_count": null,
   "metadata": {},
   "outputs": [],
   "source": [
    "wavPlayer(noise2_y, noise2_Fs)"
   ]
  },
  {
   "cell_type": "markdown",
   "metadata": {},
   "source": [
    "\n",
    "Add noise to the signal and listen to the result."
   ]
  },
  {
   "cell_type": "code",
   "execution_count": null,
   "metadata": {},
   "outputs": [],
   "source": [
    "noisyMusic = music_y + noise1_y;\n",
    "wavPlayer(noisyMusic, music_Fs)"
   ]
  },
  {
   "cell_type": "markdown",
   "metadata": {},
   "source": [
    "### Part (e)\n",
    "Next, we will simulate the recording of `noise1` using a simulated microphone array."
   ]
  },
  {
   "cell_type": "code",
   "execution_count": null,
   "metadata": {},
   "outputs": [],
   "source": [
    "numberOfMicrophones = 3;\n",
    "R = recordAmbientNoise(noise1_y,noise1_Fs,numberOfMicrophones);"
   ]
  },
  {
   "cell_type": "markdown",
   "metadata": {},
   "source": [
    "<font color=\"red\">In the cell below, calculate the gamma-vector using the least squares approach (you should calculate `gamma` from `R` and `noise1_y`). "
   ]
  },
  {
   "cell_type": "code",
   "execution_count": null,
   "metadata": {},
   "outputs": [],
   "source": [
    "gamma = # YOUR CODE HERE"
   ]
  },
  {
   "cell_type": "markdown",
   "metadata": {},
   "source": [
    "### Part (f)"
   ]
  },
  {
   "cell_type": "markdown",
   "metadata": {},
   "source": [
    "<font color=\"red\">In the cell below, create the noise cancellation signal by taking the dot prodoct of `R` and `gamma`."
   ]
  },
  {
   "cell_type": "code",
   "execution_count": null,
   "metadata": {},
   "outputs": [],
   "source": [
    "noiseCancellation = # YOUR CODE HERE"
   ]
  },
  {
   "cell_type": "markdown",
   "metadata": {},
   "source": [
    "<font color=\"red\">Generate the noise-cancelled signal at the listener's ear by adding the music signal. `music_y` is the music, and the noise signal (`noise1_y`) have already been included for you. Think about the required sign for the noiseCancellation term."
   ]
  },
  {
   "cell_type": "code",
   "execution_count": null,
   "metadata": {},
   "outputs": [],
   "source": [
    "signalAtEar = music_y + noise1_y + # YOUR CODE HERE"
   ]
  },
  {
   "cell_type": "markdown",
   "metadata": {},
   "source": [
    "Listen to the noisy and noise-cancelled signal."
   ]
  },
  {
   "cell_type": "code",
   "execution_count": null,
   "metadata": {},
   "outputs": [],
   "source": [
    "wavPlayer(noisyMusic, music_Fs)\n",
    "wavPlayer(signalAtEar, music_Fs)"
   ]
  },
  {
   "cell_type": "markdown",
   "metadata": {},
   "source": [
    "<font color=\"red\">What difference can you hear between these signals?"
   ]
  },
  {
   "cell_type": "markdown",
   "metadata": {},
   "source": [
    "### Part (g)\n",
    "Now, we'll see how well this gamma works for other noise. \n",
    "\n",
    "We will run through the simulation again, but this time, we will just use the gamma from before instead of going through a least squares step."
   ]
  },
  {
   "cell_type": "code",
   "execution_count": null,
   "metadata": {},
   "outputs": [],
   "source": [
    "noisyMusic_2 = music_y + noise2_y;\n",
    "R_2 = recordAmbientNoise(noise2_y,noise2_Fs,numberOfMicrophones);\n",
    "\n",
    "# YOUR CODE HERE\n",
    "\n",
    "wavPlayer(noisyMusic_2, music_Fs)\n",
    "wavPlayer(signalAtEar_2, music_Fs)\n",
    "wavPlayer(music_y, music_Fs)"
   ]
  },
  {
   "cell_type": "markdown",
   "metadata": {},
   "source": [
    "##  Image Analysis"
   ]
  },
  {
   "cell_type": "code",
   "execution_count": null,
   "metadata": {},
   "outputs": [],
   "source": [
    "# imports\n",
    "import matplotlib.pyplot as plt\n",
    "import numpy as np"
   ]
  },
  {
   "cell_type": "code",
   "execution_count": null,
   "metadata": {},
   "outputs": [],
   "source": [
    "def plot_circle(a1, d1, e1):\n",
    "    \"\"\"\n",
    "    You can use this function to plot circles with parameters a1,d1,e1.\n",
    "    The parameters are described in the homework pdf. \n",
    "    \n",
    "    \"\"\"\n",
    "    is_circle = d1**2 + e1**2 + 4*a1 > 0\n",
    "    assert is_circle, \"Not a circle\"\n",
    "    \n",
    "    XLIM_LO = -1\n",
    "    XLIM_HI = 3\n",
    "    YLIM_LO = -2\n",
    "    YLIM_HI = 2\n",
    "    X_COUNT = 400\n",
    "    Y_COUNT = 400\n",
    "    \n",
    "    x = np.linspace(XLIM_LO, XLIM_HI, X_COUNT)\n",
    "    y = np.linspace(YLIM_LO, YLIM_HI, Y_COUNT)\n",
    "    x, y = np.meshgrid(x, y)\n",
    "    f = lambda x,y: a1*(x**2 + y**2) + d1*x + e1*y\n",
    "    \n",
    "    c1 = plt.contour(x, y, f(x,y), [1], colors='r')\n",
    "    plt.axis('scaled')\n",
    "    plt.xlabel('x')\n",
    "    plt.ylabel('y')\n",
    "    plt.title(\"Best Fit Circle\")"
   ]
  },
  {
   "cell_type": "code",
   "execution_count": null,
   "metadata": {},
   "outputs": [],
   "source": [
    "def plot_ellipse(a1, b1, c1, d1, e1):\n",
    "    \"\"\"\n",
    "    You can use this function to plot ellipses with parameters a1-e1.\n",
    "    The parameters are described in the homework pdf. \n",
    "    \"\"\"\n",
    "    is_ellipse = b1**2 - 4*a1*c1 < 0\n",
    "    assert is_ellipse, \"Not an ellipse\"\n",
    "    \n",
    "    XLIM_LO = -1\n",
    "    XLIM_HI = 3\n",
    "    YLIM_LO = -2\n",
    "    YLIM_HI = 3\n",
    "    X_COUNT = 400\n",
    "    Y_COUNT = 400\n",
    "    \n",
    "    x = np.linspace(XLIM_LO, XLIM_HI, X_COUNT)\n",
    "    y = np.linspace(YLIM_LO, YLIM_HI, Y_COUNT)\n",
    "    x, y = np.meshgrid(x, y)\n",
    "    f = lambda x,y: a1*x**2 + b1*x*y + c1*y**2 + d1*x + e1*y\n",
    "    \n",
    "    c1 = plt.contour(x, y, f(x,y), [1], colors='r')\n",
    "    plt.axis('scaled')\n",
    "    plt.xlabel('x')\n",
    "    plt.ylabel('y')\n",
    "    plt.title(\"Best Fit Ellipse\")"
   ]
  },
  {
   "cell_type": "code",
   "execution_count": null,
   "metadata": {},
   "outputs": [],
   "source": [
    "# Here is an example of plot_ellipse.\n",
    "# This plots (x-1)**2 + (y-1)**2 = 1, \n",
    "# which is a circle centered at (1,1). \n",
    "\n",
    "plt.figure(figsize=(6,6))\n",
    "plot_ellipse(-1, 0, -1, 2, 2)\n",
    "plt.title('Ellipse with parameters (-1, 0, -1, 2, 2)')"
   ]
  },
  {
   "cell_type": "markdown",
   "metadata": {},
   "source": [
    "### Part (c)\n",
    "You may find plt.scatter useful for plotting the points."
   ]
  },
  {
   "cell_type": "code",
   "execution_count": null,
   "metadata": {},
   "outputs": [],
   "source": [
    "# PART C\n",
    "\n",
    "xy = np.array([[0.3, -0.69],\n",
    "               [0.5, 0.87],\n",
    "               [0.9, -0.86],\n",
    "               [1, 0.88],\n",
    "               [1.2, -0.82],\n",
    "               [1.5, .64],\n",
    "               [1.8, 0]])\n",
    "x = xy[:,0]\n",
    "y = xy[:,1]\n",
    "\n",
    "# plot the data points\n",
    "plt.scatter(x,y)\n",
    "\n",
    "# First we compute our estimated coefficients\n",
    "A = np.array([x**2+y**2,x,y]).T \n",
    "b = np.ones((7,))\n",
    "circle_params = # YOUR CODE HERE\n",
    "print(circle_params)\n",
    "\n",
    "# Then we plot\n",
    "plt.figure(figsize=(6,6))\n",
    "plot_circle(circle_params[0], circle_params[1], circle_params[2])\n",
    "plt.scatter(x,y, color='k')\n",
    "\n",
    "# Compute error\n",
    "e = # YOUR CODE HERE\n",
    "print(\"e = {}\\n\".format(e))\n",
    "\n",
    "e_magnitude = # YOUR CODE HERE\n",
    "\n",
    "print(\"||e|| = {}\\n\".format(e_magnitude))\n",
    "N = 7\n",
    "print(\"||e|| / N = {}\\n\".format(e_magnitude / N))"
   ]
  },
  {
   "cell_type": "code",
   "execution_count": null,
   "metadata": {},
   "outputs": [],
   "source": [
    "# PART D\n",
    "\n",
    "# Plot the data points\n",
    "plt.scatter(x,y)\n",
    "\n",
    "A = # YOUR CODE HERE\n",
    "b = # YOUR CODE HERE\n",
    "\n",
    "ellipse_params = # YOUR CODE HERE\n",
    "print(ellipse_params)\n",
    "plot_ellipse(ellipse_params[0],ellipse_params[1],ellipse_params[2],ellipse_params[3],ellipse_params[4])\n",
    "\n",
    "# Compute error\n",
    "e = # YOUR CODE HERE\n",
    "print(\"e = {}\\n\".format(e))\n",
    "\n",
    "e_magnitude = # YOUR CODE HERE\n",
    "\n",
    "print(\"||e|| = {}\\n\".format(e_magnitude))\n",
    "N = 7\n",
    "print(\"||e|| / N = {}\\n\".format(e_magnitude / N))"
   ]
  },
  {
   "cell_type": "markdown",
   "metadata": {},
   "source": [
    "##  Labeling Patients using Gene Expression Data"
   ]
  },
  {
   "cell_type": "markdown",
   "metadata": {},
   "source": [
    "### Part (b)"
   ]
  },
  {
   "cell_type": "code",
   "execution_count": null,
   "metadata": {},
   "outputs": [],
   "source": [
    "#Load training data\n",
    "A = np.load('gene_data_train.npy')\n",
    "b = np.load('diabetes_train.npy')"
   ]
  },
  {
   "cell_type": "code",
   "execution_count": null,
   "metadata": {},
   "outputs": [],
   "source": [
    "#Calculate the coefficients using the train set\n",
    "\n",
    "# YOUR CODE HERE\n",
    "\n",
    "print(x)"
   ]
  },
  {
   "cell_type": "markdown",
   "metadata": {},
   "source": [
    "Check to make sure your model gives the correct answer for the training set."
   ]
  },
  {
   "cell_type": "code",
   "execution_count": null,
   "metadata": {},
   "outputs": [],
   "source": [
    "#Training set sanity check - compare model outputs with training outputs\n",
    "b_new = np.sign(A.dot(x))\n",
    "print(b - b_new) # All differences should be zero"
   ]
  },
  {
   "cell_type": "markdown",
   "metadata": {},
   "source": [
    "### Part (c)"
   ]
  },
  {
   "cell_type": "code",
   "execution_count": null,
   "metadata": {},
   "outputs": [],
   "source": [
    "#Load test data\n",
    "A_test = np.load('gene_data_test.npy')\n",
    "b_test = np.load('diabetes_test.npy')"
   ]
  },
  {
   "cell_type": "code",
   "execution_count": null,
   "metadata": {},
   "outputs": [],
   "source": [
    "#Use your alpha coefficients (vector x) on the test set and check their acuracy by finding the error vector\n",
    "b_calc = np.sign(A_test.dot(x))\n",
    "print(b_calc)\n",
    "print(b_calc - b_test)"
   ]
  },
  {
   "cell_type": "code",
   "execution_count": null,
   "metadata": {},
   "outputs": [],
   "source": []
  }
 ],
 "metadata": {
  "anaconda-cloud": {},
  "kernelspec": {
   "display_name": "Python 3",
   "language": "python",
   "name": "python3"
  },
  "language_info": {
   "codemirror_mode": {
    "name": "ipython",
    "version": 3
   },
   "file_extension": ".py",
   "mimetype": "text/x-python",
   "name": "python",
   "nbconvert_exporter": "python",
   "pygments_lexer": "ipython3",
   "version": "3.8.3"
  }
 },
 "nbformat": 4,
 "nbformat_minor": 1
}
