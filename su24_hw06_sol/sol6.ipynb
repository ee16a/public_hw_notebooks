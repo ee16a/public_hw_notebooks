{
 "cells": [
  {
   "cell_type": "markdown",
   "metadata": {},
   "source": [
    "# EECS16A Summer 2024 Homework 6"
   ]
  },
  {
   "cell_type": "markdown",
   "metadata": {},
   "source": [
    "## Problem 5: Mechanical Linear Correlation"
   ]
  },
  {
   "cell_type": "code",
   "execution_count": 1,
   "metadata": {},
   "outputs": [
    {
     "name": "stdout",
     "output_type": "stream",
     "text": [
      "Populating the interactive namespace from numpy and matplotlib\n"
     ]
    }
   ],
   "source": [
    "from __future__ import division\n",
    "%pylab inline\n",
    "import numpy as np\n",
    "import matplotlib.pyplot as plt\n",
    "import scipy.io\n",
    "import sys"
   ]
  },
  {
   "cell_type": "markdown",
   "metadata": {},
   "source": [
    "### Part (b)"
   ]
  },
  {
   "cell_type": "code",
   "execution_count": null,
   "metadata": {},
   "outputs": [],
   "source": [
    "s1 = [2, -2, 2, -2]\n",
    "s2 = [1, 2, 3, 4]\n",
    "\n",
    "def plot_signal(sig):\n",
    "    plt.figure(figsize = (20, 10))\n",
    "    plt.stem(np.arange(-(len(sig)-1)/2, (len(sig)-1)/2+1), sig)\n",
    "    plt.show()\n",
    "\n",
    "# Use the function np.correlate with mode='full' for linear cross correlation.\n",
    "# The provided plot_signal function can help you visualize your results.\n",
    "## Your code here\n",
    "\n",
    "sig1 = np.correlate(s1, s2, mode='full')\n",
    "sig2 = np.correlate(s2, s1, mode='full')\n",
    "\n",
    "plot_signal(sig1)\n",
    "plot_signal(sig2)"
   ]
  }
 ],
 "metadata": {
  "anaconda-cloud": {},
  "kernel_info": {
   "name": "python3"
  },
  "kernelspec": {
   "display_name": "Python 3 (ipykernel)",
   "language": "python",
   "name": "python3"
  },
  "language_info": {
   "codemirror_mode": {
    "name": "ipython",
    "version": 3
   },
   "file_extension": ".py",
   "mimetype": "text/x-python",
   "name": "python",
   "nbconvert_exporter": "python",
   "pygments_lexer": "ipython3",
   "version": "3.10.1"
  },
  "nteract": {
   "version": "0.12.3"
  }
 },
 "nbformat": 4,
 "nbformat_minor": 1
}
