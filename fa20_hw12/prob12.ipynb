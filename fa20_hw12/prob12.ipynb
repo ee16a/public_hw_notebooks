{
 "cells": [
  {
   "cell_type": "markdown",
   "metadata": {},
   "source": [
    "# EECS16A Homework 12"
   ]
  },
  {
   "cell_type": "markdown",
   "metadata": {},
   "source": [
    "## Problem 1: Mechanical Linear Correlation"
   ]
  },
  {
   "cell_type": "markdown",
   "metadata": {},
   "source": [
    "### Part (b)"
   ]
  },
  {
   "cell_type": "code",
   "execution_count": null,
   "metadata": {},
   "outputs": [],
   "source": [
    "import numpy as np\n",
    "import matplotlib.pyplot as plt"
   ]
  },
  {
   "cell_type": "code",
   "execution_count": null,
   "metadata": {},
   "outputs": [],
   "source": [
    "s1 = [2, -2, 2, -2]\n",
    "s2 = [1, 2, 3, 4]\n",
    "\n",
    "''' \n",
    "Finding the cross-correlation of s2 with s1.\n",
    "'''\n",
    "\n",
    "# Use the function np.correlate with mode='full' for linear cross correlation.\n",
    "corr_s1_s2 = np.correlate(s1,s2,mode='full') \n",
    "#Since both the arrays start at 0, the last \"shift\" where the signals overlap is the length of the first array\n",
    "end_index = len(s1)\n",
    "#Similarly, the first \"shift\" where the signals overlap is the negative of the length of the second array, offset by one because of the zero index.\n",
    "st_index = -len(s2) + 1\n",
    "indices = np.arange(st_index, end_index)    \n",
    "print('Linear correlation of s1 and s2:',corr_s1_s2)\n",
    "plt.figure(figsize = (10, 10))\n",
    "plt.stem(indices, corr_s1_s2)\n",
    "plt.xlabel(\"Index of correlation\")\n",
    "plt.ylabel(\"Correlation value\")\n",
    "\n",
    "''' \n",
    "Finding the cross-correlation of s1 with s2. \n",
    "'''\n",
    "\n",
    "## YOUR CODE HERE.\n",
    "# Repeat the above process but switching the arguments of s1 and s2.\n"
   ]
  }
 ],
 "metadata": {
  "anaconda-cloud": {},
  "kernel_info": {
   "name": "python3"
  },
  "kernelspec": {
   "display_name": "Python 2",
   "language": "python",
   "name": "python2"
  },
  "language_info": {
   "codemirror_mode": {
    "name": "ipython",
    "version": 2
   },
   "file_extension": ".py",
   "mimetype": "text/x-python",
   "name": "python",
   "nbconvert_exporter": "python",
   "pygments_lexer": "ipython2",
   "version": "2.7.14"
  },
  "nteract": {
   "version": "0.12.3"
  }
 },
 "nbformat": 4,
 "nbformat_minor": 1
}
