{
 "cells": [
  {
   "cell_type": "code",
   "execution_count": 1,
   "metadata": {},
   "outputs": [
    {
     "name": "stdout",
     "output_type": "stream",
     "text": [
      "Populating the interactive namespace from numpy and matplotlib\n"
     ]
    }
   ],
   "source": [
    "%pylab inline\n",
    "import numpy as np\n",
    "import csv\n",
    "from scipy import linalg\n",
    "import matplotlib.pyplot as plt"
   ]
  },
  {
   "cell_type": "code",
   "execution_count": 2,
   "metadata": {},
   "outputs": [],
   "source": [
    "def least_squares(A, b):\n",
    "    return np.linalg.inv(A.T.dot(A)).dot(A.T).dot(b)"
   ]
  },
  {
   "cell_type": "code",
   "execution_count": 3,
   "metadata": {},
   "outputs": [],
   "source": [
    "#generate data\n",
    "center = np.array([2,3])\n",
    "x_dia = 2;\n",
    "y_dia = 3;\n",
    "\n",
    "number_of_points = 20;\n",
    "init_points = np.repeat(center, number_of_points).reshape([2,number_of_points])\n",
    "theta = np.linspace(-3*pi/4,3*pi/4,number_of_points)\n",
    "points = np.zeros([2,number_of_points])\n",
    "points[0,:] = init_points[0,:] + x_dia*cos(theta)\n",
    "points[1,:] = init_points[1,:] + x_dia*sin(theta)\n",
    "\n",
    "rotation_matrix = np.array([[cos(pi/6), -sin(pi/6)] , [sin(pi/6), cos(pi/6)]])\n",
    "rot_points = np.dot(rotation_matrix, points)\n",
    "\n",
    "planet_data = rot_points.T + np.random.normal(0,0.1,[2,number_of_points]).T"
   ]
  },
  {
   "cell_type": "code",
   "execution_count": 4,
   "metadata": {},
   "outputs": [
    {
     "data": {
      "text/plain": [
       "array([[-0.54533825,  1.66849219],\n",
       "       [ 0.18806894,  1.7990436 ],\n",
       "       [ 0.72193683,  1.61203809],\n",
       "       [ 1.0735119 ,  1.89424186],\n",
       "       [ 1.52948828,  1.87354168],\n",
       "       [ 1.84269271,  2.44513058],\n",
       "       [ 2.15541283,  2.62887809],\n",
       "       [ 2.19855867,  3.52081662],\n",
       "       [ 1.96577765,  4.03836785],\n",
       "       [ 2.15778201,  4.23705187],\n",
       "       [ 1.886722  ,  4.81868465],\n",
       "       [ 1.45351972,  5.14394269],\n",
       "       [ 1.11808982,  5.40035652],\n",
       "       [ 0.69395806,  5.46611961],\n",
       "       [ 0.1179742 ,  5.65546972],\n",
       "       [-0.49544434,  5.52031048],\n",
       "       [-0.76702431,  5.36973344],\n",
       "       [-1.12365657,  4.85992517],\n",
       "       [-1.60842052,  4.64998044],\n",
       "       [-1.71147179,  4.10081319]])"
      ]
     },
     "execution_count": 4,
     "metadata": {},
     "output_type": "execute_result"
    }
   ],
   "source": [
    "planet_data ## x,y pairs for the planet data"
   ]
  },
  {
   "cell_type": "code",
   "execution_count": 5,
   "metadata": {},
   "outputs": [
    {
     "data": {
      "text/plain": [
       "[<matplotlib.lines.Line2D at 0x7fc078106040>]"
      ]
     },
     "execution_count": 5,
     "metadata": {},
     "output_type": "execute_result"
    },
    {
     "data": {
      "image/png": "[encoded data removed]",
      "text/plain": [
       "<Figure size 432x288 with 1 Axes>"
      ]
     },
     "metadata": {
      "needs_background": "light"
     },
     "output_type": "display_data"
    }
   ],
   "source": [
    "plt.plot(planet_data[:,0], planet_data[:,1], 'ro')"
   ]
  },
  {
   "cell_type": "code",
   "execution_count": 6,
   "metadata": {},
   "outputs": [],
   "source": [
    "A = (np.vstack((planet_data[:,0]**2, planet_data[:,0]*planet_data[:,1], planet_data[:,1]**2, planet_data[:,0], planet_data[:,1]))).T"
   ]
  },
  {
   "cell_type": "code",
   "execution_count": 7,
   "metadata": {},
   "outputs": [],
   "source": [
    "b = np.ones([number_of_points,1])"
   ]
  },
  {
   "cell_type": "code",
   "execution_count": 8,
   "metadata": {},
   "outputs": [],
   "source": [
    "xhat = least_squares(A, b)"
   ]
  },
  {
   "cell_type": "code",
   "execution_count": 9,
   "metadata": {},
   "outputs": [],
   "source": [
    "a_1 = xhat[0]\n",
    "b_1 = xhat[1]\n",
    "c_1 = xhat[2]\n",
    "d_1 = xhat[3]\n",
    "e_1 = xhat[4]"
   ]
  },
  {
   "cell_type": "code",
   "execution_count": 10,
   "metadata": {},
   "outputs": [
    {
     "data": {
      "text/plain": [
       "array([[0.92570776],\n",
       "       [1.05530406],\n",
       "       [0.96680049],\n",
       "       [1.03713957],\n",
       "       [0.93985575],\n",
       "       [1.02267493],\n",
       "       [0.95410268],\n",
       "       [1.02440958],\n",
       "       [1.08477325],\n",
       "       [0.9877977 ],\n",
       "       [0.96561408],\n",
       "       [0.99785368],\n",
       "       [0.98135161],\n",
       "       [1.01985243],\n",
       "       [0.97106007],\n",
       "       [0.98475846],\n",
       "       [0.9984218 ],\n",
       "       [1.07349799],\n",
       "       [0.96777326],\n",
       "       [1.00653767]])"
      ]
     },
     "execution_count": 10,
     "metadata": {},
     "output_type": "execute_result"
    }
   ],
   "source": [
    "np.dot(A,xhat)"
   ]
  },
  {
   "cell_type": "code",
   "execution_count": 11,
   "metadata": {},
   "outputs": [
    {
     "name": "stderr",
     "output_type": "stream",
     "text": [
      "<ipython-input-11-7a6f1c33254d>:4: RuntimeWarning: invalid value encountered in sqrt\n",
      "  y_range_1 = (-(e_1 + b_1*x_range) + np.sqrt((b_1**2 - 4*a_1*c_1)*x_range**2 + (2*e_1*b_1 - 4*c_1*d_1)*x_range + (e_1**2 + 4*c_1)))/(2*c_1)\n",
      "<ipython-input-11-7a6f1c33254d>:5: RuntimeWarning: invalid value encountered in sqrt\n",
      "  y_range_2 = (-(e_1 + b_1*x_range) - np.sqrt((b_1**2 - 4*a_1*c_1)*x_range**2 + (2*e_1*b_1 - 4*c_1*d_1)*x_range + (e_1**2 + 4*c_1)))/(2*c_1)\n"
     ]
    },
    {
     "data": {
      "image/png": "[encoded data removed]",
      "text/plain": [
       "<Figure size 432x288 with 1 Axes>"
      ]
     },
     "metadata": {
      "needs_background": "light"
     },
     "output_type": "display_data"
    }
   ],
   "source": [
    "#plotting hacks\n",
    "no_points_curve = 1000\n",
    "x_range = linspace(-2.5, 2.5, no_points_curve)\n",
    "y_range_1 = (-(e_1 + b_1*x_range) + np.sqrt((b_1**2 - 4*a_1*c_1)*x_range**2 + (2*e_1*b_1 - 4*c_1*d_1)*x_range + (e_1**2 + 4*c_1)))/(2*c_1)\n",
    "y_range_2 = (-(e_1 + b_1*x_range) - np.sqrt((b_1**2 - 4*a_1*c_1)*x_range**2 + (2*e_1*b_1 - 4*c_1*d_1)*x_range + (e_1**2 + 4*c_1)))/(2*c_1)\n",
    "x_range_no_nan = x_range[~isnan(y_range_1)]\n",
    "y_range_1_no_nan = y_range_1[~isnan(y_range_1)]\n",
    "y_range_2_no_nan = y_range_2[~isnan(y_range_1)]\n",
    "\n",
    "plt.plot(planet_data[:,0], planet_data[:,1], 'ro')\n",
    "plt.plot(x_range_no_nan, y_range_1_no_nan, 'b')\n",
    "plt.plot(x_range_no_nan, y_range_2_no_nan, 'b')\n",
    "plt.show()"
   ]
  },
  {
   "cell_type": "code",
   "execution_count": 12,
   "metadata": {},
   "outputs": [
    {
     "data": {
      "text/plain": [
       "array([[ 2.97393805e-01, -9.09892610e-01,  2.78386620e+00,\n",
       "        -5.45338248e-01,  1.66849219e+00],\n",
       "       [ 3.53699272e-02,  3.38344227e-01,  3.23655786e+00,\n",
       "         1.88068943e-01,  1.79904360e+00],\n",
       "       [ 5.21192791e-01,  1.16378967e+00,  2.59866679e+00,\n",
       "         7.21936833e-01,  1.61203809e+00],\n",
       "       [ 1.15242779e+00,  2.03349116e+00,  3.58815221e+00,\n",
       "         1.07351190e+00,  1.89424186e+00],\n",
       "       [ 2.33933438e+00,  2.86556003e+00,  3.51015843e+00,\n",
       "         1.52948828e+00,  1.87354168e+00],\n",
       "       [ 3.39551642e+00,  4.50562430e+00,  5.97866355e+00,\n",
       "         1.84269271e+00,  2.44513058e+00],\n",
       "       [ 4.64580446e+00,  5.66631757e+00,  6.91100004e+00,\n",
       "         2.15541283e+00,  2.62887809e+00],\n",
       "       [ 4.83366023e+00,  7.74072191e+00,  1.23961497e+01,\n",
       "         2.19855867e+00,  3.52081662e+00],\n",
       "       [ 3.86428179e+00,  7.93853328e+00,  1.63084149e+01,\n",
       "         1.96577765e+00,  4.03836785e+00],\n",
       "       [ 4.65602319e+00,  9.14263428e+00,  1.79526085e+01,\n",
       "         2.15778201e+00,  4.23705187e+00],\n",
       "       [ 3.55971991e+00,  9.09151834e+00,  2.32197217e+01,\n",
       "         1.88672200e+00,  4.81868465e+00],\n",
       "       [ 2.11271957e+00,  7.47682212e+00,  2.64601464e+01,\n",
       "         1.45351972e+00,  5.14394269e+00],\n",
       "       [ 1.25012485e+00,  6.03808366e+00,  2.91638505e+01,\n",
       "         1.11808982e+00,  5.40035652e+00],\n",
       "       [ 4.81577791e-01,  3.79325777e+00,  2.98784635e+01,\n",
       "         6.93958062e-01,  5.46611961e+00],\n",
       "       [ 1.39179117e-02,  6.67199512e-01,  3.19843377e+01,\n",
       "         1.17974199e-01,  5.65546972e+00],\n",
       "       [ 2.45465095e-01, -2.73500659e+00,  3.04738278e+01,\n",
       "        -4.95444341e-01,  5.52031048e+00],\n",
       "       [ 5.88326287e-01, -4.11871607e+00,  2.88340372e+01,\n",
       "        -7.67024307e-01,  5.36973344e+00],\n",
       "       [ 1.26260408e+00, -5.46088683e+00,  2.36188727e+01,\n",
       "        -1.12365657e+00,  4.85992517e+00],\n",
       "       [ 2.58701659e+00, -7.47912398e+00,  2.16223181e+01,\n",
       "        -1.60842052e+00,  4.64998044e+00],\n",
       "       [ 2.92913570e+00, -7.01842610e+00,  1.68166688e+01,\n",
       "        -1.71147179e+00,  4.10081319e+00]])"
      ]
     },
     "execution_count": 12,
     "metadata": {},
     "output_type": "execute_result"
    }
   ],
   "source": [
    "A"
   ]
  },
  {
   "cell_type": "code",
   "execution_count": 13,
   "metadata": {},
   "outputs": [
    {
     "data": {
      "text/plain": [
       "array([[ 2.97393805e-01, -9.09892610e-01,  2.78386620e+00,\n",
       "        -5.45338248e-01,  1.66849219e+00],\n",
       "       [ 3.53699272e-02,  3.38344227e-01,  3.23655786e+00,\n",
       "         1.88068943e-01,  1.79904360e+00],\n",
       "       [ 5.21192791e-01,  1.16378967e+00,  2.59866679e+00,\n",
       "         7.21936833e-01,  1.61203809e+00],\n",
       "       [ 1.15242779e+00,  2.03349116e+00,  3.58815221e+00,\n",
       "         1.07351190e+00,  1.89424186e+00],\n",
       "       [ 2.33933438e+00,  2.86556003e+00,  3.51015843e+00,\n",
       "         1.52948828e+00,  1.87354168e+00],\n",
       "       [ 3.39551642e+00,  4.50562430e+00,  5.97866355e+00,\n",
       "         1.84269271e+00,  2.44513058e+00],\n",
       "       [ 4.64580446e+00,  5.66631757e+00,  6.91100004e+00,\n",
       "         2.15541283e+00,  2.62887809e+00],\n",
       "       [ 4.83366023e+00,  7.74072191e+00,  1.23961497e+01,\n",
       "         2.19855867e+00,  3.52081662e+00],\n",
       "       [ 3.86428179e+00,  7.93853328e+00,  1.63084149e+01,\n",
       "         1.96577765e+00,  4.03836785e+00],\n",
       "       [ 4.65602319e+00,  9.14263428e+00,  1.79526085e+01,\n",
       "         2.15778201e+00,  4.23705187e+00],\n",
       "       [ 3.55971991e+00,  9.09151834e+00,  2.32197217e+01,\n",
       "         1.88672200e+00,  4.81868465e+00],\n",
       "       [ 2.11271957e+00,  7.47682212e+00,  2.64601464e+01,\n",
       "         1.45351972e+00,  5.14394269e+00],\n",
       "       [ 1.25012485e+00,  6.03808366e+00,  2.91638505e+01,\n",
       "         1.11808982e+00,  5.40035652e+00],\n",
       "       [ 4.81577791e-01,  3.79325777e+00,  2.98784635e+01,\n",
       "         6.93958062e-01,  5.46611961e+00],\n",
       "       [ 1.39179117e-02,  6.67199512e-01,  3.19843377e+01,\n",
       "         1.17974199e-01,  5.65546972e+00],\n",
       "       [ 2.45465095e-01, -2.73500659e+00,  3.04738278e+01,\n",
       "        -4.95444341e-01,  5.52031048e+00],\n",
       "       [ 5.88326287e-01, -4.11871607e+00,  2.88340372e+01,\n",
       "        -7.67024307e-01,  5.36973344e+00],\n",
       "       [ 1.26260408e+00, -5.46088683e+00,  2.36188727e+01,\n",
       "        -1.12365657e+00,  4.85992517e+00],\n",
       "       [ 2.58701659e+00, -7.47912398e+00,  2.16223181e+01,\n",
       "        -1.60842052e+00,  4.64998044e+00],\n",
       "       [ 2.92913570e+00, -7.01842610e+00,  1.68166688e+01,\n",
       "        -1.71147179e+00,  4.10081319e+00]])"
      ]
     },
     "execution_count": 13,
     "metadata": {},
     "output_type": "execute_result"
    }
   ],
   "source": [
    "A"
   ]
  },
  {
   "cell_type": "code",
   "execution_count": null,
   "metadata": {},
   "outputs": [],
   "source": []
  }
 ],
 "metadata": {
  "kernelspec": {
   "display_name": "Python 3 (ipykernel)",
   "language": "python",
   "name": "python3"
  },
  "language_info": {
   "codemirror_mode": {
    "name": "ipython",
    "version": 3
   },
   "file_extension": ".py",
   "mimetype": "text/x-python",
   "name": "python",
   "nbconvert_exporter": "python",
   "pygments_lexer": "ipython3",
   "version": "3.9.12"
  }
 },
 "nbformat": 4,
 "nbformat_minor": 1
}
